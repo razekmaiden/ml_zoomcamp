{
 "cells": [
  {
   "cell_type": "markdown",
   "id": "ab538499",
   "metadata": {},
   "source": [
    "# 5.10 Homework\n",
    "---\n",
    "In this homework, we'll use the churn prediction model trained on a smaller set of features."
   ]
  },
  {
   "cell_type": "markdown",
   "id": "1c6807ae",
   "metadata": {},
   "source": [
    "## Question 1\n",
    "---\n",
    "- Install Pipenv\n",
    "- What's the version of pipenv you installed?\n",
    "- Use --version to find out"
   ]
  },
  {
   "cell_type": "code",
   "execution_count": 1,
   "id": "3e535197",
   "metadata": {
    "scrolled": true
   },
   "outputs": [
    {
     "name": "stdout",
     "output_type": "stream",
     "text": [
      "\u001b[39m\u001b[1mpipenv\u001b[39m\u001b[22m, version 2021.5.29\n",
      "\u001b[0m"
     ]
    }
   ],
   "source": [
    "!pipenv --version"
   ]
  },
  {
   "cell_type": "code",
   "execution_count": 2,
   "id": "9d87e3dc",
   "metadata": {},
   "outputs": [
    {
     "name": "stdout",
     "output_type": "stream",
     "text": [
      "[ANSWER-1] The installed version of pipenv is: 2021.5.29\n"
     ]
    }
   ],
   "source": [
    "print(\"[ANSWER-1] The installed version of pipenv is: 2021.5.29\")"
   ]
  },
  {
   "cell_type": "markdown",
   "id": "0ffb8229",
   "metadata": {},
   "source": [
    "## Question 2\n",
    "---\n",
    "- Use Pipenv to install Scikit-Learn version 1.0\n",
    "- What's the first hash for scikit-learn you get in Pipfile.lock?"
   ]
  },
  {
   "cell_type": "code",
   "execution_count": 3,
   "id": "b1cd4146",
   "metadata": {},
   "outputs": [
    {
     "name": "stdout",
     "output_type": "stream",
     "text": [
      "[ANSWER-2] The first hash for scikit-learn is:\n",
      "sha256:121f78d6564000dc5e968394f45aac87981fcaaf2be40cfcd8f07b2baa1e1829\n"
     ]
    }
   ],
   "source": [
    "import json\n",
    "\n",
    "with open(\"Pipfile.lock\") as f:\n",
    "    data = json.load(f)\n",
    "    first_hash = data['default']['scikit-learn']['hashes'][0]\n",
    "\n",
    "print(f\"[ANSWER-2] The first hash for scikit-learn is:\\n{first_hash}\")"
   ]
  },
  {
   "cell_type": "markdown",
   "id": "c219ef50",
   "metadata": {},
   "source": [
    "### Models\n",
    "---\n",
    "We've prepared a dictionary vectorizer and a model.\n",
    "\n",
    "They were trained (roughly) using this code:\n",
    "\n",
    "```\n",
    "features = ['tenure', 'monthlycharges', 'contract']\n",
    "dicts = df[features].to_dict(orient='records')\n",
    "dv = DictVectorizer(sparse=False)\n",
    "X = dv.fit_transform(dicts)\n",
    "model = LogisticRegression().fit(X, y)\n",
    "```\n",
    "\n",
    "\n",
    "And then saved with Pickle. Load them:\n",
    "\n",
    "- DictVectorizer\n",
    "- LogisticRegression\n"
   ]
  },
  {
   "cell_type": "code",
   "execution_count": 4,
   "id": "35c269f0",
   "metadata": {},
   "outputs": [],
   "source": [
    "import pickle\n",
    "\n",
    "with open(\"homework/model1.bin\", 'rb') as f_model:\n",
    "    model = pickle.load(f_model)\n",
    "\n",
    "with open(\"homework/dv.bin\", 'rb') as f_dv:\n",
    "    dv = pickle.load(f_dv)\n"
   ]
  },
  {
   "cell_type": "code",
   "execution_count": 5,
   "id": "63adf703",
   "metadata": {},
   "outputs": [
    {
     "data": {
      "text/plain": [
       "LogisticRegression()"
      ]
     },
     "execution_count": 5,
     "metadata": {},
     "output_type": "execute_result"
    }
   ],
   "source": [
    "model"
   ]
  },
  {
   "cell_type": "code",
   "execution_count": 6,
   "id": "5cb43274",
   "metadata": {},
   "outputs": [
    {
     "data": {
      "text/plain": [
       "DictVectorizer(sparse=False)"
      ]
     },
     "execution_count": 6,
     "metadata": {},
     "output_type": "execute_result"
    }
   ],
   "source": [
    "dv"
   ]
  },
  {
   "cell_type": "markdown",
   "id": "462c4c86",
   "metadata": {},
   "source": [
    "## Question 3\n",
    "---\n",
    "Let's use these models!\n",
    "\n",
    "- Write a script for loading these models\n",
    "- Score this customer:\n",
    "\n",
    "> {\"contract\": \"two_year\", \"tenure\": 12, \"monthlycharges\": 19.7}\n",
    "\n",
    "What's the probability that this customer is churning?\n",
    "\n"
   ]
  },
  {
   "cell_type": "code",
   "execution_count": 7,
   "id": "94b16d3d",
   "metadata": {},
   "outputs": [],
   "source": [
    "def make_pred(customer, model, dv):\n",
    "    X = dv.transform([customer])\n",
    "    return model.predict_proba(X)[0, 1]"
   ]
  },
  {
   "cell_type": "code",
   "execution_count": 8,
   "id": "43d71a73",
   "metadata": {},
   "outputs": [
    {
     "name": "stdout",
     "output_type": "stream",
     "text": [
      "[ANSWER-3] The probability that this customer is churning is: 0.115\n"
     ]
    }
   ],
   "source": [
    "customer = {\"contract\": \"two_year\", \"tenure\": 12, \"monthlycharges\": 19.7}\n",
    "pred = make_pred(customer, model, dv)\n",
    "\n",
    "print(f\"[ANSWER-3] The probability that this customer is churning is: {round(pred, 3)}\")"
   ]
  },
  {
   "cell_type": "markdown",
   "id": "77d68ec8",
   "metadata": {},
   "source": [
    "## Question 4\n",
    "---\n",
    "Now let's serve this model as a web service\n",
    "\n",
    "- Install Flask and Gunicorn (or waitress, if you're on Windows)\n",
    "- Write Flask code for serving the model\n",
    "- Now score this customer using requests:\n",
    "\n",
    "```\n",
    "url = \"YOUR_URL\"\n",
    "customer = {\"contract\": \"two_year\", \"tenure\": 1, \"monthlycharges\": 10}\n",
    "requests.post(url, json=customer).json()\n",
    "```\n",
    "\n",
    "What's the probability that this customer is churning?"
   ]
  },
  {
   "cell_type": "markdown",
   "id": "7b569ce1",
   "metadata": {},
   "source": [
    "**I execute this line of code in the console**\n",
    "\n",
    ">gunicorn --bind 0.0.0.0:9999 churn_service:app"
   ]
  },
  {
   "cell_type": "code",
   "execution_count": 15,
   "id": "65e7ecb2",
   "metadata": {},
   "outputs": [
    {
     "name": "stdout",
     "output_type": "stream",
     "text": [
      "[ANSWER-4] The probability that this customer is churning is: 0.999\n"
     ]
    }
   ],
   "source": [
    "import requests\n",
    "\n",
    "url = \"http://localhost:9999/predict\"\n",
    "customer = {\"contract\": \"two_year\", \"tenure\": 1, \"monthlycharges\": 10}\n",
    "pred = requests.post(url, json=customer).json()\n",
    "\n",
    "print(f\"[ANSWER-4] The probability that this customer is churning is: {round(pred['churn_probability'], 3)}\")"
   ]
  },
  {
   "cell_type": "markdown",
   "id": "f4fe750f",
   "metadata": {},
   "source": [
    "## Docker\n",
    "---\n",
    "Install Docker. We will use it for the next two questions.\n",
    "\n",
    "For these questions, I prepared a base image: **agrigorev/zoomcamp-model:3.8.12-slim**. You'll need to use it (see Question 5 for an example).\n",
    "\n",
    "This image is based on **python:3.8.12-slim** and has a logistic regression model (a different one) as well a dictionary vectorizer inside.\n",
    "\n",
    "This is how the Dockerfile for this image looks like:\n",
    "\n",
    "```\n",
    "FROM python:3.8.12-slim\n",
    "WORKDIR /app\n",
    "COPY [\"model2.bin\", \"dv.bin\", \"./\"]\n",
    "```\n",
    "\n",
    "I already built it and then pushed it to **agrigorev/zoomcamp-model:3.8.12-slim**.\n",
    "\n",
    "> Note: You don't need to build this docker image, it's just for your reference."
   ]
  },
  {
   "cell_type": "markdown",
   "id": "738d7335",
   "metadata": {},
   "source": [
    "## Question 5\n",
    "Now create your own Dockerfile based on the image I prepared.\n",
    "\n",
    "It should start like that:\n",
    "\n",
    "```\n",
    "FROM agrigorev/zoomcamp-model:3.8.12-slim\n",
    "# add your stuff here\n",
    "```\n",
    "\n",
    "Now complete it:\n",
    "\n",
    "- Install all the dependencies form the Pipenv file\n",
    "- Copy your Flask script\n",
    "- Run it with gunicorn\n",
    "\n",
    "When you build your image, what's the digest for **agrigorev/zoomcamp-model:3.8.12-slim**?\n",
    "\n",
    "Look at the first step of your build log. It should look something like that:\n",
    "\n",
    "```\n",
    "Step 1/3 : FROM python:3.8.12-slim\n",
    " ---> 2e56f6b0af69\n",
    "```\n"
   ]
  },
  {
   "cell_type": "markdown",
   "id": "f9cbcc91",
   "metadata": {},
   "source": [
    "**After I build the image with the following commands**\n",
    "\n",
    ">docker build -t zoomcamp_homework_5 .\n",
    "\n",
    "**I got the log:**\n",
    "\n",
    "```\n",
    "Sending build context to Docker daemon  75.26kB\n",
    "Step 1/7 : FROM agrigorev/zoomcamp-model:3.8.12-slim\n",
    "3.8.12-slim: Pulling from agrigorev/zoomcamp-model\n",
    "bd897bb914af: Pull complete \n",
    "aee78d822213: Pull complete \n",
    "6d9f6b5c1e71: Pull complete \n",
    "cf9f290bd6be: Pull complete \n",
    "5e4b501cbda5: Pull complete \n",
    "bd464adb9682: Pull complete \n",
    "c803b748156d: Pull complete \n",
    "Digest: sha256:1ee036b365452f8a1da0dbc3bf5e7dd0557cfd33f0e56b28054d1dbb9c852023\n",
    "Status: Downloaded newer image for agrigorev/zoomcamp-model:3.8.12-slim\n",
    " ---> f0f43f7bc6e0\n",
    "```\n",
    "\n"
   ]
  },
  {
   "cell_type": "code",
   "execution_count": 16,
   "id": "97418477",
   "metadata": {},
   "outputs": [
    {
     "name": "stdout",
     "output_type": "stream",
     "text": [
      "[ANSWER-5] The digest for agrigorev/zoomcamp-model:3.8.12-slim is: f0f43f7bc6e0\n"
     ]
    }
   ],
   "source": [
    "print(\"[ANSWER-5] The digest for agrigorev/zoomcamp-model:3.8.12-slim is: f0f43f7bc6e0\")"
   ]
  },
  {
   "cell_type": "markdown",
   "id": "4e323352",
   "metadata": {},
   "source": [
    "## Question 6\n",
    "---\n",
    "Let's run your docker container!\n",
    "\n",
    "After running it, score the same customer:\n",
    "\n",
    "```\n",
    "url = \"YOUR_URL\"\n",
    "customer = {\"contract\": \"two_year\", \"tenure\": 12, \"monthlycharges\": 10}\n",
    "requests.post(url, json=customer).json()\n",
    "```\n",
    "\n",
    "What's the probability that this customer is churning?"
   ]
  },
  {
   "cell_type": "markdown",
   "id": "e11e9079",
   "metadata": {},
   "source": [
    "**I run the container with th following line**\n",
    "\n",
    ">docker run -it --rm -p 9999:9999 zoomcamp_homework_5"
   ]
  },
  {
   "cell_type": "code",
   "execution_count": 19,
   "id": "dabbf12a",
   "metadata": {},
   "outputs": [
    {
     "name": "stdout",
     "output_type": "stream",
     "text": [
      "[ANSWER-6] The probability that this customer is churning is: 0.728\n"
     ]
    }
   ],
   "source": [
    "import requests\n",
    "\n",
    "url = \"http://localhost:9999/predict\"\n",
    "customer = {\"contract\": \"two_year\", \"tenure\": 12, \"monthlycharges\": 10}\n",
    "pred = requests.post(url, json=customer).json()\n",
    "\n",
    "print(f\"[ANSWER-6] The probability that this customer is churning is: {round(pred['churn_probability'], 3)}\")"
   ]
  },
  {
   "cell_type": "markdown",
   "id": "e74b7bcd",
   "metadata": {},
   "source": [
    "## Testing Heroku Service"
   ]
  },
  {
   "cell_type": "code",
   "execution_count": 3,
   "id": "d319d0bf",
   "metadata": {},
   "outputs": [
    {
     "name": "stdout",
     "output_type": "stream",
     "text": [
      "The probability that this customer is churning is: 0.999\n"
     ]
    }
   ],
   "source": [
    "import requests\n",
    "\n",
    "url = \"https://churn-service.herokuapp.com/predict\"\n",
    "customer = {\"contract\": \"two_year\", \"tenure\": 1, \"monthlycharges\": 10}\n",
    "pred = requests.post(url, json=customer).json()\n",
    "\n",
    "print(f\"The probability that this customer is churning is: {round(pred['churn_probability'], 3)}\")"
   ]
  },
  {
   "cell_type": "code",
   "execution_count": null,
   "id": "8902e96d",
   "metadata": {},
   "outputs": [],
   "source": []
  }
 ],
 "metadata": {
  "kernelspec": {
   "display_name": "Python 3 (ipykernel)",
   "language": "python",
   "name": "python3"
  },
  "language_info": {
   "codemirror_mode": {
    "name": "ipython",
    "version": 3
   },
   "file_extension": ".py",
   "mimetype": "text/x-python",
   "name": "python",
   "nbconvert_exporter": "python",
   "pygments_lexer": "ipython3",
   "version": "3.8.12"
  }
 },
 "nbformat": 4,
 "nbformat_minor": 5
}
