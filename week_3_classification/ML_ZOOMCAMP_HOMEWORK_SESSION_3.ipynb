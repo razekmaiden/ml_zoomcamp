{
 "cells": [
  {
   "cell_type": "markdown",
   "id": "b69d9c60",
   "metadata": {},
   "source": [
    "# ML ZoomCamp Homework Session 3\n",
    "\n",
    "This homework was described in: [homework.md](https://github.com/alexeygrigorev/mlbookcamp-code/blob/master/course-zoomcamp/02-regression/homework.md)\n",
    "\n",
    "- [Getting the data](#get-data)\n",
    "- [Exploratory Data Analysis (EDA)](#eda)\n",
    "- [Question 1](#question-1)\n",
    "- [Question 2](#question-2)\n",
    "- [Question 3](#question-3)\n",
    "- [Question 4](#question-4)\n",
    "- [Question 5](#question-5)\n",
    "- [Question 6](#question-6)"
   ]
  },
  {
   "cell_type": "markdown",
   "id": "2fc23ed5",
   "metadata": {},
   "source": [
    "### Import Modules"
   ]
  },
  {
   "cell_type": "code",
   "execution_count": 139,
   "id": "3c43fa48",
   "metadata": {},
   "outputs": [],
   "source": [
    "%matplotlib inline\n",
    "\n",
    "import os\n",
    "import numpy as np\n",
    "import pandas as pd\n",
    "\n",
    "import matplotlib.pyplot as plt\n",
    "import seaborn as sns\n",
    "\n",
    "from sklearn.model_selection import train_test_split\n",
    "from sklearn.metrics import mutual_info_score\n",
    "from sklearn.feature_extraction import DictVectorizer\n",
    "from sklearn.linear_model import LogisticRegression\n",
    "from sklearn.linear_model import Ridge\n",
    "\n",
    "import pprint"
   ]
  },
  {
   "cell_type": "markdown",
   "id": "b5f04126",
   "metadata": {},
   "source": [
    "### Getting the data <a class=\"anchor\" id=\"get-data\"></a>\n",
    "\n",
    "For this homework, we'll use the New York City Airbnb Open Data. Available [here](https://raw.githubusercontent.com/alexeygrigorev/datasets/master/AB_NYC_2019.csv)"
   ]
  },
  {
   "cell_type": "code",
   "execution_count": 2,
   "id": "666adef8",
   "metadata": {},
   "outputs": [
    {
     "data": {
      "text/html": [
       "<div>\n",
       "<style scoped>\n",
       "    .dataframe tbody tr th:only-of-type {\n",
       "        vertical-align: middle;\n",
       "    }\n",
       "\n",
       "    .dataframe tbody tr th {\n",
       "        vertical-align: top;\n",
       "    }\n",
       "\n",
       "    .dataframe thead th {\n",
       "        text-align: right;\n",
       "    }\n",
       "</style>\n",
       "<table border=\"1\" class=\"dataframe\">\n",
       "  <thead>\n",
       "    <tr style=\"text-align: right;\">\n",
       "      <th></th>\n",
       "      <th>neighbourhood_group</th>\n",
       "      <th>room_type</th>\n",
       "      <th>latitude</th>\n",
       "      <th>longitude</th>\n",
       "      <th>price</th>\n",
       "      <th>minimum_nights</th>\n",
       "      <th>number_of_reviews</th>\n",
       "      <th>reviews_per_month</th>\n",
       "      <th>calculated_host_listings_count</th>\n",
       "      <th>availability_365</th>\n",
       "    </tr>\n",
       "  </thead>\n",
       "  <tbody>\n",
       "    <tr>\n",
       "      <th>0</th>\n",
       "      <td>Brooklyn</td>\n",
       "      <td>Private room</td>\n",
       "      <td>40.64749</td>\n",
       "      <td>-73.97237</td>\n",
       "      <td>149</td>\n",
       "      <td>1</td>\n",
       "      <td>9</td>\n",
       "      <td>0.21</td>\n",
       "      <td>6</td>\n",
       "      <td>365</td>\n",
       "    </tr>\n",
       "    <tr>\n",
       "      <th>1</th>\n",
       "      <td>Manhattan</td>\n",
       "      <td>Entire home/apt</td>\n",
       "      <td>40.75362</td>\n",
       "      <td>-73.98377</td>\n",
       "      <td>225</td>\n",
       "      <td>1</td>\n",
       "      <td>45</td>\n",
       "      <td>0.38</td>\n",
       "      <td>2</td>\n",
       "      <td>355</td>\n",
       "    </tr>\n",
       "    <tr>\n",
       "      <th>2</th>\n",
       "      <td>Manhattan</td>\n",
       "      <td>Private room</td>\n",
       "      <td>40.80902</td>\n",
       "      <td>-73.94190</td>\n",
       "      <td>150</td>\n",
       "      <td>3</td>\n",
       "      <td>0</td>\n",
       "      <td>NaN</td>\n",
       "      <td>1</td>\n",
       "      <td>365</td>\n",
       "    </tr>\n",
       "    <tr>\n",
       "      <th>3</th>\n",
       "      <td>Brooklyn</td>\n",
       "      <td>Entire home/apt</td>\n",
       "      <td>40.68514</td>\n",
       "      <td>-73.95976</td>\n",
       "      <td>89</td>\n",
       "      <td>1</td>\n",
       "      <td>270</td>\n",
       "      <td>4.64</td>\n",
       "      <td>1</td>\n",
       "      <td>194</td>\n",
       "    </tr>\n",
       "    <tr>\n",
       "      <th>4</th>\n",
       "      <td>Manhattan</td>\n",
       "      <td>Entire home/apt</td>\n",
       "      <td>40.79851</td>\n",
       "      <td>-73.94399</td>\n",
       "      <td>80</td>\n",
       "      <td>10</td>\n",
       "      <td>9</td>\n",
       "      <td>0.10</td>\n",
       "      <td>1</td>\n",
       "      <td>0</td>\n",
       "    </tr>\n",
       "  </tbody>\n",
       "</table>\n",
       "</div>"
      ],
      "text/plain": [
       "  neighbourhood_group        room_type  latitude  longitude  price  \\\n",
       "0            Brooklyn     Private room  40.64749  -73.97237    149   \n",
       "1           Manhattan  Entire home/apt  40.75362  -73.98377    225   \n",
       "2           Manhattan     Private room  40.80902  -73.94190    150   \n",
       "3            Brooklyn  Entire home/apt  40.68514  -73.95976     89   \n",
       "4           Manhattan  Entire home/apt  40.79851  -73.94399     80   \n",
       "\n",
       "   minimum_nights  number_of_reviews  reviews_per_month  \\\n",
       "0               1                  9               0.21   \n",
       "1               1                 45               0.38   \n",
       "2               3                  0                NaN   \n",
       "3               1                270               4.64   \n",
       "4              10                  9               0.10   \n",
       "\n",
       "   calculated_host_listings_count  availability_365  \n",
       "0                               6               365  \n",
       "1                               2               355  \n",
       "2                               1               365  \n",
       "3                               1               194  \n",
       "4                               1                 0  "
      ]
     },
     "execution_count": 2,
     "metadata": {},
     "output_type": "execute_result"
    }
   ],
   "source": [
    "data = 'https://raw.githubusercontent.com/alexeygrigorev/datasets/master/AB_NYC_2019.csv'\n",
    "if not os.path.exists(\"AB_NYC_2019.csv\"):\n",
    "    !wget $data\n",
    "\n",
    "features = ['neighbourhood_group', 'room_type', 'latitude', 'longitude', 'price', 'minimum_nights', 'number_of_reviews', \n",
    "            'reviews_per_month', 'calculated_host_listings_count', 'availability_365']\n",
    "df = pd.read_csv('AB_NYC_2019.csv')\n",
    "df = df[features]\n",
    "df.head()"
   ]
  },
  {
   "cell_type": "code",
   "execution_count": 3,
   "id": "c0e9f78d",
   "metadata": {},
   "outputs": [
    {
     "data": {
      "text/plain": [
       "neighbourhood_group                object\n",
       "room_type                          object\n",
       "latitude                          float64\n",
       "longitude                         float64\n",
       "price                               int64\n",
       "minimum_nights                      int64\n",
       "number_of_reviews                   int64\n",
       "reviews_per_month                 float64\n",
       "calculated_host_listings_count      int64\n",
       "availability_365                    int64\n",
       "dtype: object"
      ]
     },
     "execution_count": 3,
     "metadata": {},
     "output_type": "execute_result"
    }
   ],
   "source": [
    "df.dtypes"
   ]
  },
  {
   "cell_type": "code",
   "execution_count": 4,
   "id": "1a466684",
   "metadata": {},
   "outputs": [
    {
     "name": "stdout",
     "output_type": "stream",
     "text": [
      "(48895, 10) 48895\n"
     ]
    }
   ],
   "source": [
    "print(df.shape, len(df))"
   ]
  },
  {
   "cell_type": "markdown",
   "id": "e37dc26b",
   "metadata": {},
   "source": [
    "### Preparing Data"
   ]
  },
  {
   "cell_type": "code",
   "execution_count": 5,
   "id": "2e37a42b",
   "metadata": {},
   "outputs": [
    {
     "data": {
      "text/plain": [
       "array(['Brooklyn', 'Manhattan', 'Queens', 'Staten Island', 'Bronx'],\n",
       "      dtype=object)"
      ]
     },
     "execution_count": 5,
     "metadata": {},
     "output_type": "execute_result"
    }
   ],
   "source": [
    "df['neighbourhood_group'].unique()"
   ]
  },
  {
   "cell_type": "code",
   "execution_count": 6,
   "id": "08674e39",
   "metadata": {
    "scrolled": true
   },
   "outputs": [
    {
     "data": {
      "text/plain": [
       "array(['Private room', 'Entire home/apt', 'Shared room'], dtype=object)"
      ]
     },
     "execution_count": 6,
     "metadata": {},
     "output_type": "execute_result"
    }
   ],
   "source": [
    "df['room_type'].unique()"
   ]
  },
  {
   "cell_type": "code",
   "execution_count": 7,
   "id": "1c3b5a79",
   "metadata": {},
   "outputs": [],
   "source": [
    "strings = list(df.dtypes[df.dtypes == 'object'].index)\n",
    "for col in strings:\n",
    "    df[col] = df[col].str.lower().str.replace(\" \", \"_\")"
   ]
  },
  {
   "cell_type": "code",
   "execution_count": 8,
   "id": "27061dc4",
   "metadata": {
    "scrolled": false
   },
   "outputs": [
    {
     "data": {
      "text/plain": [
       "array(['brooklyn', 'manhattan', 'queens', 'staten_island', 'bronx'],\n",
       "      dtype=object)"
      ]
     },
     "execution_count": 8,
     "metadata": {},
     "output_type": "execute_result"
    }
   ],
   "source": [
    "df['neighbourhood_group'].unique()"
   ]
  },
  {
   "cell_type": "code",
   "execution_count": 9,
   "id": "8784f9f7",
   "metadata": {},
   "outputs": [
    {
     "data": {
      "text/plain": [
       "array(['private_room', 'entire_home/apt', 'shared_room'], dtype=object)"
      ]
     },
     "execution_count": 9,
     "metadata": {},
     "output_type": "execute_result"
    }
   ],
   "source": [
    "df['room_type'].unique()"
   ]
  },
  {
   "cell_type": "code",
   "execution_count": 10,
   "id": "ef941817",
   "metadata": {},
   "outputs": [
    {
     "data": {
      "text/plain": [
       "array([365, 355, 194,   0, 129, 220, 188,   6,  39, 314, 333,  46, 321,\n",
       "        12,  21, 249, 347, 364, 304, 233,  85,  75, 311,  67, 255, 284,\n",
       "       359, 269, 340,  22,  96, 345, 273, 309,  95, 215, 265, 192, 251,\n",
       "       302, 140, 234, 257,  30, 301, 294, 320, 154, 263, 180, 231, 297,\n",
       "       292, 191,  72, 362, 336, 116,  88, 224, 322, 324, 132, 295, 238,\n",
       "       209, 328,  38,   7, 272,  26, 288, 317, 207, 185, 158,   9, 198,\n",
       "       219, 342, 312, 243, 152, 137, 222, 346, 208, 279, 250, 164, 298,\n",
       "       260, 107, 199, 299,  20, 318, 216, 245, 189, 307, 310, 213, 278,\n",
       "        16, 178, 275, 163,  34, 280,   1, 170, 214, 248, 262, 339,  10,\n",
       "       290, 230,  53, 126,   3,  37, 353, 177, 246, 225,  18, 343, 326,\n",
       "       162, 240, 363, 247, 323, 125,  91, 286,  60,  58, 351, 201, 232,\n",
       "       258, 341, 244, 329, 253, 348,   2,  56,  68, 360,  76,  15, 226,\n",
       "       349,  11, 316, 281, 287,  14,  86, 261, 331,  51, 254, 103,  42,\n",
       "       325,  35, 203,   5, 276, 102,  71,  78,   8, 182,  79,  49, 156,\n",
       "       200, 106, 135,  81, 142, 179,  52, 237, 204, 181, 296, 335, 282,\n",
       "       274,  98, 157, 174, 223, 361, 283, 315,  36, 271, 139, 193, 136,\n",
       "       277, 221, 264, 236,  89,  23, 218, 235, 119, 350, 161, 259,  27,\n",
       "       167, 358,  59, 337,  43,  25, 127, 303, 115, 268,  44,  65, 252,\n",
       "        64, 111,  90, 338,  31, 241, 285, 183,  84, 166,  28,  83, 305,\n",
       "       356, 308, 229, 210, 153, 332, 120, 313,  69, 293,   4, 300,  40,\n",
       "       117, 206, 144, 354,  41, 270, 306,  33,  50,  80,  97, 118, 134,\n",
       "        17, 289, 121, 205,  74,  62,  29, 109, 168, 146, 242, 352, 155,\n",
       "       291, 266, 101, 190, 327, 217, 171, 110,  87, 202,  70, 147, 169,\n",
       "       212, 122, 330,  54, 196,  57,  73, 149, 239,  63, 195,  47, 319,\n",
       "        19, 112, 344,  77, 160, 141,  13,  24, 150, 128, 176, 357, 211,\n",
       "       172, 256, 165,  32, 105, 267, 148,  93,  45, 175, 159,  48, 100,\n",
       "       184, 114, 133, 186, 334,  94, 151, 228, 113,  55,  66, 173, 104,\n",
       "       197,  99, 131, 143, 124, 130, 187, 145, 108, 123,  92,  61, 138,\n",
       "       227,  82])"
      ]
     },
     "execution_count": 10,
     "metadata": {},
     "output_type": "execute_result"
    }
   ],
   "source": [
    "df['availability_365'].unique()"
   ]
  },
  {
   "cell_type": "markdown",
   "id": "788108ef",
   "metadata": {},
   "source": [
    "### Manage missing values"
   ]
  },
  {
   "cell_type": "code",
   "execution_count": 11,
   "id": "0929ec7a",
   "metadata": {
    "scrolled": true
   },
   "outputs": [
    {
     "data": {
      "text/plain": [
       "neighbourhood_group                   0\n",
       "room_type                             0\n",
       "latitude                              0\n",
       "longitude                             0\n",
       "price                                 0\n",
       "minimum_nights                        0\n",
       "number_of_reviews                     0\n",
       "reviews_per_month                 10052\n",
       "calculated_host_listings_count        0\n",
       "availability_365                      0\n",
       "dtype: int64"
      ]
     },
     "execution_count": 11,
     "metadata": {},
     "output_type": "execute_result"
    }
   ],
   "source": [
    "df.isnull().sum()"
   ]
  },
  {
   "cell_type": "code",
   "execution_count": 12,
   "id": "2752396f",
   "metadata": {},
   "outputs": [
    {
     "data": {
      "text/plain": [
       "neighbourhood_group               0\n",
       "room_type                         0\n",
       "latitude                          0\n",
       "longitude                         0\n",
       "price                             0\n",
       "minimum_nights                    0\n",
       "number_of_reviews                 0\n",
       "reviews_per_month                 0\n",
       "calculated_host_listings_count    0\n",
       "availability_365                  0\n",
       "dtype: int64"
      ]
     },
     "execution_count": 12,
     "metadata": {},
     "output_type": "execute_result"
    }
   ],
   "source": [
    "df.fillna(0, inplace=True)\n",
    "df.isnull().sum()"
   ]
  },
  {
   "cell_type": "markdown",
   "id": "58dd86d5",
   "metadata": {},
   "source": [
    "### Question 1 <a class=\"anchor\" id=\"question-1\"></a>\n",
    "What is the most frequent observation (mode) for the column 'neighbourhood_group'?"
   ]
  },
  {
   "cell_type": "code",
   "execution_count": 15,
   "id": "63658226",
   "metadata": {
    "scrolled": true
   },
   "outputs": [
    {
     "data": {
      "text/plain": [
       "count         48895\n",
       "unique            5\n",
       "top       manhattan\n",
       "freq          21661\n",
       "Name: neighbourhood_group, dtype: object"
      ]
     },
     "execution_count": 15,
     "metadata": {},
     "output_type": "execute_result"
    }
   ],
   "source": [
    "df['neighbourhood_group'].describe()"
   ]
  },
  {
   "cell_type": "code",
   "execution_count": 16,
   "id": "5cb48fd2",
   "metadata": {
    "scrolled": true
   },
   "outputs": [
    {
     "name": "stdout",
     "output_type": "stream",
     "text": [
      "[ANSWER-1] The mode of the column 'neighbourhood_group' is manhattan with 21661 aparitions\n"
     ]
    }
   ],
   "source": [
    "print(f\"[ANSWER-1] The mode of the column 'neighbourhood_group' is {df['neighbourhood_group'].mode().values[0]} with {(df['neighbourhood_group'] == 'manhattan').astype('int').sum()} aparitions\")"
   ]
  },
  {
   "cell_type": "markdown",
   "id": "116f6ebc",
   "metadata": {},
   "source": [
    "### Split the data"
   ]
  },
  {
   "cell_type": "code",
   "execution_count": 17,
   "id": "9ef0fdac",
   "metadata": {},
   "outputs": [],
   "source": [
    "df_full_train, df_test = train_test_split(df, test_size=0.2, random_state=42)\n",
    "df_train, df_val = train_test_split(df_full_train, test_size=0.25, random_state=42)"
   ]
  },
  {
   "cell_type": "code",
   "execution_count": 18,
   "id": "909676df",
   "metadata": {},
   "outputs": [
    {
     "data": {
      "text/plain": [
       "(29337, 9779, 9779)"
      ]
     },
     "execution_count": 18,
     "metadata": {},
     "output_type": "execute_result"
    }
   ],
   "source": [
    "len(df_train), len(df_val), len(df_test)"
   ]
  },
  {
   "cell_type": "code",
   "execution_count": 19,
   "id": "9c6ef896",
   "metadata": {},
   "outputs": [],
   "source": [
    "df_train = df_train.reset_index(drop=True)\n",
    "df_val = df_val.reset_index(drop=True)\n",
    "df_test = df_test.reset_index(drop=True)"
   ]
  },
  {
   "cell_type": "code",
   "execution_count": 20,
   "id": "d38cb6dc",
   "metadata": {},
   "outputs": [],
   "source": [
    "y_train = df_train.price.values\n",
    "y_val = df_val.price.values\n",
    "y_test = df_test.price.values\n",
    "\n",
    "del df_train['price']\n",
    "del df_val['price']\n",
    "del df_test['price']"
   ]
  },
  {
   "cell_type": "markdown",
   "id": "a9ae131f",
   "metadata": {},
   "source": [
    "### Question 2 <a class=\"anchor\" id=\"question-2\"></a>\n",
    "\n",
    "- Create the correlation matrix for the numerical features of your train dataset.\n",
    "    - In a correlation matrix, you compute the correlation coefficient between every pair of features in the dataset.\n",
    "- What are the two features that have the biggest correlation in this dataset?\n",
    "\n",
    "Source: <a href=https://stackoverflow.com/questions/17778394/list-highest-correlation-pairs-from-a-large-correlation-matrix-in-pandas>List Highest Correlation Pairs from a Large Correlation Matrix in Pandas?</a> "
   ]
  },
  {
   "cell_type": "code",
   "execution_count": 21,
   "id": "7a495c8d",
   "metadata": {},
   "outputs": [
    {
     "data": {
      "image/png": "[encoded data removed]",
      "text/plain": [
       "<Figure size 2160x720 with 2 Axes>"
      ]
     },
     "metadata": {
      "needs_background": "light"
     },
     "output_type": "display_data"
    }
   ],
   "source": [
    "\n",
    "numerical = ['latitude', 'longitude',\n",
    "       'minimum_nights', 'number_of_reviews', 'reviews_per_month',\n",
    "       'calculated_host_listings_count', 'availability_365']\n",
    "\n",
    "dfCorr = df_full_train[numerical+ ['price']].corr().abs()\n",
    "plt.figure(figsize=(30,10))\n",
    "sns.heatmap(dfCorr, annot=True, cmap=\"Reds\")\n",
    "plt.show()"
   ]
  },
  {
   "cell_type": "code",
   "execution_count": 22,
   "id": "877001b1",
   "metadata": {},
   "outputs": [
    {
     "name": "stdout",
     "output_type": "stream",
     "text": [
      "[ANSWER-2] The two features with biggest correlation are: number_of_reviews and reviews_per_month\n"
     ]
    }
   ],
   "source": [
    "print(\"[ANSWER-2] The two features with biggest correlation are: number_of_reviews and reviews_per_month\")"
   ]
  },
  {
   "cell_type": "markdown",
   "id": "ab565d53",
   "metadata": {},
   "source": [
    "### Make price binary"
   ]
  },
  {
   "cell_type": "code",
   "execution_count": 23,
   "id": "2dd49aa9",
   "metadata": {},
   "outputs": [
    {
     "data": {
      "text/plain": [
       "152.7206871868289"
      ]
     },
     "execution_count": 23,
     "metadata": {},
     "output_type": "execute_result"
    }
   ],
   "source": [
    "df.price.mean()"
   ]
  },
  {
   "cell_type": "code",
   "execution_count": 118,
   "id": "954056d8",
   "metadata": {
    "scrolled": true
   },
   "outputs": [],
   "source": [
    "above_average = (y_train >= 152).astype('int')\n",
    "above_average_val = (y_val >= 152).astype('int')\n",
    "above_average_test = (y_test >= 152).astype('int')"
   ]
  },
  {
   "cell_type": "markdown",
   "id": "619a4f97",
   "metadata": {},
   "source": [
    "### Question 3 <a class=\"anchor\" id=\"question-3\"></a>\n",
    "\n",
    "- Calculate the mutual information score with the (binarized) price for the two categorical variables that we have. Use the training set only.\n",
    "- Which of these two variables has bigger score?\n",
    "- Round it to 2 decimal digits using round(score, 2)"
   ]
  },
  {
   "cell_type": "code",
   "execution_count": 119,
   "id": "00b21b25",
   "metadata": {},
   "outputs": [
    {
     "data": {
      "text/plain": [
       "room_type              0.14\n",
       "neighbourhood_group    0.05\n",
       "dtype: float64"
      ]
     },
     "execution_count": 119,
     "metadata": {},
     "output_type": "execute_result"
    }
   ],
   "source": [
    "categorical = ['neighbourhood_group', 'room_type']\n",
    "def mutual_info_above_average_score(series):\n",
    "    return round(mutual_info_score(series, above_average), 2)\n",
    "\n",
    "mi = df_train[categorical].apply(mutual_info_above_average_score)\n",
    "mi.sort_values(ascending=False)"
   ]
  },
  {
   "cell_type": "code",
   "execution_count": 28,
   "id": "0f6161f7",
   "metadata": {},
   "outputs": [
    {
     "name": "stdout",
     "output_type": "stream",
     "text": [
      "[ANSWER-3] The variable 'room_type' has bigger mutual information score (0.14)\n"
     ]
    }
   ],
   "source": [
    "print(\"[ANSWER-3] The variable 'room_type' has bigger mutual information score (0.14)\")"
   ]
  },
  {
   "cell_type": "markdown",
   "id": "69d4b9d0",
   "metadata": {},
   "source": [
    "### Question 4 <a class=\"anchor\" id=\"question-4\"></a>\n",
    "- Now let's train a logistic regression\n",
    "- Remember that we have two categorical variables in the data. Include them using one-hot encoding.\n",
    "- Fit the model on the training dataset.\n",
    "    - To make sure the results are reproducible across different versions of Scikit-Learn, fit the model with these parameters:\n",
    "    - model = LogisticRegression(solver='lbfgs', C=1.0, random_state=42)\n",
    "- Calculate the accuracy on the validation dataset and rount it to 2 decimal digits."
   ]
  },
  {
   "cell_type": "markdown",
   "id": "bd4cbff9",
   "metadata": {},
   "source": [
    "### One-hot encoding"
   ]
  },
  {
   "cell_type": "code",
   "execution_count": 29,
   "id": "9f1a76bb",
   "metadata": {},
   "outputs": [
    {
     "data": {
      "text/html": [
       "<div>\n",
       "<style scoped>\n",
       "    .dataframe tbody tr th:only-of-type {\n",
       "        vertical-align: middle;\n",
       "    }\n",
       "\n",
       "    .dataframe tbody tr th {\n",
       "        vertical-align: top;\n",
       "    }\n",
       "\n",
       "    .dataframe thead th {\n",
       "        text-align: right;\n",
       "    }\n",
       "</style>\n",
       "<table border=\"1\" class=\"dataframe\">\n",
       "  <thead>\n",
       "    <tr style=\"text-align: right;\">\n",
       "      <th></th>\n",
       "      <th>neighbourhood_group</th>\n",
       "      <th>room_type</th>\n",
       "      <th>latitude</th>\n",
       "      <th>longitude</th>\n",
       "      <th>minimum_nights</th>\n",
       "      <th>number_of_reviews</th>\n",
       "      <th>reviews_per_month</th>\n",
       "      <th>calculated_host_listings_count</th>\n",
       "      <th>availability_365</th>\n",
       "    </tr>\n",
       "  </thead>\n",
       "  <tbody>\n",
       "    <tr>\n",
       "      <th>0</th>\n",
       "      <td>brooklyn</td>\n",
       "      <td>entire_home/apt</td>\n",
       "      <td>40.72760</td>\n",
       "      <td>-73.94495</td>\n",
       "      <td>3</td>\n",
       "      <td>29</td>\n",
       "      <td>0.70</td>\n",
       "      <td>13</td>\n",
       "      <td>50</td>\n",
       "    </tr>\n",
       "    <tr>\n",
       "      <th>1</th>\n",
       "      <td>manhattan</td>\n",
       "      <td>private_room</td>\n",
       "      <td>40.70847</td>\n",
       "      <td>-74.00498</td>\n",
       "      <td>1</td>\n",
       "      <td>0</td>\n",
       "      <td>0.00</td>\n",
       "      <td>1</td>\n",
       "      <td>7</td>\n",
       "    </tr>\n",
       "    <tr>\n",
       "      <th>2</th>\n",
       "      <td>bronx</td>\n",
       "      <td>entire_home/apt</td>\n",
       "      <td>40.83149</td>\n",
       "      <td>-73.92766</td>\n",
       "      <td>40</td>\n",
       "      <td>0</td>\n",
       "      <td>0.00</td>\n",
       "      <td>1</td>\n",
       "      <td>0</td>\n",
       "    </tr>\n",
       "    <tr>\n",
       "      <th>3</th>\n",
       "      <td>brooklyn</td>\n",
       "      <td>entire_home/apt</td>\n",
       "      <td>40.66448</td>\n",
       "      <td>-73.99407</td>\n",
       "      <td>2</td>\n",
       "      <td>3</td>\n",
       "      <td>0.08</td>\n",
       "      <td>1</td>\n",
       "      <td>0</td>\n",
       "    </tr>\n",
       "    <tr>\n",
       "      <th>4</th>\n",
       "      <td>manhattan</td>\n",
       "      <td>private_room</td>\n",
       "      <td>40.74118</td>\n",
       "      <td>-74.00012</td>\n",
       "      <td>1</td>\n",
       "      <td>48</td>\n",
       "      <td>1.80</td>\n",
       "      <td>2</td>\n",
       "      <td>67</td>\n",
       "    </tr>\n",
       "    <tr>\n",
       "      <th>...</th>\n",
       "      <td>...</td>\n",
       "      <td>...</td>\n",
       "      <td>...</td>\n",
       "      <td>...</td>\n",
       "      <td>...</td>\n",
       "      <td>...</td>\n",
       "      <td>...</td>\n",
       "      <td>...</td>\n",
       "      <td>...</td>\n",
       "    </tr>\n",
       "    <tr>\n",
       "      <th>29332</th>\n",
       "      <td>brooklyn</td>\n",
       "      <td>private_room</td>\n",
       "      <td>40.71748</td>\n",
       "      <td>-73.95685</td>\n",
       "      <td>6</td>\n",
       "      <td>5</td>\n",
       "      <td>0.13</td>\n",
       "      <td>1</td>\n",
       "      <td>0</td>\n",
       "    </tr>\n",
       "    <tr>\n",
       "      <th>29333</th>\n",
       "      <td>brooklyn</td>\n",
       "      <td>private_room</td>\n",
       "      <td>40.66397</td>\n",
       "      <td>-73.98538</td>\n",
       "      <td>1</td>\n",
       "      <td>7</td>\n",
       "      <td>0.17</td>\n",
       "      <td>2</td>\n",
       "      <td>0</td>\n",
       "    </tr>\n",
       "    <tr>\n",
       "      <th>29334</th>\n",
       "      <td>manhattan</td>\n",
       "      <td>private_room</td>\n",
       "      <td>40.79994</td>\n",
       "      <td>-73.97001</td>\n",
       "      <td>1</td>\n",
       "      <td>1</td>\n",
       "      <td>0.64</td>\n",
       "      <td>1</td>\n",
       "      <td>88</td>\n",
       "    </tr>\n",
       "    <tr>\n",
       "      <th>29335</th>\n",
       "      <td>brooklyn</td>\n",
       "      <td>private_room</td>\n",
       "      <td>40.69585</td>\n",
       "      <td>-73.96344</td>\n",
       "      <td>60</td>\n",
       "      <td>0</td>\n",
       "      <td>0.00</td>\n",
       "      <td>1</td>\n",
       "      <td>0</td>\n",
       "    </tr>\n",
       "    <tr>\n",
       "      <th>29336</th>\n",
       "      <td>brooklyn</td>\n",
       "      <td>entire_home/apt</td>\n",
       "      <td>40.64438</td>\n",
       "      <td>-73.95484</td>\n",
       "      <td>7</td>\n",
       "      <td>15</td>\n",
       "      <td>0.49</td>\n",
       "      <td>2</td>\n",
       "      <td>281</td>\n",
       "    </tr>\n",
       "  </tbody>\n",
       "</table>\n",
       "<p>29337 rows × 9 columns</p>\n",
       "</div>"
      ],
      "text/plain": [
       "      neighbourhood_group        room_type  latitude  longitude  \\\n",
       "0                brooklyn  entire_home/apt  40.72760  -73.94495   \n",
       "1               manhattan     private_room  40.70847  -74.00498   \n",
       "2                   bronx  entire_home/apt  40.83149  -73.92766   \n",
       "3                brooklyn  entire_home/apt  40.66448  -73.99407   \n",
       "4               manhattan     private_room  40.74118  -74.00012   \n",
       "...                   ...              ...       ...        ...   \n",
       "29332            brooklyn     private_room  40.71748  -73.95685   \n",
       "29333            brooklyn     private_room  40.66397  -73.98538   \n",
       "29334           manhattan     private_room  40.79994  -73.97001   \n",
       "29335            brooklyn     private_room  40.69585  -73.96344   \n",
       "29336            brooklyn  entire_home/apt  40.64438  -73.95484   \n",
       "\n",
       "       minimum_nights  number_of_reviews  reviews_per_month  \\\n",
       "0                   3                 29               0.70   \n",
       "1                   1                  0               0.00   \n",
       "2                  40                  0               0.00   \n",
       "3                   2                  3               0.08   \n",
       "4                   1                 48               1.80   \n",
       "...               ...                ...                ...   \n",
       "29332               6                  5               0.13   \n",
       "29333               1                  7               0.17   \n",
       "29334               1                  1               0.64   \n",
       "29335              60                  0               0.00   \n",
       "29336               7                 15               0.49   \n",
       "\n",
       "       calculated_host_listings_count  availability_365  \n",
       "0                                  13                50  \n",
       "1                                   1                 7  \n",
       "2                                   1                 0  \n",
       "3                                   1                 0  \n",
       "4                                   2                67  \n",
       "...                               ...               ...  \n",
       "29332                               1                 0  \n",
       "29333                               2                 0  \n",
       "29334                               1                88  \n",
       "29335                               1                 0  \n",
       "29336                               2               281  \n",
       "\n",
       "[29337 rows x 9 columns]"
      ]
     },
     "execution_count": 29,
     "metadata": {},
     "output_type": "execute_result"
    }
   ],
   "source": [
    "df_train"
   ]
  },
  {
   "cell_type": "code",
   "execution_count": 140,
   "id": "16e9fd2d",
   "metadata": {},
   "outputs": [],
   "source": [
    "dv = DictVectorizer(sparse=False)\n",
    "\n",
    "train_dict = df_train.to_dict(orient='records')\n",
    "X_train = dv.fit_transform(train_dict)\n",
    "\n",
    "val_dict = df_val.to_dict(orient='records')\n",
    "X_val = dv.transform(val_dict)"
   ]
  },
  {
   "cell_type": "code",
   "execution_count": 141,
   "id": "e3747c7b",
   "metadata": {
    "scrolled": true
   },
   "outputs": [
    {
     "data": {
      "text/plain": [
       "['availability_365',\n",
       " 'calculated_host_listings_count',\n",
       " 'latitude',\n",
       " 'longitude',\n",
       " 'minimum_nights',\n",
       " 'neighbourhood_group=bronx',\n",
       " 'neighbourhood_group=brooklyn',\n",
       " 'neighbourhood_group=manhattan',\n",
       " 'neighbourhood_group=queens',\n",
       " 'neighbourhood_group=staten_island',\n",
       " 'number_of_reviews',\n",
       " 'reviews_per_month',\n",
       " 'room_type=entire_home/apt',\n",
       " 'room_type=private_room',\n",
       " 'room_type=shared_room']"
      ]
     },
     "execution_count": 141,
     "metadata": {},
     "output_type": "execute_result"
    }
   ],
   "source": [
    "dv.get_feature_names()"
   ]
  },
  {
   "cell_type": "code",
   "execution_count": 142,
   "id": "d953c4d3",
   "metadata": {
    "scrolled": true
   },
   "outputs": [
    {
     "data": {
      "text/plain": [
       "LogisticRegression(random_state=42, solver='liblinear')"
      ]
     },
     "execution_count": 142,
     "metadata": {},
     "output_type": "execute_result"
    }
   ],
   "source": [
    "model = LogisticRegression(solver='liblinear', C=1.0, random_state=42)\n",
    "model.fit(X_train, above_average)"
   ]
  },
  {
   "cell_type": "code",
   "execution_count": 143,
   "id": "d4354f43",
   "metadata": {},
   "outputs": [
    {
     "data": {
      "text/plain": [
       "-0.09158588386078534"
      ]
     },
     "execution_count": 143,
     "metadata": {},
     "output_type": "execute_result"
    }
   ],
   "source": [
    "model.intercept_[0]"
   ]
  },
  {
   "cell_type": "code",
   "execution_count": 144,
   "id": "857fe94b",
   "metadata": {},
   "outputs": [
    {
     "data": {
      "text/plain": [
       "array([ 3.000e-03,  4.000e-03, -5.818e+00, -3.166e+00, -1.100e-02,\n",
       "       -8.200e-02,  1.250e-01,  1.576e+00, -2.900e-02, -1.681e+00,\n",
       "       -3.000e-03, -4.200e-02,  1.957e+00, -8.200e-01, -1.228e+00])"
      ]
     },
     "execution_count": 144,
     "metadata": {},
     "output_type": "execute_result"
    }
   ],
   "source": [
    "model.coef_[0].round(3)"
   ]
  },
  {
   "cell_type": "code",
   "execution_count": 145,
   "id": "97e07c4f",
   "metadata": {},
   "outputs": [
    {
     "data": {
      "text/plain": [
       "array([0.02878751, 0.59581877, 0.42623389, ..., 0.11418692, 0.03457731,\n",
       "       0.52841536])"
      ]
     },
     "execution_count": 145,
     "metadata": {},
     "output_type": "execute_result"
    }
   ],
   "source": [
    "y_pred = model.predict_proba(X_val)[:, 1]\n",
    "y_pred"
   ]
  },
  {
   "cell_type": "code",
   "execution_count": 146,
   "id": "19f3c605",
   "metadata": {},
   "outputs": [
    {
     "data": {
      "text/plain": [
       "0.7907761529808774"
      ]
     },
     "execution_count": 146,
     "metadata": {},
     "output_type": "execute_result"
    }
   ],
   "source": [
    "#above_average_decision = (y_pred >= 0.5)\n",
    "#all_features_accuracy = (above_average_val == above_average_decision).mean()\n",
    "all_features_accuracy = model.score(X_val, above_average_val)\n",
    "all_features_accuracy"
   ]
  },
  {
   "cell_type": "code",
   "execution_count": 132,
   "id": "05ddba18",
   "metadata": {},
   "outputs": [
    {
     "name": "stdout",
     "output_type": "stream",
     "text": [
      "[ANSWER-4] The accuracy of the model on the validation dataset is: 0.79\n"
     ]
    }
   ],
   "source": [
    "print(f\"[ANSWER-4] The accuracy of the model on the validation dataset is: {round(all_features_accuracy, 2)}\")"
   ]
  },
  {
   "cell_type": "markdown",
   "id": "e7e53d64",
   "metadata": {},
   "source": [
    "### Question 5 <a class=\"anchor\" id=\"question-5\"></a>\n",
    "- We have 9 features: 7 numerical features and 2 categorical.\n",
    "- Let's find the least useful one using the feature elimination technique.\n",
    "- Train a model with all these features (using the same parameters as in Q4).\n",
    "- Now exclude each feature from this set and train a model without it. Record the accuracy for each model.\n",
    "- For each feature, calculate the difference between the original accuracy and the accuracy without the feature.\n",
    "- Which of following feature has the smallest difference?\n",
    "    - neighbourhood_group\n",
    "    - room_type\n",
    "    - number_of_reviews\n",
    "    - reviews_per_month\n",
    "- note: the difference doesn't have to be positive"
   ]
  },
  {
   "cell_type": "code",
   "execution_count": 134,
   "id": "c660fb43",
   "metadata": {},
   "outputs": [
    {
     "name": "stdout",
     "output_type": "stream",
     "text": [
      "latitude:0.004\n",
      "longitude:0.0038\n",
      "minimum_nights:-0.0007\n",
      "number_of_reviews:-0.0006\n",
      "reviews_per_month:0.0\n",
      "calculated_host_listings_count:0.0011\n",
      "availability_365:0.0093\n",
      "neighbourhood_group:0.0409\n",
      "room_type:0.0621\n"
     ]
    }
   ],
   "source": [
    "differences = dict()\n",
    "total_features = numerical + strings\n",
    "for feature in total_features:\n",
    "    #print(feature)\n",
    "    \n",
    "    df_train_copy = df_train.copy()\n",
    "    del df_train_copy[feature]\n",
    "    \n",
    "    df_val_copy = df_val.copy()\n",
    "    del df_val_copy[feature]\n",
    "    \n",
    "    dv = DictVectorizer(sparse=False)\n",
    "    train_dict = df_train_copy.to_dict(orient='records')\n",
    "    X_train = dv.fit_transform(train_dict)\n",
    "\n",
    "    val_dict = df_val_copy.to_dict(orient='records')\n",
    "    X_val = dv.transform(val_dict)\n",
    "    \n",
    "    #print(dv.get_feature_names())\n",
    "    model = LogisticRegression(solver='liblinear', C=1.0, random_state=42)\n",
    "    model.fit(X_train, above_average)\n",
    "    \n",
    "    #y_pred = model.predict_proba(X_val)[:, 1]\n",
    "    #above_average_decision = (y_pred >= 0.5)\n",
    "    #no_feature_accuracy = (above_average_val == above_average_decision).mean()\n",
    "    no_feature_accuracy = model.score(X_val, above_average_val)\n",
    "    differences[feature] = round(all_features_accuracy - no_feature_accuracy, 4)\n",
    "    \n",
    "for key, value in differences.items():\n",
    "    print(f\"{key}:{value}\")\n",
    "    "
   ]
  },
  {
   "cell_type": "code",
   "execution_count": 135,
   "id": "5ebb31de",
   "metadata": {},
   "outputs": [
    {
     "name": "stdout",
     "output_type": "stream",
     "text": [
      "[ANSWER-5] The feature with smallest difference (of the list) is: reviews_per_month\n"
     ]
    }
   ],
   "source": [
    "print(\"[ANSWER-5] The feature with smallest difference (of the list) is: reviews_per_month\")"
   ]
  },
  {
   "cell_type": "markdown",
   "id": "68d24bdd",
   "metadata": {},
   "source": [
    "### Question 6 <a class=\"anchor\" id=\"question-6\"></a>\n",
    "\n",
    "- For this question, we'll see how to use a linear regression model from Scikit-Learn\n",
    "- We'll need to use the original column 'price'. Apply the logarithmic transformation to this column.\n",
    "- Fit the Ridge regression model on the training data.\n",
    "- This model has a parameter alpha. Let's try the following values: [0, 0.01, 0.1, 1, 10]\n",
    "- Which of these alphas leads to the best RMSE on the validation set? Round your RMSE scores to 3 decimal digits.\n",
    "If there are multiple options, select the smallest alpha."
   ]
  },
  {
   "cell_type": "code",
   "execution_count": 153,
   "id": "d2cb49ab",
   "metadata": {},
   "outputs": [],
   "source": [
    "def rmse(y, y_pred):\n",
    "    se = (y - y_pred) ** 2\n",
    "    mse = se.mean()\n",
    "    return np.sqrt(mse)"
   ]
  },
  {
   "cell_type": "code",
   "execution_count": 154,
   "id": "e62418ae",
   "metadata": {},
   "outputs": [],
   "source": [
    "y_train = np.log1p(y_train)\n",
    "y_val = np.log1p(y_val)\n",
    "y_test = np.log1p(y_test)"
   ]
  },
  {
   "cell_type": "code",
   "execution_count": 155,
   "id": "ad5b6834",
   "metadata": {},
   "outputs": [],
   "source": [
    "dv = DictVectorizer(sparse=False)\n",
    "train_dict = df_train.to_dict(orient='records')\n",
    "X_train = dv.fit_transform(train_dict)\n",
    "val_dict = df_val.to_dict(orient='records')\n",
    "X_val = dv.transform(val_dict)"
   ]
  },
  {
   "cell_type": "code",
   "execution_count": 156,
   "id": "5a8cf903",
   "metadata": {},
   "outputs": [
    {
     "name": "stdout",
     "output_type": "stream",
     "text": [
      "[ANSWER-6] Best RMSE is 0.085 for r value: 0.01\n"
     ]
    }
   ],
   "source": [
    "results = dict()\n",
    "best_rmse = None\n",
    "best_rmse_arg = None\n",
    "\n",
    "for a in [0, 0.01, 0.1, 1, 10]:\n",
    "    model = Ridge(alpha=a)\n",
    "    model.fit(X_train, y_train)\n",
    "    y_pred = model.predict(X_val)\n",
    "    raw_rmse = rmse(y_val, y_pred)\n",
    "    if best_rmse is None:\n",
    "        best_rmse = raw_rmse\n",
    "        best_rmse_arg = a\n",
    "    elif raw_rmse < best_rmse:\n",
    "        best_rmse = raw_rmse\n",
    "        best_rmse_arg = a\n",
    "    results[a] = round(raw_rmse, 3)\n",
    "\n",
    "print(f\"[ANSWER-6] Best RMSE is {round(best_rmse, 3)} for r value: {best_rmse_arg}\")"
   ]
  },
  {
   "cell_type": "code",
   "execution_count": null,
   "id": "fad239cb",
   "metadata": {},
   "outputs": [],
   "source": []
  }
 ],
 "metadata": {
  "kernelspec": {
   "display_name": "Python 3 (ipykernel)",
   "language": "python",
   "name": "python3"
  },
  "language_info": {
   "codemirror_mode": {
    "name": "ipython",
    "version": 3
   },
   "file_extension": ".py",
   "mimetype": "text/x-python",
   "name": "python",
   "nbconvert_exporter": "python",
   "pygments_lexer": "ipython3",
   "version": "3.8.11"
  }
 },
 "nbformat": 4,
 "nbformat_minor": 5
}
