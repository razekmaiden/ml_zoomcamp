{
 "cells": [
  {
   "cell_type": "markdown",
   "id": "b69d9c60",
   "metadata": {},
   "source": [
    "# ML ZoomCamp Homework Session 2\n",
    "\n",
    "This homework was described in: [homework.md](https://github.com/alexeygrigorev/mlbookcamp-code/blob/master/course-zoomcamp/02-regression/homework.md)\n",
    "\n",
    "- [Getting the data](#get-data)\n",
    "- [Exploratory Data Analysis (EDA)](#eda)\n",
    "- [Question 1](#question-1)\n",
    "- [Question 2](#question-2)\n",
    "- [Question 3](#question-3)\n",
    "- [Question 4](#question-4)\n",
    "- [Question 5](#question-5)\n",
    "- [Question 6](#question-6)"
   ]
  },
  {
   "cell_type": "markdown",
   "id": "2fc23ed5",
   "metadata": {},
   "source": [
    "### Import Modules"
   ]
  },
  {
   "cell_type": "code",
   "execution_count": 107,
   "id": "3c43fa48",
   "metadata": {},
   "outputs": [],
   "source": [
    "%matplotlib inline\n",
    "\n",
    "import os\n",
    "import numpy as np\n",
    "import pandas as pd\n",
    "\n",
    "import matplotlib.pyplot as plt\n",
    "import seaborn as sns\n",
    "\n",
    "import pprint"
   ]
  },
  {
   "cell_type": "markdown",
   "id": "b5f04126",
   "metadata": {},
   "source": [
    "### Getting the data <a class=\"anchor\" id=\"get-data\"></a>\n",
    "\n",
    "For this homework, we'll use the New York City Airbnb Open Data. Available [here](https://raw.githubusercontent.com/alexeygrigorev/datasets/master/AB_NYC_2019.csv)"
   ]
  },
  {
   "cell_type": "code",
   "execution_count": 41,
   "id": "666adef8",
   "metadata": {},
   "outputs": [
    {
     "data": {
      "text/html": [
       "<div>\n",
       "<style scoped>\n",
       "    .dataframe tbody tr th:only-of-type {\n",
       "        vertical-align: middle;\n",
       "    }\n",
       "\n",
       "    .dataframe tbody tr th {\n",
       "        vertical-align: top;\n",
       "    }\n",
       "\n",
       "    .dataframe thead th {\n",
       "        text-align: right;\n",
       "    }\n",
       "</style>\n",
       "<table border=\"1\" class=\"dataframe\">\n",
       "  <thead>\n",
       "    <tr style=\"text-align: right;\">\n",
       "      <th></th>\n",
       "      <th>latitude</th>\n",
       "      <th>longitude</th>\n",
       "      <th>price</th>\n",
       "      <th>minimum_nights</th>\n",
       "      <th>number_of_reviews</th>\n",
       "      <th>reviews_per_month</th>\n",
       "      <th>calculated_host_listings_count</th>\n",
       "      <th>availability_365</th>\n",
       "    </tr>\n",
       "  </thead>\n",
       "  <tbody>\n",
       "    <tr>\n",
       "      <th>0</th>\n",
       "      <td>40.64749</td>\n",
       "      <td>-73.97237</td>\n",
       "      <td>149</td>\n",
       "      <td>1</td>\n",
       "      <td>9</td>\n",
       "      <td>0.21</td>\n",
       "      <td>6</td>\n",
       "      <td>365</td>\n",
       "    </tr>\n",
       "    <tr>\n",
       "      <th>1</th>\n",
       "      <td>40.75362</td>\n",
       "      <td>-73.98377</td>\n",
       "      <td>225</td>\n",
       "      <td>1</td>\n",
       "      <td>45</td>\n",
       "      <td>0.38</td>\n",
       "      <td>2</td>\n",
       "      <td>355</td>\n",
       "    </tr>\n",
       "    <tr>\n",
       "      <th>2</th>\n",
       "      <td>40.80902</td>\n",
       "      <td>-73.94190</td>\n",
       "      <td>150</td>\n",
       "      <td>3</td>\n",
       "      <td>0</td>\n",
       "      <td>NaN</td>\n",
       "      <td>1</td>\n",
       "      <td>365</td>\n",
       "    </tr>\n",
       "    <tr>\n",
       "      <th>3</th>\n",
       "      <td>40.68514</td>\n",
       "      <td>-73.95976</td>\n",
       "      <td>89</td>\n",
       "      <td>1</td>\n",
       "      <td>270</td>\n",
       "      <td>4.64</td>\n",
       "      <td>1</td>\n",
       "      <td>194</td>\n",
       "    </tr>\n",
       "    <tr>\n",
       "      <th>4</th>\n",
       "      <td>40.79851</td>\n",
       "      <td>-73.94399</td>\n",
       "      <td>80</td>\n",
       "      <td>10</td>\n",
       "      <td>9</td>\n",
       "      <td>0.10</td>\n",
       "      <td>1</td>\n",
       "      <td>0</td>\n",
       "    </tr>\n",
       "  </tbody>\n",
       "</table>\n",
       "</div>"
      ],
      "text/plain": [
       "   latitude  longitude  price  minimum_nights  number_of_reviews  \\\n",
       "0  40.64749  -73.97237    149               1                  9   \n",
       "1  40.75362  -73.98377    225               1                 45   \n",
       "2  40.80902  -73.94190    150               3                  0   \n",
       "3  40.68514  -73.95976     89               1                270   \n",
       "4  40.79851  -73.94399     80              10                  9   \n",
       "\n",
       "   reviews_per_month  calculated_host_listings_count  availability_365  \n",
       "0               0.21                               6               365  \n",
       "1               0.38                               2               355  \n",
       "2                NaN                               1               365  \n",
       "3               4.64                               1               194  \n",
       "4               0.10                               1                 0  "
      ]
     },
     "execution_count": 41,
     "metadata": {},
     "output_type": "execute_result"
    }
   ],
   "source": [
    "data = 'https://raw.githubusercontent.com/alexeygrigorev/datasets/master/AB_NYC_2019.csv'\n",
    "if not os.path.exists(\"AB_NYC_2019.csv\"):\n",
    "    !wget $data\n",
    "\n",
    "features = ['latitude', 'longitude', 'price', 'minimum_nights', 'number_of_reviews', \n",
    "            'reviews_per_month', 'calculated_host_listings_count', 'availability_365']\n",
    "df = pd.read_csv('AB_NYC_2019.csv')\n",
    "df = df[features]\n",
    "df.head()"
   ]
  },
  {
   "cell_type": "code",
   "execution_count": 8,
   "id": "c0e9f78d",
   "metadata": {},
   "outputs": [
    {
     "data": {
      "text/plain": [
       "latitude                          float64\n",
       "longitude                         float64\n",
       "price                               int64\n",
       "minimum_nights                      int64\n",
       "number_of_reviews                   int64\n",
       "reviews_per_month                 float64\n",
       "calculated_host_listings_count      int64\n",
       "availability_365                    int64\n",
       "dtype: object"
      ]
     },
     "execution_count": 8,
     "metadata": {},
     "output_type": "execute_result"
    }
   ],
   "source": [
    "df.dtypes"
   ]
  },
  {
   "cell_type": "code",
   "execution_count": 23,
   "id": "27061dc4",
   "metadata": {},
   "outputs": [
    {
     "name": "stdout",
     "output_type": "stream",
     "text": [
      "(48895, 8) 48895\n"
     ]
    }
   ],
   "source": [
    "print(df.shape, len(df))"
   ]
  },
  {
   "cell_type": "markdown",
   "id": "32d86c81",
   "metadata": {},
   "source": [
    "### Exploratory Data Analysis (EDA) <a class=\"anchor\" id=\"eda\"></a>"
   ]
  },
  {
   "cell_type": "code",
   "execution_count": 7,
   "id": "f8611601",
   "metadata": {},
   "outputs": [
    {
     "data": {
      "text/plain": [
       "<AxesSubplot:xlabel='price', ylabel='Count'>"
      ]
     },
     "execution_count": 7,
     "metadata": {},
     "output_type": "execute_result"
    },
    {
     "data": {
      "image/png": "[encoded data removed]",
      "text/plain": [
       "<Figure size 432x288 with 1 Axes>"
      ]
     },
     "metadata": {
      "needs_background": "light"
     },
     "output_type": "display_data"
    }
   ],
   "source": [
    "sns.histplot(df.price, bins=50)"
   ]
  },
  {
   "cell_type": "markdown",
   "id": "70839416",
   "metadata": {},
   "source": [
    "**Q**: Does the variable 'price' have a long tail?\n",
    "**A**: Yes, it has"
   ]
  },
  {
   "cell_type": "markdown",
   "id": "58dd86d5",
   "metadata": {},
   "source": [
    "### Question 1 <a class=\"anchor\" id=\"question-1\"></a>\n",
    "Find a feature with missing values. How many missing values does it have?"
   ]
  },
  {
   "cell_type": "code",
   "execution_count": 12,
   "id": "63658226",
   "metadata": {},
   "outputs": [
    {
     "data": {
      "text/plain": [
       "latitude                              0\n",
       "longitude                             0\n",
       "price                                 0\n",
       "minimum_nights                        0\n",
       "number_of_reviews                     0\n",
       "reviews_per_month                 10052\n",
       "calculated_host_listings_count        0\n",
       "availability_365                      0\n",
       "dtype: int64"
      ]
     },
     "execution_count": 12,
     "metadata": {},
     "output_type": "execute_result"
    }
   ],
   "source": [
    "df.isnull().sum()"
   ]
  },
  {
   "cell_type": "code",
   "execution_count": 18,
   "id": "5cb48fd2",
   "metadata": {},
   "outputs": [
    {
     "name": "stdout",
     "output_type": "stream",
     "text": [
      "[ANSWER-1] The feature 'reviews_per_month' has 10052 missing values\n"
     ]
    }
   ],
   "source": [
    "print(\"[ANSWER-1] The feature 'reviews_per_month' has 10052 missing values\")"
   ]
  },
  {
   "cell_type": "markdown",
   "id": "a9ae131f",
   "metadata": {},
   "source": [
    "### Question 2 <a class=\"anchor\" id=\"question-2\"></a>\n",
    "\n",
    "What's the median (50% percentile) for variable 'minimum_nights'?"
   ]
  },
  {
   "cell_type": "code",
   "execution_count": 20,
   "id": "7a495c8d",
   "metadata": {},
   "outputs": [
    {
     "data": {
      "text/plain": [
       "count    48895.000000\n",
       "mean         7.029962\n",
       "std         20.510550\n",
       "min          1.000000\n",
       "25%          1.000000\n",
       "50%          3.000000\n",
       "75%          5.000000\n",
       "max       1250.000000\n",
       "Name: minimum_nights, dtype: float64"
      ]
     },
     "execution_count": 20,
     "metadata": {},
     "output_type": "execute_result"
    }
   ],
   "source": [
    "df.minimum_nights.describe()"
   ]
  },
  {
   "cell_type": "code",
   "execution_count": 22,
   "id": "877001b1",
   "metadata": {},
   "outputs": [
    {
     "name": "stdout",
     "output_type": "stream",
     "text": [
      "[ANSWER-2] The median of th 'minimum_nights' feature is: 3.0\n"
     ]
    }
   ],
   "source": [
    "print(f\"[ANSWER-2] The median of th 'minimum_nights' feature is: {df.minimum_nights.median()}\")"
   ]
  },
  {
   "cell_type": "markdown",
   "id": "ab565d53",
   "metadata": {},
   "source": [
    "### Split the data"
   ]
  },
  {
   "cell_type": "code",
   "execution_count": 26,
   "id": "954056d8",
   "metadata": {},
   "outputs": [
    {
     "name": "stdout",
     "output_type": "stream",
     "text": [
      "n_train:29337, n_val:9779, n_test:9779\n"
     ]
    }
   ],
   "source": [
    "n = len(df)\n",
    "idx = np.arange(n)\n",
    "np.random.seed(42)\n",
    "np.random.shuffle(idx)\n",
    "\n",
    "n_val = int(n * 0.2)\n",
    "n_test = int(n * 0.2)\n",
    "n_train = n - n_val - n_test\n",
    "\n",
    "print(f\"n_train:{n_train}, n_val:{n_val}, n_test:{n_test}\")"
   ]
  },
  {
   "cell_type": "code",
   "execution_count": 100,
   "id": "c75631b7",
   "metadata": {},
   "outputs": [
    {
     "data": {
      "text/plain": [
       "<AxesSubplot:ylabel='Count'>"
      ]
     },
     "execution_count": 100,
     "metadata": {},
     "output_type": "execute_result"
    },
    {
     "data": {
      "image/png": "[encoded data removed]",
      "text/plain": [
       "<Figure size 432x288 with 1 Axes>"
      ]
     },
     "metadata": {
      "needs_background": "light"
     },
     "output_type": "display_data"
    }
   ],
   "source": [
    "df_train = df.iloc[idx[:n_train]]\n",
    "df_val = df.iloc[idx[n_train:n_train+n_val]]\n",
    "df_test = df.iloc[idx[n_train+n_val:]]\n",
    "\n",
    "df_train = df_train.reset_index(drop=True)\n",
    "df_val = df_val.reset_index(drop=True)\n",
    "df_test = df_test.reset_index(drop=True)\n",
    "\n",
    "y_train = np.log1p(df_train.price.values)\n",
    "y_val = np.log1p(df_val.price.values)\n",
    "y_test = np.log1p(df_test.price.values)\n",
    "\n",
    "del df_train['price']\n",
    "del df_val['price']\n",
    "del df_test['price']\n",
    "\n",
    "sns.histplot(y_train, bins=50)"
   ]
  },
  {
   "cell_type": "code",
   "execution_count": 101,
   "id": "2b98ce81",
   "metadata": {},
   "outputs": [
    {
     "data": {
      "text/html": [
       "<div>\n",
       "<style scoped>\n",
       "    .dataframe tbody tr th:only-of-type {\n",
       "        vertical-align: middle;\n",
       "    }\n",
       "\n",
       "    .dataframe tbody tr th {\n",
       "        vertical-align: top;\n",
       "    }\n",
       "\n",
       "    .dataframe thead th {\n",
       "        text-align: right;\n",
       "    }\n",
       "</style>\n",
       "<table border=\"1\" class=\"dataframe\">\n",
       "  <thead>\n",
       "    <tr style=\"text-align: right;\">\n",
       "      <th></th>\n",
       "      <th>latitude</th>\n",
       "      <th>longitude</th>\n",
       "      <th>minimum_nights</th>\n",
       "      <th>number_of_reviews</th>\n",
       "      <th>reviews_per_month</th>\n",
       "      <th>calculated_host_listings_count</th>\n",
       "      <th>availability_365</th>\n",
       "    </tr>\n",
       "  </thead>\n",
       "  <tbody>\n",
       "    <tr>\n",
       "      <th>0</th>\n",
       "      <td>40.64354</td>\n",
       "      <td>-73.97777</td>\n",
       "      <td>3</td>\n",
       "      <td>62</td>\n",
       "      <td>0.71</td>\n",
       "      <td>1</td>\n",
       "      <td>189</td>\n",
       "    </tr>\n",
       "    <tr>\n",
       "      <th>1</th>\n",
       "      <td>40.70666</td>\n",
       "      <td>-73.90779</td>\n",
       "      <td>21</td>\n",
       "      <td>0</td>\n",
       "      <td>NaN</td>\n",
       "      <td>1</td>\n",
       "      <td>73</td>\n",
       "    </tr>\n",
       "    <tr>\n",
       "      <th>2</th>\n",
       "      <td>40.76116</td>\n",
       "      <td>-73.99016</td>\n",
       "      <td>2</td>\n",
       "      <td>17</td>\n",
       "      <td>0.43</td>\n",
       "      <td>1</td>\n",
       "      <td>0</td>\n",
       "    </tr>\n",
       "    <tr>\n",
       "      <th>3</th>\n",
       "      <td>40.70763</td>\n",
       "      <td>-74.01050</td>\n",
       "      <td>2</td>\n",
       "      <td>5</td>\n",
       "      <td>1.88</td>\n",
       "      <td>327</td>\n",
       "      <td>272</td>\n",
       "    </tr>\n",
       "    <tr>\n",
       "      <th>4</th>\n",
       "      <td>40.79658</td>\n",
       "      <td>-73.93287</td>\n",
       "      <td>2</td>\n",
       "      <td>30</td>\n",
       "      <td>0.80</td>\n",
       "      <td>1</td>\n",
       "      <td>30</td>\n",
       "    </tr>\n",
       "    <tr>\n",
       "      <th>...</th>\n",
       "      <td>...</td>\n",
       "      <td>...</td>\n",
       "      <td>...</td>\n",
       "      <td>...</td>\n",
       "      <td>...</td>\n",
       "      <td>...</td>\n",
       "      <td>...</td>\n",
       "    </tr>\n",
       "    <tr>\n",
       "      <th>29332</th>\n",
       "      <td>40.71178</td>\n",
       "      <td>-73.95779</td>\n",
       "      <td>2</td>\n",
       "      <td>0</td>\n",
       "      <td>NaN</td>\n",
       "      <td>1</td>\n",
       "      <td>0</td>\n",
       "    </tr>\n",
       "    <tr>\n",
       "      <th>29333</th>\n",
       "      <td>40.78638</td>\n",
       "      <td>-73.97004</td>\n",
       "      <td>30</td>\n",
       "      <td>10</td>\n",
       "      <td>0.40</td>\n",
       "      <td>1</td>\n",
       "      <td>0</td>\n",
       "    </tr>\n",
       "    <tr>\n",
       "      <th>29334</th>\n",
       "      <td>40.72716</td>\n",
       "      <td>-73.98524</td>\n",
       "      <td>3</td>\n",
       "      <td>75</td>\n",
       "      <td>3.12</td>\n",
       "      <td>1</td>\n",
       "      <td>60</td>\n",
       "    </tr>\n",
       "    <tr>\n",
       "      <th>29335</th>\n",
       "      <td>40.79578</td>\n",
       "      <td>-73.94523</td>\n",
       "      <td>2</td>\n",
       "      <td>31</td>\n",
       "      <td>2.10</td>\n",
       "      <td>1</td>\n",
       "      <td>265</td>\n",
       "    </tr>\n",
       "    <tr>\n",
       "      <th>29336</th>\n",
       "      <td>40.69671</td>\n",
       "      <td>-73.94896</td>\n",
       "      <td>1</td>\n",
       "      <td>1</td>\n",
       "      <td>0.05</td>\n",
       "      <td>1</td>\n",
       "      <td>0</td>\n",
       "    </tr>\n",
       "  </tbody>\n",
       "</table>\n",
       "<p>29337 rows × 7 columns</p>\n",
       "</div>"
      ],
      "text/plain": [
       "       latitude  longitude  minimum_nights  number_of_reviews  \\\n",
       "0      40.64354  -73.97777               3                 62   \n",
       "1      40.70666  -73.90779              21                  0   \n",
       "2      40.76116  -73.99016               2                 17   \n",
       "3      40.70763  -74.01050               2                  5   \n",
       "4      40.79658  -73.93287               2                 30   \n",
       "...         ...        ...             ...                ...   \n",
       "29332  40.71178  -73.95779               2                  0   \n",
       "29333  40.78638  -73.97004              30                 10   \n",
       "29334  40.72716  -73.98524               3                 75   \n",
       "29335  40.79578  -73.94523               2                 31   \n",
       "29336  40.69671  -73.94896               1                  1   \n",
       "\n",
       "       reviews_per_month  calculated_host_listings_count  availability_365  \n",
       "0                   0.71                               1               189  \n",
       "1                    NaN                               1                73  \n",
       "2                   0.43                               1                 0  \n",
       "3                   1.88                             327               272  \n",
       "4                   0.80                               1                30  \n",
       "...                  ...                             ...               ...  \n",
       "29332                NaN                               1                 0  \n",
       "29333               0.40                               1                 0  \n",
       "29334               3.12                               1                60  \n",
       "29335               2.10                               1               265  \n",
       "29336               0.05                               1                 0  \n",
       "\n",
       "[29337 rows x 7 columns]"
      ]
     },
     "execution_count": 101,
     "metadata": {},
     "output_type": "execute_result"
    }
   ],
   "source": [
    "df_train"
   ]
  },
  {
   "cell_type": "markdown",
   "id": "619a4f97",
   "metadata": {},
   "source": [
    "### Question 3 <a class=\"anchor\" id=\"question-3\"></a>\n",
    "\n",
    "**Note:** For computing the mean, use the training only!"
   ]
  },
  {
   "cell_type": "code",
   "execution_count": 93,
   "id": "21ad0d1f",
   "metadata": {},
   "outputs": [
    {
     "data": {
      "text/plain": [
       "1.3685492094777056"
      ]
     },
     "execution_count": 93,
     "metadata": {},
     "output_type": "execute_result"
    }
   ],
   "source": [
    "# Computing the trining mean\n",
    "reviews_train_mean_value = df_train.reviews_per_month.mean()\n",
    "reviews_train_mean_value"
   ]
  },
  {
   "cell_type": "code",
   "execution_count": 95,
   "id": "7684d92c",
   "metadata": {},
   "outputs": [
    {
     "data": {
      "text/plain": [
       "array([[ 4.06435400e+01, -7.39777700e+01,  3.00000000e+00, ...,\n",
       "         7.10000000e-01,  1.00000000e+00,  1.89000000e+02],\n",
       "       [ 4.07066600e+01, -7.39077900e+01,  2.10000000e+01, ...,\n",
       "         1.36854921e+00,  1.00000000e+00,  7.30000000e+01],\n",
       "       [ 4.07611600e+01, -7.39901600e+01,  2.00000000e+00, ...,\n",
       "         4.30000000e-01,  1.00000000e+00,  0.00000000e+00],\n",
       "       ...,\n",
       "       [ 4.07271600e+01, -7.39852400e+01,  3.00000000e+00, ...,\n",
       "         3.12000000e+00,  1.00000000e+00,  6.00000000e+01],\n",
       "       [ 4.07957800e+01, -7.39452300e+01,  2.00000000e+00, ...,\n",
       "         2.10000000e+00,  1.00000000e+00,  2.65000000e+02],\n",
       "       [ 4.06967100e+01, -7.39489600e+01,  1.00000000e+00, ...,\n",
       "         5.00000000e-02,  1.00000000e+00,  0.00000000e+00]])"
      ]
     },
     "execution_count": 95,
     "metadata": {},
     "output_type": "execute_result"
    }
   ],
   "source": [
    "def prepare_data(df, replace_value=None):\n",
    "    df_temp = df.copy()\n",
    "    if replace_value is None:\n",
    "        X = df_temp.values\n",
    "        #print(df_temp.reviews_per_month.isnull().sum())\n",
    "        #print(df_temp.reviews_per_month.mean())\n",
    "    else:\n",
    "        df_temp['reviews_per_month'] = df_temp['reviews_per_month'].fillna(replace_value)\n",
    "        X = df_temp.values\n",
    "        #print(replace_value)\n",
    "        #print(df_temp.reviews_per_month.fillna(replace_value).isnull().sum())\n",
    "        #print(df_temp.reviews_per_month.fillna(replace_value).mean())\n",
    "    return X\n",
    "    \n",
    "prepare_data(df_train, reviews_train_mean_value)"
   ]
  },
  {
   "cell_type": "code",
   "execution_count": 96,
   "id": "698792ff",
   "metadata": {},
   "outputs": [],
   "source": [
    "def train_linear_regression(X, y):\n",
    "    ones = np.ones(X.shape[0])\n",
    "    X = np.column_stack([ones, X])\n",
    "\n",
    "    XTX = X.T.dot(X)\n",
    "    XTX_inv = np.linalg.inv(XTX)\n",
    "    w_full = XTX_inv.dot(X.T).dot(y)\n",
    "    \n",
    "    return w_full[0], w_full[1:]"
   ]
  },
  {
   "cell_type": "code",
   "execution_count": 97,
   "id": "1d0ab7e0",
   "metadata": {},
   "outputs": [],
   "source": [
    "def rmse(y, y_pred):\n",
    "    se = (y - y_pred) ** 2\n",
    "    mse = se.mean()\n",
    "    return np.sqrt(mse)"
   ]
  },
  {
   "cell_type": "markdown",
   "id": "70d77d90",
   "metadata": {},
   "source": [
    "#### Training Linear Regression filling minssing values with 0"
   ]
  },
  {
   "cell_type": "code",
   "execution_count": 102,
   "id": "d856875d",
   "metadata": {},
   "outputs": [
    {
     "data": {
      "text/plain": [
       "0.64"
      ]
     },
     "execution_count": 102,
     "metadata": {},
     "output_type": "execute_result"
    }
   ],
   "source": [
    "X_train = prepare_data(df_train, 0)\n",
    "w0, w = train_linear_regression(X_train, y_train)\n",
    "\n",
    "X_val = prepare_data(df_val, 0)\n",
    "y_pred = w0 + X_val.dot(w)\n",
    "rmse_zero_fill = round(rmse(y_val, y_pred), 2)\n",
    "rmse_zero_fill"
   ]
  },
  {
   "cell_type": "markdown",
   "id": "b1e8d4c7",
   "metadata": {},
   "source": [
    "#### Training Linear Regression filling minssing values with mean"
   ]
  },
  {
   "cell_type": "code",
   "execution_count": 103,
   "id": "90057653",
   "metadata": {},
   "outputs": [
    {
     "data": {
      "text/plain": [
       "0.64"
      ]
     },
     "execution_count": 103,
     "metadata": {},
     "output_type": "execute_result"
    }
   ],
   "source": [
    "X_train = prepare_data(df_train, reviews_train_mean_value)\n",
    "w0, w = train_linear_regression(X_train, y_train)\n",
    "\n",
    "X_val = prepare_data(df_val, reviews_train_mean_value)\n",
    "y_pred = w0 + X_val.dot(w)\n",
    "rmse_mean_fill = round(rmse(y_val, y_pred), 2)\n",
    "rmse_mean_fill"
   ]
  },
  {
   "cell_type": "code",
   "execution_count": 104,
   "id": "0f6161f7",
   "metadata": {},
   "outputs": [
    {
     "name": "stdout",
     "output_type": "stream",
     "text": [
      "[ANSWER-3] Both cases are giving the same RMSE score: 0.64\n"
     ]
    }
   ],
   "source": [
    "print(f\"[ANSWER-3] Both cases are giving the same RMSE score: {rmse_zero_fill}\")"
   ]
  },
  {
   "cell_type": "markdown",
   "id": "69d4b9d0",
   "metadata": {},
   "source": [
    "### Question 4 <a class=\"anchor\" id=\"question-4\"></a>"
   ]
  },
  {
   "cell_type": "code",
   "execution_count": 105,
   "id": "5cca88ea",
   "metadata": {},
   "outputs": [],
   "source": [
    "def train_linear_regression_reg(X, y, r=0.001):\n",
    "    ones = np.ones(X.shape[0])\n",
    "    X = np.column_stack([ones, X])\n",
    "\n",
    "    XTX = X.T.dot(X)\n",
    "    XTX = XTX + r * np.eye(XTX.shape[0])\n",
    "\n",
    "    XTX_inv = np.linalg.inv(XTX)\n",
    "    w_full = XTX_inv.dot(X.T).dot(y)\n",
    "    \n",
    "    return w_full[0], w_full[1:]"
   ]
  },
  {
   "cell_type": "code",
   "execution_count": 110,
   "id": "6108ea15",
   "metadata": {},
   "outputs": [
    {
     "name": "stdout",
     "output_type": "stream",
     "text": [
      "{0: 0.64,\n",
      " 1e-06: 0.64,\n",
      " 0.0001: 0.64,\n",
      " 0.001: 0.64,\n",
      " 0.01: 0.66,\n",
      " 0.1: 0.68,\n",
      " 1: 0.68,\n",
      " 5: 0.68,\n",
      " 10: 0.68}\n",
      "[ANSWER-4] Best RMSE is 0.643033778856463 for r value: 0\n"
     ]
    }
   ],
   "source": [
    "results = dict()\n",
    "X_train = prepare_data(df_train, 0)\n",
    "X_val = prepare_data(df_val, 0)\n",
    "best_rmse = None\n",
    "best_rmse_arg = None\n",
    "\n",
    "for r in [0, 0.000001, 0.0001, 0.001, 0.01, 0.1, 1, 5, 10]:\n",
    "    w0, w = train_linear_regression_reg(X_train, y_train, r=r)\n",
    "    y_pred = w0 + X_val.dot(w)\n",
    "    raw_rmse = rmse(y_val, y_pred)\n",
    "    if best_rmse is None:\n",
    "        best_rmse = raw_rmse\n",
    "        best_rmse_arg = r\n",
    "    elif raw_rmse < best_rmse:\n",
    "        best_rmse = raw_rmse\n",
    "        best_rmse_arg = r\n",
    "    results[r] = round(raw_rmse, 2)\n",
    "\n",
    "pprint.pprint(results)\n",
    "print(f\"[ANSWER-4] Best RMSE is {best_rmse} for r value: {best_rmse_arg}\")"
   ]
  },
  {
   "cell_type": "markdown",
   "id": "e7e53d64",
   "metadata": {},
   "source": [
    "### Question 5 <a class=\"anchor\" id=\"question-5\"></a>"
   ]
  },
  {
   "cell_type": "code",
   "execution_count": 115,
   "id": "c385aaac",
   "metadata": {},
   "outputs": [
    {
     "name": "stdout",
     "output_type": "stream",
     "text": [
      "[ANSWER-5] The standard deviation of all the scores is: 0.008\n"
     ]
    }
   ],
   "source": [
    "scores = list()\n",
    "n = len(df)\n",
    "n_val = int(n * 0.2)\n",
    "n_test = int(n * 0.2)\n",
    "n_train = n - n_val - n_test\n",
    "\n",
    "for seed in [0, 1, 2, 3, 4, 5, 6, 7, 8, 9]:\n",
    "    idx = np.arange(n)\n",
    "    np.random.seed(seed)\n",
    "    np.random.shuffle(idx)\n",
    "    \n",
    "    df_train = df.iloc[idx[:n_train]]\n",
    "    df_val = df.iloc[idx[n_train:n_train+n_val]]\n",
    "    df_test = df.iloc[idx[n_train+n_val:]]\n",
    "\n",
    "    df_train = df_train.reset_index(drop=True)\n",
    "    df_val = df_val.reset_index(drop=True)\n",
    "    df_test = df_test.reset_index(drop=True)\n",
    "\n",
    "    y_train = np.log1p(df_train.price.values)\n",
    "    y_val = np.log1p(df_val.price.values)\n",
    "    y_test = np.log1p(df_test.price.values)\n",
    "\n",
    "    del df_train['price']\n",
    "    del df_val['price']\n",
    "    del df_test['price']\n",
    "    \n",
    "    X_train = prepare_data(df_train, 0)\n",
    "    w0, w = train_linear_regression(X_train, y_train)\n",
    "\n",
    "    X_val = prepare_data(df_val, 0)\n",
    "    y_pred = w0 + X_val.dot(w)\n",
    "    scores.append(rmse(y_val, y_pred))\n",
    "    \n",
    "print(f\"[ANSWER-5] The standard deviation of all the scores is: {round(np.std(scores), 3)}\")"
   ]
  },
  {
   "cell_type": "markdown",
   "id": "68d24bdd",
   "metadata": {},
   "source": [
    "### Question 6 <a class=\"anchor\" id=\"question-6\"></a>"
   ]
  },
  {
   "cell_type": "code",
   "execution_count": 121,
   "id": "4b30edf6",
   "metadata": {},
   "outputs": [
    {
     "name": "stdout",
     "output_type": "stream",
     "text": [
      "[ANSWER-6] The RMSE score in test dataset is: 0.65\n"
     ]
    }
   ],
   "source": [
    "n = len(df)\n",
    "n_val = int(n * 0.2)\n",
    "n_test = int(n * 0.2)\n",
    "n_train = n - n_val - n_test\n",
    "\n",
    "idx = np.arange(n)\n",
    "np.random.seed(9)\n",
    "np.random.shuffle(idx)\n",
    "\n",
    "df_train = df.iloc[idx[:n_train+n_val]]\n",
    "df_test = df.iloc[idx[n_train+n_val:]]\n",
    "\n",
    "df_train = df_train.reset_index(drop=True)\n",
    "df_test = df_test.reset_index(drop=True)\n",
    "\n",
    "y_train = np.log1p(df_train.price.values)\n",
    "y_test = np.log1p(df_test.price.values)\n",
    "\n",
    "del df_train['price']\n",
    "del df_test['price']\n",
    "\n",
    "X_train = prepare_data(df_train, 0)\n",
    "w0, w = train_linear_regression_reg(X_train, y_train, r=0.001)\n",
    "\n",
    "X_test = prepare_data(df_test, 0)\n",
    "y_pred = w0 + X_test.dot(w)\n",
    "\n",
    "\n",
    "print(f\"[ANSWER-6] The RMSE score in test dataset is: {round(rmse(y_test, y_pred), 2)}\")\n"
   ]
  },
  {
   "cell_type": "code",
   "execution_count": null,
   "id": "ebeba12a",
   "metadata": {},
   "outputs": [],
   "source": []
  }
 ],
 "metadata": {
  "kernelspec": {
   "display_name": "Python 3 (ipykernel)",
   "language": "python",
   "name": "python3"
  },
  "language_info": {
   "codemirror_mode": {
    "name": "ipython",
    "version": 3
   },
   "file_extension": ".py",
   "mimetype": "text/x-python",
   "name": "python",
   "nbconvert_exporter": "python",
   "pygments_lexer": "ipython3",
   "version": "3.8.11"
  }
 },
 "nbformat": 4,
 "nbformat_minor": 5
}
