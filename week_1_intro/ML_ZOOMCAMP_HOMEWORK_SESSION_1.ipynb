{
 "cells": [
  {
   "cell_type": "markdown",
   "id": "3953445a",
   "metadata": {},
   "source": [
    "# ML ZoomCamp Homework Session 1\n",
    "\n",
    "The development enviroment was configured following the steps described in: [06-environment.md](https://github.com/alexeygrigorev/mlbookcamp-code/blob/master/course-zoomcamp/01-intro/06-environment.md)\n",
    "\n",
    "- [Question 1](#question-1)\n",
    "- [Question 2](#question-2)\n",
    "- [Getting the data](#get-data)\n",
    "- [Question 3](#question-3)\n",
    "- [Question 4](#question-4)\n",
    "- [Question 5](#question-5)\n",
    "- [Question 6](#question-6)\n",
    "- [Question 7](#question-7)\n"
   ]
  },
  {
   "cell_type": "code",
   "execution_count": 1,
   "id": "d0b5d1b0",
   "metadata": {},
   "outputs": [],
   "source": [
    "import numpy as np\n",
    "import pandas as pd\n",
    "import os"
   ]
  },
  {
   "cell_type": "markdown",
   "id": "894fb1bd",
   "metadata": {},
   "source": [
    "## Question 1 <a class=\"anchor\" id=\"question-1\"></a>\n",
    "\n",
    "What's the version of NumPy that you installed?\n",
    "You can get the version information using the `__version__` field:"
   ]
  },
  {
   "cell_type": "code",
   "execution_count": 2,
   "id": "1cca3982",
   "metadata": {},
   "outputs": [
    {
     "name": "stdout",
     "output_type": "stream",
     "text": [
      "[ANSWER-1] The version of NumPy is: 1.19.5\n"
     ]
    }
   ],
   "source": [
    "print(f\"[ANSWER-1] The version of NumPy is: {np.__version__}\")"
   ]
  },
  {
   "cell_type": "markdown",
   "id": "cf28dd5f",
   "metadata": {},
   "source": [
    "## Question 2 <a class=\"anchor\" id=\"question-2\"></a>\n",
    "\n",
    "What's the version of Pandas?"
   ]
  },
  {
   "cell_type": "code",
   "execution_count": 3,
   "id": "558f7a5a",
   "metadata": {},
   "outputs": [
    {
     "name": "stdout",
     "output_type": "stream",
     "text": [
      "[ANSWER-2] The version of Pandas is: 1.3.2\n"
     ]
    }
   ],
   "source": [
    "print(f\"[ANSWER-2] The version of Pandas is: {pd.__version__}\")"
   ]
  },
  {
   "cell_type": "markdown",
   "id": "8481b327",
   "metadata": {},
   "source": [
    "## Getting the data <a class=\"anchor\" id=\"get-data\"></a>\n",
    "\n",
    "For this homework, we'll use the same dataset as for the next session - the car price dataset."
   ]
  },
  {
   "cell_type": "code",
   "execution_count": 4,
   "id": "cfd768ca",
   "metadata": {},
   "outputs": [
    {
     "data": {
      "text/html": [
       "<div>\n",
       "<style scoped>\n",
       "    .dataframe tbody tr th:only-of-type {\n",
       "        vertical-align: middle;\n",
       "    }\n",
       "\n",
       "    .dataframe tbody tr th {\n",
       "        vertical-align: top;\n",
       "    }\n",
       "\n",
       "    .dataframe thead th {\n",
       "        text-align: right;\n",
       "    }\n",
       "</style>\n",
       "<table border=\"1\" class=\"dataframe\">\n",
       "  <thead>\n",
       "    <tr style=\"text-align: right;\">\n",
       "      <th></th>\n",
       "      <th>Make</th>\n",
       "      <th>Model</th>\n",
       "      <th>Year</th>\n",
       "      <th>Engine Fuel Type</th>\n",
       "      <th>Engine HP</th>\n",
       "      <th>Engine Cylinders</th>\n",
       "      <th>Transmission Type</th>\n",
       "      <th>Driven_Wheels</th>\n",
       "      <th>Number of Doors</th>\n",
       "      <th>Market Category</th>\n",
       "      <th>Vehicle Size</th>\n",
       "      <th>Vehicle Style</th>\n",
       "      <th>highway MPG</th>\n",
       "      <th>city mpg</th>\n",
       "      <th>Popularity</th>\n",
       "      <th>MSRP</th>\n",
       "    </tr>\n",
       "  </thead>\n",
       "  <tbody>\n",
       "    <tr>\n",
       "      <th>0</th>\n",
       "      <td>BMW</td>\n",
       "      <td>1 Series M</td>\n",
       "      <td>2011</td>\n",
       "      <td>premium unleaded (required)</td>\n",
       "      <td>335.0</td>\n",
       "      <td>6.0</td>\n",
       "      <td>MANUAL</td>\n",
       "      <td>rear wheel drive</td>\n",
       "      <td>2.0</td>\n",
       "      <td>Factory Tuner,Luxury,High-Performance</td>\n",
       "      <td>Compact</td>\n",
       "      <td>Coupe</td>\n",
       "      <td>26</td>\n",
       "      <td>19</td>\n",
       "      <td>3916</td>\n",
       "      <td>46135</td>\n",
       "    </tr>\n",
       "    <tr>\n",
       "      <th>1</th>\n",
       "      <td>BMW</td>\n",
       "      <td>1 Series</td>\n",
       "      <td>2011</td>\n",
       "      <td>premium unleaded (required)</td>\n",
       "      <td>300.0</td>\n",
       "      <td>6.0</td>\n",
       "      <td>MANUAL</td>\n",
       "      <td>rear wheel drive</td>\n",
       "      <td>2.0</td>\n",
       "      <td>Luxury,Performance</td>\n",
       "      <td>Compact</td>\n",
       "      <td>Convertible</td>\n",
       "      <td>28</td>\n",
       "      <td>19</td>\n",
       "      <td>3916</td>\n",
       "      <td>40650</td>\n",
       "    </tr>\n",
       "    <tr>\n",
       "      <th>2</th>\n",
       "      <td>BMW</td>\n",
       "      <td>1 Series</td>\n",
       "      <td>2011</td>\n",
       "      <td>premium unleaded (required)</td>\n",
       "      <td>300.0</td>\n",
       "      <td>6.0</td>\n",
       "      <td>MANUAL</td>\n",
       "      <td>rear wheel drive</td>\n",
       "      <td>2.0</td>\n",
       "      <td>Luxury,High-Performance</td>\n",
       "      <td>Compact</td>\n",
       "      <td>Coupe</td>\n",
       "      <td>28</td>\n",
       "      <td>20</td>\n",
       "      <td>3916</td>\n",
       "      <td>36350</td>\n",
       "    </tr>\n",
       "    <tr>\n",
       "      <th>3</th>\n",
       "      <td>BMW</td>\n",
       "      <td>1 Series</td>\n",
       "      <td>2011</td>\n",
       "      <td>premium unleaded (required)</td>\n",
       "      <td>230.0</td>\n",
       "      <td>6.0</td>\n",
       "      <td>MANUAL</td>\n",
       "      <td>rear wheel drive</td>\n",
       "      <td>2.0</td>\n",
       "      <td>Luxury,Performance</td>\n",
       "      <td>Compact</td>\n",
       "      <td>Coupe</td>\n",
       "      <td>28</td>\n",
       "      <td>18</td>\n",
       "      <td>3916</td>\n",
       "      <td>29450</td>\n",
       "    </tr>\n",
       "    <tr>\n",
       "      <th>4</th>\n",
       "      <td>BMW</td>\n",
       "      <td>1 Series</td>\n",
       "      <td>2011</td>\n",
       "      <td>premium unleaded (required)</td>\n",
       "      <td>230.0</td>\n",
       "      <td>6.0</td>\n",
       "      <td>MANUAL</td>\n",
       "      <td>rear wheel drive</td>\n",
       "      <td>2.0</td>\n",
       "      <td>Luxury</td>\n",
       "      <td>Compact</td>\n",
       "      <td>Convertible</td>\n",
       "      <td>28</td>\n",
       "      <td>18</td>\n",
       "      <td>3916</td>\n",
       "      <td>34500</td>\n",
       "    </tr>\n",
       "  </tbody>\n",
       "</table>\n",
       "</div>"
      ],
      "text/plain": [
       "  Make       Model  Year             Engine Fuel Type  Engine HP  \\\n",
       "0  BMW  1 Series M  2011  premium unleaded (required)      335.0   \n",
       "1  BMW    1 Series  2011  premium unleaded (required)      300.0   \n",
       "2  BMW    1 Series  2011  premium unleaded (required)      300.0   \n",
       "3  BMW    1 Series  2011  premium unleaded (required)      230.0   \n",
       "4  BMW    1 Series  2011  premium unleaded (required)      230.0   \n",
       "\n",
       "   Engine Cylinders Transmission Type     Driven_Wheels  Number of Doors  \\\n",
       "0               6.0            MANUAL  rear wheel drive              2.0   \n",
       "1               6.0            MANUAL  rear wheel drive              2.0   \n",
       "2               6.0            MANUAL  rear wheel drive              2.0   \n",
       "3               6.0            MANUAL  rear wheel drive              2.0   \n",
       "4               6.0            MANUAL  rear wheel drive              2.0   \n",
       "\n",
       "                         Market Category Vehicle Size Vehicle Style  \\\n",
       "0  Factory Tuner,Luxury,High-Performance      Compact         Coupe   \n",
       "1                     Luxury,Performance      Compact   Convertible   \n",
       "2                Luxury,High-Performance      Compact         Coupe   \n",
       "3                     Luxury,Performance      Compact         Coupe   \n",
       "4                                 Luxury      Compact   Convertible   \n",
       "\n",
       "   highway MPG  city mpg  Popularity   MSRP  \n",
       "0           26        19        3916  46135  \n",
       "1           28        19        3916  40650  \n",
       "2           28        20        3916  36350  \n",
       "3           28        18        3916  29450  \n",
       "4           28        18        3916  34500  "
      ]
     },
     "execution_count": 4,
     "metadata": {},
     "output_type": "execute_result"
    }
   ],
   "source": [
    "if not os.path.isfile(\"data.csv\"):\n",
    "    !wget https://raw.githubusercontent.com/alexeygrigorev/mlbookcamp-code/master/chapter-02-car-price/data.csv\n",
    "\n",
    "df = pd.read_csv(\"data.csv\")\n",
    "df.head()"
   ]
  },
  {
   "cell_type": "markdown",
   "id": "19f42891",
   "metadata": {},
   "source": [
    "## Question 3 <a class=\"anchor\" id=\"question-3\"></a>\n",
    "\n",
    "What's the average price of BMW cars in the dataset?"
   ]
  },
  {
   "cell_type": "code",
   "execution_count": 5,
   "id": "776e5306",
   "metadata": {},
   "outputs": [
    {
     "data": {
      "text/plain": [
       "array(['BMW', 'Audi', 'FIAT', 'Mercedes-Benz', 'Chrysler', 'Nissan',\n",
       "       'Volvo', 'Mazda', 'Mitsubishi', 'Ferrari', 'Alfa Romeo', 'Toyota',\n",
       "       'McLaren', 'Maybach', 'Pontiac', 'Porsche', 'Saab', 'GMC',\n",
       "       'Hyundai', 'Plymouth', 'Honda', 'Oldsmobile', 'Suzuki', 'Ford',\n",
       "       'Cadillac', 'Kia', 'Bentley', 'Chevrolet', 'Dodge', 'Lamborghini',\n",
       "       'Lincoln', 'Subaru', 'Volkswagen', 'Spyker', 'Buick', 'Acura',\n",
       "       'Rolls-Royce', 'Maserati', 'Lexus', 'Aston Martin', 'Land Rover',\n",
       "       'Lotus', 'Infiniti', 'Scion', 'Genesis', 'HUMMER', 'Tesla',\n",
       "       'Bugatti'], dtype=object)"
      ]
     },
     "execution_count": 5,
     "metadata": {},
     "output_type": "execute_result"
    }
   ],
   "source": [
    "# Check available car Make\n",
    "df['Make'].unique()"
   ]
  },
  {
   "cell_type": "code",
   "execution_count": 6,
   "id": "44c5fc0d",
   "metadata": {},
   "outputs": [
    {
     "data": {
      "text/plain": [
       "array(['bmw', 'audi', 'fiat', 'mercedes_benz', 'chrysler', 'nissan',\n",
       "       'volvo', 'mazda', 'mitsubishi', 'ferrari', 'alfa_romeo', 'toyota',\n",
       "       'mclaren', 'maybach', 'pontiac', 'porsche', 'saab', 'gmc',\n",
       "       'hyundai', 'plymouth', 'honda', 'oldsmobile', 'suzuki', 'ford',\n",
       "       'cadillac', 'kia', 'bentley', 'chevrolet', 'dodge', 'lamborghini',\n",
       "       'lincoln', 'subaru', 'volkswagen', 'spyker', 'buick', 'acura',\n",
       "       'rolls_royce', 'maserati', 'lexus', 'aston_martin', 'land_rover',\n",
       "       'lotus', 'infiniti', 'scion', 'genesis', 'hummer', 'tesla',\n",
       "       'bugatti'], dtype=object)"
      ]
     },
     "execution_count": 6,
     "metadata": {},
     "output_type": "execute_result"
    }
   ],
   "source": [
    "# Normalizing car Make\n",
    "\n",
    "df['Make'] = df['Make'].str.lower().str.replace(\" \", \"_\").str.replace(\"-\", \"_\")\n",
    "df['Make'].unique()"
   ]
  },
  {
   "cell_type": "code",
   "execution_count": 7,
   "id": "f04ad7ec",
   "metadata": {},
   "outputs": [
    {
     "name": "stdout",
     "output_type": "stream",
     "text": [
      "[ANSWER-3] Average price of BMW cars is 61546.76347305389\n"
     ]
    }
   ],
   "source": [
    "# Computing BMW cars average price\n",
    "\n",
    "print(f\"[ANSWER-3] Average price of BMW cars is {df[df['Make'] == 'bmw']['MSRP'].mean()}\")"
   ]
  },
  {
   "cell_type": "markdown",
   "id": "9daca730",
   "metadata": {},
   "source": [
    "## Question 4 <a class=\"anchor\" id=\"question-4\"></a>\n",
    "\n",
    "Select a subset of cars after year 2015 (inclusive, i.e. 2015 and after). How many of them have missing values for Engine HP?"
   ]
  },
  {
   "cell_type": "code",
   "execution_count": 8,
   "id": "68865ef7",
   "metadata": {},
   "outputs": [
    {
     "name": "stdout",
     "output_type": "stream",
     "text": [
      "[ANSWER-4] There are 51 missing values in 'Engine HP'\n"
     ]
    }
   ],
   "source": [
    "print(f\"[ANSWER-4] There are {df[df['Year'] >= 2015]['Engine HP'].isnull().sum()} missing values in 'Engine HP'\")\n"
   ]
  },
  {
   "cell_type": "markdown",
   "id": "09a127e6",
   "metadata": {},
   "source": [
    "## Question 5 <a class=\"anchor\" id=\"question-5\"></a>\n",
    "\n",
    "<ul>\n",
    "<li>Calculate the average \"Engine HP\" in the dataset.</li>\n",
    "<li>Use the fillna method and to fill the missing values in \"Engine HP\" with the mean value from the previous step </li>\n",
    "<li>Now, calcualte the average of \"Engine HP\" again.</li>\n",
    "<li>Has it changed?</li>\n",
    "</ul>\n",
    "\n",
    "Round both means before answering this questions. You can use the round function for that:\n",
    "\n"
   ]
  },
  {
   "cell_type": "code",
   "execution_count": 9,
   "id": "978d6698",
   "metadata": {},
   "outputs": [
    {
     "name": "stdout",
     "output_type": "stream",
     "text": [
      "Mean HP before (249) and Mean HP after (249) are equal?: True\n",
      "[ANSwER-5] No, the HP mean value has not change\n"
     ]
    }
   ],
   "source": [
    "mean_hp_before = round(df['Engine HP'].mean())\n",
    "df['Engine HP Filled'] = df['Engine HP'].fillna(mean_hp_before)\n",
    "mean_hp_after = round(df['Engine HP Filled'].mean())\n",
    "\n",
    "print(f\"Mean HP before ({mean_hp_before}) and Mean HP after ({mean_hp_after}) are equal?: {mean_hp_before == mean_hp_after}\")\n",
    "print(\"[ANSwER-5] No, the HP mean value has not change\")"
   ]
  },
  {
   "cell_type": "markdown",
   "id": "b704d0b3",
   "metadata": {},
   "source": [
    "## Question 6 <a class=\"anchor\" id=\"question-6\"></a>\n",
    "\n",
    "<ul>\n",
    "<li>Select all the \"Rolls-Royce\" cars from the dataset.</li>\n",
    "<li>Select only columns \"Engine HP\", \"Engine Cylinders\", \"highway MPG\".</li>\n",
    "<li>Now drop all duplicated rows using drop_duplicates method (you should get a dataframe with 7 rows).</li>\n",
    "<li>Get the underlying NumPy array. Let's call it X.</li>\n",
    "<li>Compute matrix-matrix multiplication between the transpose of X and X. To get the transpose, use X.T. Let's call the result XTX.</li>\n",
    "<li>Invert XTX.</li>\n",
    "<li>What's the sum of all the elements of the result?</li>\n",
    "</ul>\n",
    "\n",
    "Hint: if the result is negative, re-read the task one more time"
   ]
  },
  {
   "cell_type": "code",
   "execution_count": 10,
   "id": "2656c630",
   "metadata": {},
   "outputs": [
    {
     "name": "stdout",
     "output_type": "stream",
     "text": [
      "[ANSWER-6] The sum of all elements is: 0.032212320677486125\n"
     ]
    }
   ],
   "source": [
    "rr_df = df[df['Make'] == 'rolls_royce']\n",
    "rr_df = rr_df[['Engine HP', 'Engine Cylinders', 'highway MPG']]\n",
    "rr_df.drop_duplicates(inplace=True)\n",
    "X = rr_df.values\n",
    "XTX = X.T.dot(X)\n",
    "XTX_inv = np.linalg.inv(XTX)\n",
    "print(f\"[ANSWER-6] The sum of all elements is: {np.sum(XTX_inv)}\")\n"
   ]
  },
  {
   "cell_type": "markdown",
   "id": "0ad0fc3f",
   "metadata": {},
   "source": [
    "## Questions 7 <a class=\"anchor\" id=\"question-7\"></a>\n",
    "<ul>\n",
    "<li>Create an array y with values [1000, 1100, 900, 1200, 1000, 850, 1300].</li>\n",
    "<li>Multiply the inverse of XTX with the transpose of X, and then multiply the result by y. Call the result w.</li> \n",
    "<li>What's the value of the first element of w?.</li>\n",
    "</ul>\n",
    "\n",
    "> **Note**: You just implemented linear regression. We'll talk about it in the next lesson.\n",
    "\n"
   ]
  },
  {
   "cell_type": "code",
   "execution_count": 11,
   "id": "9d3b4157",
   "metadata": {},
   "outputs": [
    {
     "name": "stdout",
     "output_type": "stream",
     "text": [
      "The w vector is: [ 0.19989598 31.02612262 31.65378877]\n",
      "[ANSWER-7] The first element of w is: 0.19989598183188978\n"
     ]
    }
   ],
   "source": [
    "y = np.array([1000, 1100, 900, 1200, 1000, 850, 1300])\n",
    "XTXiXT = XTX_inv.dot(X.T)\n",
    "w = XTXiXT.dot(y)\n",
    "print(f\"The w vector is: {w}\")\n",
    "print(f\"[ANSWER-7] The first element of w is: {w[0]}\")"
   ]
  }
 ],
 "metadata": {
  "kernelspec": {
   "display_name": "Python 3 (ipykernel)",
   "language": "python",
   "name": "python3"
  },
  "language_info": {
   "codemirror_mode": {
    "name": "ipython",
    "version": 3
   },
   "file_extension": ".py",
   "mimetype": "text/x-python",
   "name": "python",
   "nbconvert_exporter": "python",
   "pygments_lexer": "ipython3",
   "version": "3.8.11"
  }
 },
 "nbformat": 4,
 "nbformat_minor": 5
}
