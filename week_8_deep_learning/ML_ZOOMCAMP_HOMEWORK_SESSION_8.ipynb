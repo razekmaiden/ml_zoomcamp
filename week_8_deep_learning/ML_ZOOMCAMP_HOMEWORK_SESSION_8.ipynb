{
 "cells": [
  {
   "cell_type": "markdown",
   "id": "78ac937b",
   "metadata": {},
   "source": [
    "# Homework\n",
    "---"
   ]
  },
  {
   "cell_type": "markdown",
   "id": "539fcc91",
   "metadata": {},
   "source": [
    "### Dataset\n",
    "\n",
    "In this homework, we'll build a model for predicting if we have an image of a dog or a cat. For this,\n",
    "we will use the \"Dogs & Cats\" dataset that can be downloaded from [Kaggle](https://www.kaggle.com/c/dogs-vs-cats/data). \n",
    "\n",
    "You need to download the `train.zip` file.\n",
    "\n",
    "If you have troubles downloading from Kaggle, use [this link](https://github.com/alexeygrigorev/large-datasets/releases/download/dogs-cats/train.zip) instead:\n",
    "\n",
    "```bash\n",
    "wget https://github.com/alexeygrigorev/large-datasets/releases/download/dogs-cats/train.zip\n",
    "```\n",
    "\n",
    "In the lectures we saw how to use a pre-trained neural network. In the homework, we'll train a much smaller model from scratch. \n",
    "\n",
    "**Note:** You don't need a computer with a GPU for this homework. A laptop or any personal computer should be sufficient. "
   ]
  },
  {
   "cell_type": "markdown",
   "id": "419ee84b",
   "metadata": {},
   "source": [
    "### Data Preparation\n",
    "\n",
    "The dataset contains 12,500 images of cats and 12,500 images of dogs. \n",
    "\n",
    "Now we need to split this data into train and validation\n",
    "\n",
    "* Create a `train` and `validation` folders\n",
    "* In each folder, create `cats` and `dogs` folders\n",
    "* Move the first 10,000 images to the train folder (from 0 to 9999) for boths cats and dogs - and put them in respective folders\n",
    "* Move the remaining 2,500 images to the validation folder (from 10000 to 12499)\n",
    "\n",
    "You can do this manually or with Python (check `os` and `shutil` packages)."
   ]
  },
  {
   "cell_type": "markdown",
   "id": "8159d0b0",
   "metadata": {},
   "source": [
    "### Model\n",
    "\n",
    "For this homework we will use Convolutional Neural Network (CNN. Like in the lectures, we'll use Keras.\n",
    "\n",
    "You need to develop the model with following structure:\n",
    "\n",
    "* The shape for input should be `(150, 150, 3)`\n",
    "* Next, create a covolutional layer ([`Conv2D`](https://keras.io/api/layers/convolution_layers/convolution2d/)):\n",
    "    * Use 32 filters\n",
    "    * Kernel size should be `(3, 3)` (that's the size of the filter)\n",
    "    * Use `'relu'` as activation \n",
    "* Reduce the size of the feature map with max pooling ([`MaxPooling2D`](https://keras.io/api/layers/pooling_layers/max_pooling2d/))\n",
    "    * Set the pooling size to `(2, 2)`\n",
    "* Turn the multi-dimensional result into vectors using a [`Flatten`](https://keras.io/api/layers/reshaping_layers/flatten/) layer\n",
    "* Next, add a `Dense` layer with 64 neurons and `'relu'` activation\n",
    "* Finally, create the `Dense` layer with 1 neuron - this will be the output\n",
    "    * The output layer should have an activation - use the appropriate activation for the binary classification case\n",
    "\n",
    "As optimizer use [`SGD`](https://keras.io/api/optimizers/sgd/) with the following parameters:\n",
    "\n",
    "* `SGD(lr=0.002, momentum=0.8)`\n",
    "\n",
    "\n",
    "For clarification about kernel size and max pooling, check [Week #11 Office Hours](https://www.youtube.com/watch?v=1WRgdBTUaAc)."
   ]
  },
  {
   "cell_type": "code",
   "execution_count": 1,
   "id": "258790ea",
   "metadata": {},
   "outputs": [],
   "source": [
    "import os\n",
    "import shutil\n",
    "import tensorflow as tf\n",
    "from tensorflow import keras\n",
    "\n",
    "from tensorflow.keras.preprocessing.image import ImageDataGenerator\n",
    "#from tensorflow.keras.applications.xception import preprocess_input\n",
    "#from tensorflow.keras.applications.xception import Xception\n",
    "#from tensorflow.keras.layers import Conv2D\n",
    "#from tensorflow.keras.layers import MaxPooling2D\n",
    "#from tensorflow.keras.layers import Flatten\n",
    "#from tensorflow.keras.layers import Dense\n",
    "#from tensorflow.keras.layers import ReLU\n",
    "\n",
    "import numpy as np\n",
    "import matplotlib.pyplot as plt\n",
    "\n",
    "%matplotlib inline"
   ]
  },
  {
   "cell_type": "code",
   "execution_count": 2,
   "id": "856aa894",
   "metadata": {
    "scrolled": true
   },
   "outputs": [
    {
     "name": "stdout",
     "output_type": "stream",
     "text": [
      "[INFO] Dataset already downloaded\n"
     ]
    }
   ],
   "source": [
    "## Download and unzip Dataset\n",
    "data = 'https://github.com/alexeygrigorev/large-datasets/releases/download/dogs-cats/train.zip'\n",
    "if not os.path.exists(\"train.zip\"):\n",
    "    print(\"[INFO] Downloading Dataset\")\n",
    "    !wget $data\n",
    "    shutil.unpack_archive(\"train.zip\", \"dataset\")\n",
    "else:\n",
    "    print(\"[INFO] Dataset already downloaded\")"
   ]
  },
  {
   "cell_type": "code",
   "execution_count": 3,
   "id": "5107dcce",
   "metadata": {},
   "outputs": [],
   "source": [
    "# Prepare Dataset\n",
    "\n",
    "## from imutils ---> https://github.com/PyImageSearch/imutils/blob/master/imutils/paths.py\n",
    "def list_files(basePath, validExts=None, contains=None):\n",
    "    # loop over the directory structure\n",
    "    for (rootDir, dirNames, filenames) in os.walk(basePath):\n",
    "        # loop over the filenames in the current directory\n",
    "        for filename in filenames:\n",
    "            # if the contains string is not none and the filename does not contain\n",
    "            # the supplied string, then ignore the file\n",
    "            if contains is not None and filename.find(contains) == -1:\n",
    "                continue\n",
    "\n",
    "            # determine the file extension of the current file\n",
    "            ext = filename[filename.rfind(\".\"):].lower()\n",
    "\n",
    "            # check to see if the file is an image and should be processed\n",
    "            if validExts is None or ext.endswith(validExts):\n",
    "                # construct the path to the image and yield it\n",
    "                imagePath = os.path.join(rootDir, filename)\n",
    "                yield imagePath\n",
    "\n",
    "\n",
    "def dataset_split(input_folder=\"dataset/train\", output_folder=\"dataset/validation\", thr=10000.0):\n",
    "    train_dog_folder = os.path.join(input_folder, \"dog\")\n",
    "    train_cat_folder = os.path.join(input_folder, \"cat\")\n",
    "    validation_dog_folder = os.path.join(output_folder, \"dog\")\n",
    "    validation_cat_folder = os.path.join(output_folder, \"cat\")\n",
    "    \n",
    "    if not os.path.exists(validation_dog_folder):\n",
    "        os.makedirs(validation_dog_folder)\n",
    "    if not os.path.exists(validation_cat_folder):\n",
    "        os.makedirs(validation_cat_folder)\n",
    "    if not os.path.exists(train_dog_folder):\n",
    "        os.makedirs(train_dog_folder)\n",
    "    if not os.path.exists(train_cat_folder):\n",
    "        os.makedirs(train_cat_folder)\n",
    "        \n",
    "    for file in list_files(input_folder, validExts=(\".jpg\")):\n",
    "        label = os.path.split(file)[-1].split(\".\")[0]\n",
    "        n_id = float(os.path.split(file)[-1].split(\".\")[1])\n",
    "        if n_id >= thr:\n",
    "            if label == \"dog\":\n",
    "                print(f\"[INFO] Moving {file} to {validation_dog_folder} folder\")\n",
    "                shutil.move(file, validation_dog_folder)\n",
    "            else:\n",
    "                print(f\"[INFO] Moving {file} to {validation_cat_folder} folder\")\n",
    "                shutil.move(file, validation_cat_folder)\n",
    "        else:\n",
    "            if label == \"dog\":\n",
    "                print(f\"[INFO] Moving {file} to {train_dog_folder} folder\")\n",
    "                shutil.move(file, train_dog_folder)\n",
    "            else:\n",
    "                print(f\"[INFO] Moving {file} to {train_cat_folder} folder\")\n",
    "                shutil.move(file, train_cat_folder)\n",
    "\n",
    "    "
   ]
  },
  {
   "cell_type": "code",
   "execution_count": 4,
   "id": "24a8a496",
   "metadata": {},
   "outputs": [],
   "source": [
    "#dataset_split()"
   ]
  },
  {
   "cell_type": "code",
   "execution_count": 5,
   "id": "373fdab6",
   "metadata": {},
   "outputs": [],
   "source": [
    "def make_model(learning_rate=0.002):\n",
    "    #base_model = Xception(\n",
    "    #    weights='imagenet',\n",
    "    #    include_top=False,\n",
    "    #    input_shape=(150, 150, 3)\n",
    "    #)\n",
    "\n",
    "    #base_model.trainable = False\n",
    "\n",
    "    #########################################\n",
    "\n",
    "    inputs = keras.Input(shape=(150, 150, 3))\n",
    "    #base = base_model(inputs, training=False)\n",
    "    #vectors = keras.layers.GlobalAveragePooling2D()(base)\n",
    "\n",
    "    conv_2d = keras.layers.Conv2D(filters=32, kernel_size=(3, 3), activation='relu')(inputs)\n",
    "    reduced = keras.layers.MaxPooling2D(pool_size=(2, 2))(conv_2d)\n",
    "    vectors = keras.layers.Flatten()(reduced)\n",
    "    dense_64 = keras.layers.Dense(64, activation='relu')(vectors)\n",
    "    outputs = keras.layers.Dense(1, activation='sigmoid')(dense_64)\n",
    "    \n",
    "    model = keras.Model(inputs, outputs)\n",
    "    \n",
    "    #########################################\n",
    "\n",
    "    optimizer = keras.optimizers.SGD(learning_rate=learning_rate, momentum=0.8)\n",
    "    loss = keras.losses.BinaryCrossentropy(from_logits=False)\n",
    "\n",
    "    model.compile(\n",
    "        optimizer=optimizer,\n",
    "        loss=loss,\n",
    "        metrics=['accuracy']\n",
    "    )\n",
    "    \n",
    "    return model\n"
   ]
  },
  {
   "cell_type": "code",
   "execution_count": 6,
   "id": "2d376f5c",
   "metadata": {
    "scrolled": true
   },
   "outputs": [
    {
     "name": "stderr",
     "output_type": "stream",
     "text": [
      "2021-11-21 22:51:15.975484: I tensorflow/stream_executor/cuda/cuda_gpu_executor.cc:939] successful NUMA node read from SysFS had negative value (-1), but there must be at least one NUMA node, so returning NUMA node zero\n",
      "2021-11-21 22:51:15.984798: I tensorflow/stream_executor/cuda/cuda_gpu_executor.cc:939] successful NUMA node read from SysFS had negative value (-1), but there must be at least one NUMA node, so returning NUMA node zero\n",
      "2021-11-21 22:51:15.985347: I tensorflow/stream_executor/cuda/cuda_gpu_executor.cc:939] successful NUMA node read from SysFS had negative value (-1), but there must be at least one NUMA node, so returning NUMA node zero\n",
      "2021-11-21 22:51:15.986350: I tensorflow/core/platform/cpu_feature_guard.cc:151] This TensorFlow binary is optimized with oneAPI Deep Neural Network Library (oneDNN) to use the following CPU instructions in performance-critical operations:  AVX2 FMA\n",
      "To enable them in other operations, rebuild TensorFlow with the appropriate compiler flags.\n",
      "2021-11-21 22:51:15.986622: I tensorflow/stream_executor/cuda/cuda_gpu_executor.cc:939] successful NUMA node read from SysFS had negative value (-1), but there must be at least one NUMA node, so returning NUMA node zero\n",
      "2021-11-21 22:51:15.986939: I tensorflow/stream_executor/cuda/cuda_gpu_executor.cc:939] successful NUMA node read from SysFS had negative value (-1), but there must be at least one NUMA node, so returning NUMA node zero\n",
      "2021-11-21 22:51:15.987237: I tensorflow/stream_executor/cuda/cuda_gpu_executor.cc:939] successful NUMA node read from SysFS had negative value (-1), but there must be at least one NUMA node, so returning NUMA node zero\n",
      "2021-11-21 22:51:16.471411: I tensorflow/stream_executor/cuda/cuda_gpu_executor.cc:939] successful NUMA node read from SysFS had negative value (-1), but there must be at least one NUMA node, so returning NUMA node zero\n",
      "2021-11-21 22:51:16.471744: I tensorflow/stream_executor/cuda/cuda_gpu_executor.cc:939] successful NUMA node read from SysFS had negative value (-1), but there must be at least one NUMA node, so returning NUMA node zero\n",
      "2021-11-21 22:51:16.472073: I tensorflow/stream_executor/cuda/cuda_gpu_executor.cc:939] successful NUMA node read from SysFS had negative value (-1), but there must be at least one NUMA node, so returning NUMA node zero\n",
      "2021-11-21 22:51:16.472346: I tensorflow/core/common_runtime/gpu/gpu_device.cc:1525] Created device /job:localhost/replica:0/task:0/device:GPU:0 with 3028 MB memory:  -> device: 0, name: NVIDIA GeForce GTX 1050 Ti, pci bus id: 0000:01:00.0, compute capability: 6.1\n"
     ]
    }
   ],
   "source": [
    "model = make_model()"
   ]
  },
  {
   "cell_type": "markdown",
   "id": "b40fe601",
   "metadata": {},
   "source": [
    "### Question 1\n",
    "\n",
    "Since we have a binary classification problem, what is the best loss function for us?\n",
    "\n",
    "Note: since we specify an activation for the output layer, we don't need to set `from_logits=True`"
   ]
  },
  {
   "cell_type": "code",
   "execution_count": 7,
   "id": "7ef3d839",
   "metadata": {},
   "outputs": [
    {
     "name": "stdout",
     "output_type": "stream",
     "text": [
      "[ANSWER-1] For a binary classification problem the besst loss funtion is : BinaryCrossentropy\n"
     ]
    }
   ],
   "source": [
    "print(\"[ANSWER-1] For a binary classification problem the besst loss funtion is : BinaryCrossentropy\")"
   ]
  },
  {
   "cell_type": "markdown",
   "id": "bdf00f8a",
   "metadata": {},
   "source": [
    "### Question 2\n",
    "\n",
    "What's the total number of parameters of the model? You can use the `summary` method for that. \n"
   ]
  },
  {
   "cell_type": "code",
   "execution_count": 8,
   "id": "5c391489",
   "metadata": {
    "scrolled": true
   },
   "outputs": [
    {
     "name": "stdout",
     "output_type": "stream",
     "text": [
      "Model: \"model\"\n",
      "_________________________________________________________________\n",
      " Layer (type)                Output Shape              Param #   \n",
      "=================================================================\n",
      " input_1 (InputLayer)        [(None, 150, 150, 3)]     0         \n",
      "                                                                 \n",
      " conv2d (Conv2D)             (None, 148, 148, 32)      896       \n",
      "                                                                 \n",
      " max_pooling2d (MaxPooling2D  (None, 74, 74, 32)       0         \n",
      " )                                                               \n",
      "                                                                 \n",
      " flatten (Flatten)           (None, 175232)            0         \n",
      "                                                                 \n",
      " dense (Dense)               (None, 64)                11214912  \n",
      "                                                                 \n",
      " dense_1 (Dense)             (None, 1)                 65        \n",
      "                                                                 \n",
      "=================================================================\n",
      "Total params: 11,215,873\n",
      "Trainable params: 11,215,873\n",
      "Non-trainable params: 0\n",
      "_________________________________________________________________\n"
     ]
    }
   ],
   "source": [
    "model.summary()"
   ]
  },
  {
   "cell_type": "code",
   "execution_count": 9,
   "id": "b6880e3b",
   "metadata": {},
   "outputs": [
    {
     "name": "stdout",
     "output_type": "stream",
     "text": [
      "[ANSWER-2] The total number of parameters is: 11,215,873\n"
     ]
    }
   ],
   "source": [
    "print(\"[ANSWER-2] The total number of parameters is: 11,215,873\")"
   ]
  },
  {
   "cell_type": "markdown",
   "id": "aa5fc93c",
   "metadata": {},
   "source": [
    "### Generators and Training\n",
    "\n",
    "For the next two questions, use the following data generator for both train and validation:\n",
    "\n",
    "```python\n",
    "ImageDataGenerator(rescale=1./255)\n",
    "```\n",
    "\n",
    "* We don't need to do any additional pre-processing for the images.\n",
    "* When reading the data from train/val directories, check the `class_mode` parameter. Which value should it be for a binary classification problem?\n",
    "* Use `batch_size=20`\n",
    "* Use `shuffle=True` for both training and validaition \n",
    "\n",
    "For training use `.fit()` with the following params:\n",
    "\n",
    "```python\n",
    "model.fit(\n",
    "    train_generator,\n",
    "    steps_per_epoch=100,\n",
    "    epochs=10,\n",
    "    validation_data=validation_generator,\n",
    "    validation_steps=50\n",
    ")\n",
    "```\n",
    "\n",
    "Note `validation_steps=50` - this parameter says \"run only 50 steps on the validation data for evaluating the results\". \n",
    "This way we iterate a bit faster, but don't use the entire validation dataset.\n",
    "That's why it's important to shuffle the validation dataset as well. "
   ]
  },
  {
   "cell_type": "code",
   "execution_count": 10,
   "id": "5e2b2dde",
   "metadata": {},
   "outputs": [
    {
     "name": "stdout",
     "output_type": "stream",
     "text": [
      "Found 20000 images belonging to 2 classes.\n"
     ]
    }
   ],
   "source": [
    "# train dataset generation\n",
    "train_gen = ImageDataGenerator(rescale=1./255)\n",
    "\n",
    "train_ds = train_gen.flow_from_directory(\n",
    "    'dataset/train',\n",
    "    target_size=(150, 150),\n",
    "    batch_size=20,\n",
    "    class_mode='binary',\n",
    "    shuffle=True\n",
    ")"
   ]
  },
  {
   "cell_type": "code",
   "execution_count": 11,
   "id": "59b200fb",
   "metadata": {},
   "outputs": [
    {
     "name": "stdout",
     "output_type": "stream",
     "text": [
      "Found 5000 images belonging to 2 classes.\n"
     ]
    }
   ],
   "source": [
    "# validation dataset generation\n",
    "val_gen = ImageDataGenerator(rescale=1./255)\n",
    "\n",
    "val_ds = val_gen.flow_from_directory(\n",
    "    'dataset/validation',\n",
    "    target_size=(150, 150),\n",
    "    batch_size=20,\n",
    "    class_mode='binary',\n",
    "    shuffle=True\n",
    ")"
   ]
  },
  {
   "cell_type": "markdown",
   "id": "fb853c91",
   "metadata": {},
   "source": [
    "### First training"
   ]
  },
  {
   "cell_type": "code",
   "execution_count": 12,
   "id": "7eb92ae9",
   "metadata": {
    "scrolled": true
   },
   "outputs": [
    {
     "name": "stdout",
     "output_type": "stream",
     "text": [
      "Epoch 1/10\n"
     ]
    },
    {
     "name": "stderr",
     "output_type": "stream",
     "text": [
      "2021-11-21 22:51:17.977976: I tensorflow/stream_executor/cuda/cuda_dnn.cc:366] Loaded cuDNN version 8201\n",
      "2021-11-21 22:51:18.258688: I tensorflow/core/platform/default/subprocess.cc:304] Start cannot spawn child process: No such file or directory\n",
      "2021-11-21 22:51:18.259935: W tensorflow/stream_executor/gpu/asm_compiler.cc:111] *** WARNING *** You are using ptxas 10.2.89, which is older than 11.1. ptxas before 11.1 is known to miscompile XLA code, leading to incorrect results or invalid-address errors.\n",
      "\n",
      "You may not need to update to CUDA 11.1; cherry-picking the ptxas binary is often sufficient.\n"
     ]
    },
    {
     "name": "stdout",
     "output_type": "stream",
     "text": [
      "100/100 [==============================] - 9s 76ms/step - loss: 0.7039 - accuracy: 0.5140 - val_loss: 0.6918 - val_accuracy: 0.5180\n",
      "Epoch 2/10\n",
      "100/100 [==============================] - 10s 96ms/step - loss: 0.6903 - accuracy: 0.5240 - val_loss: 0.6871 - val_accuracy: 0.5460\n",
      "Epoch 3/10\n",
      "100/100 [==============================] - 8s 82ms/step - loss: 0.6897 - accuracy: 0.5400 - val_loss: 0.6867 - val_accuracy: 0.5540\n",
      "Epoch 4/10\n",
      "100/100 [==============================] - 7s 73ms/step - loss: 0.6873 - accuracy: 0.5455 - val_loss: 0.6798 - val_accuracy: 0.5590\n",
      "Epoch 5/10\n",
      "100/100 [==============================] - 7s 71ms/step - loss: 0.6806 - accuracy: 0.5555 - val_loss: 0.6830 - val_accuracy: 0.5470\n",
      "Epoch 6/10\n",
      "100/100 [==============================] - 7s 73ms/step - loss: 0.6794 - accuracy: 0.5685 - val_loss: 0.6778 - val_accuracy: 0.5640\n",
      "Epoch 7/10\n",
      "100/100 [==============================] - 7s 72ms/step - loss: 0.6752 - accuracy: 0.5720 - val_loss: 0.6704 - val_accuracy: 0.5870\n",
      "Epoch 8/10\n",
      "100/100 [==============================] - 7s 73ms/step - loss: 0.6751 - accuracy: 0.5700 - val_loss: 0.6579 - val_accuracy: 0.6230\n",
      "Epoch 9/10\n",
      "100/100 [==============================] - 7s 72ms/step - loss: 0.6633 - accuracy: 0.5920 - val_loss: 0.6577 - val_accuracy: 0.5960\n",
      "Epoch 10/10\n",
      "100/100 [==============================] - 7s 73ms/step - loss: 0.6482 - accuracy: 0.6280 - val_loss: 0.6497 - val_accuracy: 0.6220\n"
     ]
    }
   ],
   "source": [
    "results = model.fit(train_ds, steps_per_epoch=100, epochs=10, validation_data=val_ds, validation_steps=50)"
   ]
  },
  {
   "cell_type": "code",
   "execution_count": 13,
   "id": "8081956d",
   "metadata": {
    "scrolled": false
   },
   "outputs": [],
   "source": [
    "#print(results.history)"
   ]
  },
  {
   "cell_type": "code",
   "execution_count": 14,
   "id": "e35d9c9d",
   "metadata": {
    "scrolled": true
   },
   "outputs": [
    {
     "data": {
      "text/plain": [
       "<matplotlib.legend.Legend at 0x7f429df1ab80>"
      ]
     },
     "execution_count": 14,
     "metadata": {},
     "output_type": "execute_result"
    },
    {
     "data": {
      "image/png": "[encoded data removed]",
      "text/plain": [
       "<Figure size 432x288 with 1 Axes>"
      ]
     },
     "metadata": {
      "needs_background": "light"
     },
     "output_type": "display_data"
    }
   ],
   "source": [
    "plt.plot(results.history['accuracy'], label=('train'))\n",
    "plt.plot(results.history['val_accuracy'], label=('val'))\n",
    "plt.grid(True)\n",
    "plt.legend()"
   ]
  },
  {
   "cell_type": "markdown",
   "id": "ee2a8252",
   "metadata": {},
   "source": [
    "### Question 3\n",
    "\n",
    "What is the median of training accuracy for this model?"
   ]
  },
  {
   "cell_type": "code",
   "execution_count": 15,
   "id": "10e3b329",
   "metadata": {},
   "outputs": [
    {
     "name": "stdout",
     "output_type": "stream",
     "text": [
      "[ANSWER-3] The median of training accuracy is: 0.56\n"
     ]
    }
   ],
   "source": [
    "train_median_acc = round(np.median(results.history['accuracy']), 2)\n",
    "print(f\"[ANSWER-3] The median of training accuracy is: {train_median_acc}\")"
   ]
  },
  {
   "cell_type": "markdown",
   "id": "37ca74ff",
   "metadata": {},
   "source": [
    "### Question 4\n",
    "\n",
    "What is the standard deviation of training loss for this model?"
   ]
  },
  {
   "cell_type": "code",
   "execution_count": 16,
   "id": "069c77e4",
   "metadata": {},
   "outputs": [
    {
     "name": "stdout",
     "output_type": "stream",
     "text": [
      "[ANSWER-4] The standard deviation of training loss is: 0.014680980486043278\n"
     ]
    }
   ],
   "source": [
    "train_std_loss = np.std(results.history['loss'])\n",
    "print(f\"[ANSWER-4] The standard deviation of training loss is: {train_std_loss}\")"
   ]
  },
  {
   "cell_type": "markdown",
   "id": "570028d3",
   "metadata": {},
   "source": [
    "### Data Augmentation\n",
    "\n",
    "For the next two questions, we'll generate more data using data augmentations. \n",
    "\n",
    "Add the following augmentations to your training data generator:\n",
    "\n",
    "* `rotation_range=40,`\n",
    "* `width_shift_range=0.2,`\n",
    "* `height_shift_range=0.2,`\n",
    "* `shear_range=0.2,`\n",
    "* `zoom_range=0.2,`\n",
    "* `horizontal_flip=True,`\n",
    "* `fill_mode='nearest'`"
   ]
  },
  {
   "cell_type": "code",
   "execution_count": 17,
   "id": "8d0f5e84",
   "metadata": {},
   "outputs": [
    {
     "name": "stdout",
     "output_type": "stream",
     "text": [
      "Found 20000 images belonging to 2 classes.\n"
     ]
    }
   ],
   "source": [
    "# train dataset generation\n",
    "train_gen = ImageDataGenerator(\n",
    "    rescale=1./255,\n",
    "    rotation_range=40,\n",
    "    width_shift_range=0.2,\n",
    "    height_shift_range=0.2,\n",
    "    shear_range=0.2,\n",
    "    zoom_range=0.2,\n",
    "    horizontal_flip=True,\n",
    "    fill_mode='nearest')\n",
    "\n",
    "train_ds = train_gen.flow_from_directory(\n",
    "    'dataset/train',\n",
    "    target_size=(150, 150),\n",
    "    batch_size=20,\n",
    "    class_mode='binary',\n",
    "    shuffle=True\n",
    ")"
   ]
  },
  {
   "cell_type": "markdown",
   "id": "ad0af0cb",
   "metadata": {},
   "source": [
    "### Question 5 \n",
    "\n",
    "Let's train our model for 10 more epochs using the same code as previously.\n",
    "Make sure you don't re-create the model - we want to continue training the model\n",
    "we already started training.\n",
    "\n",
    "What is the mean of validation loss for the model trained with augmentations?\n"
   ]
  },
  {
   "cell_type": "code",
   "execution_count": 18,
   "id": "9a261231",
   "metadata": {},
   "outputs": [
    {
     "name": "stdout",
     "output_type": "stream",
     "text": [
      "Epoch 1/10\n",
      "100/100 [==============================] - 14s 145ms/step - loss: 0.6710 - accuracy: 0.5940 - val_loss: 0.6665 - val_accuracy: 0.5830\n",
      "Epoch 2/10\n",
      "100/100 [==============================] - 15s 152ms/step - loss: 0.6800 - accuracy: 0.5715 - val_loss: 0.6572 - val_accuracy: 0.6140\n",
      "Epoch 3/10\n",
      "100/100 [==============================] - 17s 174ms/step - loss: 0.6711 - accuracy: 0.5850 - val_loss: 0.6588 - val_accuracy: 0.5910\n",
      "Epoch 4/10\n",
      "100/100 [==============================] - 19s 186ms/step - loss: 0.6686 - accuracy: 0.5730 - val_loss: 0.6451 - val_accuracy: 0.6200\n",
      "Epoch 5/10\n",
      "100/100 [==============================] - 15s 147ms/step - loss: 0.6653 - accuracy: 0.5935 - val_loss: 0.6372 - val_accuracy: 0.6270\n",
      "Epoch 6/10\n",
      "100/100 [==============================] - 16s 160ms/step - loss: 0.6693 - accuracy: 0.5825 - val_loss: 0.6479 - val_accuracy: 0.6240\n",
      "Epoch 7/10\n",
      "100/100 [==============================] - 21s 213ms/step - loss: 0.6633 - accuracy: 0.6000 - val_loss: 0.6737 - val_accuracy: 0.5900\n",
      "Epoch 8/10\n",
      "100/100 [==============================] - 19s 192ms/step - loss: 0.6719 - accuracy: 0.5800 - val_loss: 0.6432 - val_accuracy: 0.6270\n",
      "Epoch 9/10\n",
      "100/100 [==============================] - 20s 198ms/step - loss: 0.6605 - accuracy: 0.5960 - val_loss: 0.6485 - val_accuracy: 0.6310\n",
      "Epoch 10/10\n",
      "100/100 [==============================] - 18s 180ms/step - loss: 0.6544 - accuracy: 0.5940 - val_loss: 0.6572 - val_accuracy: 0.5740\n"
     ]
    }
   ],
   "source": [
    "results_2 = model.fit(train_ds, steps_per_epoch=100, epochs=10, validation_data=val_ds, validation_steps=50)"
   ]
  },
  {
   "cell_type": "code",
   "execution_count": 24,
   "id": "4657a9a6",
   "metadata": {},
   "outputs": [
    {
     "name": "stdout",
     "output_type": "stream",
     "text": [
      "[ANSWER-5] The mean of validation loss  loss is: 0.653546953201294\n"
     ]
    }
   ],
   "source": [
    "val_mean_loss = np.mean(results_2.history['val_loss'])\n",
    "print(f\"[ANSWER-5] The mean of validation loss  loss is: {val_mean_loss}\")"
   ]
  },
  {
   "cell_type": "markdown",
   "id": "fbebf77c",
   "metadata": {},
   "source": [
    "### Question 6\n",
    "\n",
    "What's the average of validation accuracy for the last 5 epochs (from 6 to 10)\n",
    "for the model trained with augmentations?"
   ]
  },
  {
   "cell_type": "code",
   "execution_count": 27,
   "id": "5184c84c",
   "metadata": {},
   "outputs": [
    {
     "name": "stdout",
     "output_type": "stream",
     "text": [
      "[ANSWER-6] The mean of validation accuracy is: 0.6091999888420105\n"
     ]
    }
   ],
   "source": [
    "val_mean_acc = np.average(results_2.history['val_accuracy'][5:])\n",
    "print(f\"[ANSWER-6] The mean of validation accuracy is: {val_mean_acc}\")"
   ]
  }
 ],
 "metadata": {
  "kernelspec": {
   "display_name": "Python 3 (ipykernel)",
   "language": "python",
   "name": "python3"
  },
  "language_info": {
   "codemirror_mode": {
    "name": "ipython",
    "version": 3
   },
   "file_extension": ".py",
   "mimetype": "text/x-python",
   "name": "python",
   "nbconvert_exporter": "python",
   "pygments_lexer": "ipython3",
   "version": "3.8.11"
  }
 },
 "nbformat": 4,
 "nbformat_minor": 5
}
