{
 "cells": [
  {
   "cell_type": "markdown",
   "metadata": {},
   "source": [
    "## Homework 4\n",
    "\n",
    "Use this notebook as a starter"
   ]
  },
  {
   "cell_type": "code",
   "execution_count": 1,
   "metadata": {},
   "outputs": [],
   "source": [
    "import os\n",
    "import pandas as pd\n",
    "import numpy as np\n",
    "\n",
    "import matplotlib.pyplot as plt\n",
    "import seaborn as sns\n",
    "\n",
    "from sklearn.model_selection import train_test_split\n",
    "from sklearn.model_selection import KFold\n",
    "from sklearn.feature_extraction import DictVectorizer\n",
    "from sklearn.linear_model import LogisticRegression\n",
    "from sklearn.metrics import roc_curve\n",
    "from sklearn.metrics import roc_auc_score\n",
    "from sklearn.metrics import auc\n",
    "\n",
    "\n",
    "%matplotlib inline"
   ]
  },
  {
   "cell_type": "markdown",
   "metadata": {},
   "source": [
    "Data:\n",
    "\n",
    "- https://github.com/gastonstat/CreditScoring\n",
    "- Also available [here](https://raw.githubusercontent.com/alexeygrigorev/mlbookcamp-code/master/chapter-06-trees/CreditScoring.csv)"
   ]
  },
  {
   "cell_type": "code",
   "execution_count": 2,
   "metadata": {
    "scrolled": true
   },
   "outputs": [],
   "source": [
    "data = 'https://raw.githubusercontent.com/alexeygrigorev/mlbookcamp-code/master/chapter-06-trees/CreditScoring.csv'\n",
    "if not os.path.exists(\"CreditScoring.csv\"):\n",
    "    !wget $data\n"
   ]
  },
  {
   "cell_type": "markdown",
   "metadata": {},
   "source": [
    "## Preparation \n",
    "\n",
    "We'll talk about this dataset in more details in week 6. But for now, use the following code to get started"
   ]
  },
  {
   "cell_type": "code",
   "execution_count": 3,
   "metadata": {},
   "outputs": [],
   "source": [
    "df = pd.read_csv('CreditScoring.csv')\n",
    "df.columns = df.columns.str.lower()"
   ]
  },
  {
   "cell_type": "code",
   "execution_count": 4,
   "metadata": {},
   "outputs": [
    {
     "data": {
      "text/plain": [
       "0       1\n",
       "1       1\n",
       "2       2\n",
       "3       1\n",
       "4       1\n",
       "       ..\n",
       "4450    2\n",
       "4451    1\n",
       "4452    2\n",
       "4453    1\n",
       "4454    1\n",
       "Name: status, Length: 4455, dtype: int64"
      ]
     },
     "execution_count": 4,
     "metadata": {},
     "output_type": "execute_result"
    }
   ],
   "source": [
    "df.status"
   ]
  },
  {
   "cell_type": "markdown",
   "metadata": {},
   "source": [
    "Some of the features are encoded as numbers. Use the following code to de-code them:"
   ]
  },
  {
   "cell_type": "code",
   "execution_count": 5,
   "metadata": {},
   "outputs": [],
   "source": [
    "status_values = {\n",
    "    1: 'ok',\n",
    "    2: 'default',\n",
    "    0: 'unk'\n",
    "}\n",
    "\n",
    "df.status = df.status.map(status_values)\n",
    "\n",
    "\n",
    "home_values = {\n",
    "    1: 'rent',\n",
    "    2: 'owner',\n",
    "    3: 'private',\n",
    "    4: 'ignore',\n",
    "    5: 'parents',\n",
    "    6: 'other',\n",
    "    0: 'unk'\n",
    "}\n",
    "\n",
    "df.home = df.home.map(home_values)\n",
    "\n",
    "marital_values = {\n",
    "    1: 'single',\n",
    "    2: 'married',\n",
    "    3: 'widow',\n",
    "    4: 'separated',\n",
    "    5: 'divorced',\n",
    "    0: 'unk'\n",
    "}\n",
    "\n",
    "df.marital = df.marital.map(marital_values)\n",
    "\n",
    "records_values = {\n",
    "    1: 'no',\n",
    "    2: 'yes',\n",
    "    0: 'unk'\n",
    "}\n",
    "\n",
    "df.records = df.records.map(records_values)\n",
    "\n",
    "job_values = {\n",
    "    1: 'fixed',\n",
    "    2: 'partime',\n",
    "    3: 'freelance',\n",
    "    4: 'others',\n",
    "    0: 'unk'\n",
    "}\n",
    "\n",
    "df.job = df.job.map(job_values)"
   ]
  },
  {
   "cell_type": "code",
   "execution_count": 6,
   "metadata": {},
   "outputs": [
    {
     "data": {
      "text/plain": [
       "0            ok\n",
       "1            ok\n",
       "2       default\n",
       "3            ok\n",
       "4            ok\n",
       "         ...   \n",
       "4450    default\n",
       "4451         ok\n",
       "4452    default\n",
       "4453         ok\n",
       "4454         ok\n",
       "Name: status, Length: 4455, dtype: object"
      ]
     },
     "execution_count": 6,
     "metadata": {},
     "output_type": "execute_result"
    }
   ],
   "source": [
    "df.status"
   ]
  },
  {
   "cell_type": "markdown",
   "metadata": {},
   "source": [
    "Prepare the numerical variables:"
   ]
  },
  {
   "cell_type": "code",
   "execution_count": 7,
   "metadata": {},
   "outputs": [
    {
     "data": {
      "text/plain": [
       "count    4.455000e+03\n",
       "mean     7.633170e+05\n",
       "std      8.703625e+06\n",
       "min      0.000000e+00\n",
       "25%      8.000000e+01\n",
       "50%      1.200000e+02\n",
       "75%      1.660000e+02\n",
       "max      1.000000e+08\n",
       "Name: income, dtype: float64"
      ]
     },
     "execution_count": 7,
     "metadata": {},
     "output_type": "execute_result"
    }
   ],
   "source": [
    "df['income'].describe()"
   ]
  },
  {
   "cell_type": "code",
   "execution_count": 8,
   "metadata": {},
   "outputs": [],
   "source": [
    "for c in ['income', 'assets', 'debt']:\n",
    "    df[c] = df[c].replace(to_replace=99999999, value=0)"
   ]
  },
  {
   "cell_type": "code",
   "execution_count": 9,
   "metadata": {},
   "outputs": [
    {
     "data": {
      "text/plain": [
       "count    4455.000000\n",
       "mean      129.571717\n",
       "std        86.784427\n",
       "min         0.000000\n",
       "25%        80.000000\n",
       "50%       119.000000\n",
       "75%       164.000000\n",
       "max       959.000000\n",
       "Name: income, dtype: float64"
      ]
     },
     "execution_count": 9,
     "metadata": {},
     "output_type": "execute_result"
    }
   ],
   "source": [
    "df['income'].describe()"
   ]
  },
  {
   "cell_type": "markdown",
   "metadata": {},
   "source": [
    "Remove clients with unknown default status"
   ]
  },
  {
   "cell_type": "code",
   "execution_count": 10,
   "metadata": {},
   "outputs": [],
   "source": [
    "df = df[df.status != 'unk'].reset_index(drop=True)"
   ]
  },
  {
   "cell_type": "markdown",
   "metadata": {},
   "source": [
    "Create the target variable"
   ]
  },
  {
   "cell_type": "code",
   "execution_count": 11,
   "metadata": {},
   "outputs": [],
   "source": [
    "df['default'] = (df.status == 'default').astype(int)\n",
    "del df['status']"
   ]
  },
  {
   "cell_type": "markdown",
   "metadata": {},
   "source": [
    "## Your code"
   ]
  },
  {
   "cell_type": "markdown",
   "metadata": {},
   "source": [
    "What are the categorical variables? What are the numerical?"
   ]
  },
  {
   "cell_type": "code",
   "execution_count": 12,
   "metadata": {
    "scrolled": true
   },
   "outputs": [
    {
     "data": {
      "text/html": [
       "<div>\n",
       "<style scoped>\n",
       "    .dataframe tbody tr th:only-of-type {\n",
       "        vertical-align: middle;\n",
       "    }\n",
       "\n",
       "    .dataframe tbody tr th {\n",
       "        vertical-align: top;\n",
       "    }\n",
       "\n",
       "    .dataframe thead th {\n",
       "        text-align: right;\n",
       "    }\n",
       "</style>\n",
       "<table border=\"1\" class=\"dataframe\">\n",
       "  <thead>\n",
       "    <tr style=\"text-align: right;\">\n",
       "      <th></th>\n",
       "      <th>home</th>\n",
       "      <th>marital</th>\n",
       "      <th>records</th>\n",
       "      <th>job</th>\n",
       "      <th>default</th>\n",
       "    </tr>\n",
       "  </thead>\n",
       "  <tbody>\n",
       "    <tr>\n",
       "      <th>0</th>\n",
       "      <td>rent</td>\n",
       "      <td>married</td>\n",
       "      <td>no</td>\n",
       "      <td>freelance</td>\n",
       "      <td>0</td>\n",
       "    </tr>\n",
       "    <tr>\n",
       "      <th>1</th>\n",
       "      <td>rent</td>\n",
       "      <td>widow</td>\n",
       "      <td>no</td>\n",
       "      <td>fixed</td>\n",
       "      <td>0</td>\n",
       "    </tr>\n",
       "    <tr>\n",
       "      <th>2</th>\n",
       "      <td>owner</td>\n",
       "      <td>married</td>\n",
       "      <td>yes</td>\n",
       "      <td>freelance</td>\n",
       "      <td>1</td>\n",
       "    </tr>\n",
       "    <tr>\n",
       "      <th>3</th>\n",
       "      <td>rent</td>\n",
       "      <td>single</td>\n",
       "      <td>no</td>\n",
       "      <td>fixed</td>\n",
       "      <td>0</td>\n",
       "    </tr>\n",
       "    <tr>\n",
       "      <th>4</th>\n",
       "      <td>rent</td>\n",
       "      <td>single</td>\n",
       "      <td>no</td>\n",
       "      <td>fixed</td>\n",
       "      <td>0</td>\n",
       "    </tr>\n",
       "    <tr>\n",
       "      <th>...</th>\n",
       "      <td>...</td>\n",
       "      <td>...</td>\n",
       "      <td>...</td>\n",
       "      <td>...</td>\n",
       "      <td>...</td>\n",
       "    </tr>\n",
       "    <tr>\n",
       "      <th>4449</th>\n",
       "      <td>rent</td>\n",
       "      <td>married</td>\n",
       "      <td>no</td>\n",
       "      <td>fixed</td>\n",
       "      <td>1</td>\n",
       "    </tr>\n",
       "    <tr>\n",
       "      <th>4450</th>\n",
       "      <td>owner</td>\n",
       "      <td>married</td>\n",
       "      <td>no</td>\n",
       "      <td>fixed</td>\n",
       "      <td>0</td>\n",
       "    </tr>\n",
       "    <tr>\n",
       "      <th>4451</th>\n",
       "      <td>owner</td>\n",
       "      <td>married</td>\n",
       "      <td>no</td>\n",
       "      <td>partime</td>\n",
       "      <td>1</td>\n",
       "    </tr>\n",
       "    <tr>\n",
       "      <th>4452</th>\n",
       "      <td>rent</td>\n",
       "      <td>single</td>\n",
       "      <td>no</td>\n",
       "      <td>freelance</td>\n",
       "      <td>0</td>\n",
       "    </tr>\n",
       "    <tr>\n",
       "      <th>4453</th>\n",
       "      <td>owner</td>\n",
       "      <td>married</td>\n",
       "      <td>no</td>\n",
       "      <td>freelance</td>\n",
       "      <td>0</td>\n",
       "    </tr>\n",
       "  </tbody>\n",
       "</table>\n",
       "<p>4454 rows × 5 columns</p>\n",
       "</div>"
      ],
      "text/plain": [
       "       home  marital records        job  default\n",
       "0      rent  married      no  freelance        0\n",
       "1      rent    widow      no      fixed        0\n",
       "2     owner  married     yes  freelance        1\n",
       "3      rent   single      no      fixed        0\n",
       "4      rent   single      no      fixed        0\n",
       "...     ...      ...     ...        ...      ...\n",
       "4449   rent  married      no      fixed        1\n",
       "4450  owner  married      no      fixed        0\n",
       "4451  owner  married      no    partime        1\n",
       "4452   rent   single      no  freelance        0\n",
       "4453  owner  married      no  freelance        0\n",
       "\n",
       "[4454 rows x 5 columns]"
      ]
     },
     "execution_count": 12,
     "metadata": {},
     "output_type": "execute_result"
    }
   ],
   "source": [
    "categorical = list(df.dtypes[df.dtypes == 'object'].index)\n",
    "categorical.append('default')\n",
    "df[categorical]"
   ]
  },
  {
   "cell_type": "code",
   "execution_count": 13,
   "metadata": {
    "scrolled": true
   },
   "outputs": [
    {
     "data": {
      "text/html": [
       "<div>\n",
       "<style scoped>\n",
       "    .dataframe tbody tr th:only-of-type {\n",
       "        vertical-align: middle;\n",
       "    }\n",
       "\n",
       "    .dataframe tbody tr th {\n",
       "        vertical-align: top;\n",
       "    }\n",
       "\n",
       "    .dataframe thead th {\n",
       "        text-align: right;\n",
       "    }\n",
       "</style>\n",
       "<table border=\"1\" class=\"dataframe\">\n",
       "  <thead>\n",
       "    <tr style=\"text-align: right;\">\n",
       "      <th></th>\n",
       "      <th>seniority</th>\n",
       "      <th>time</th>\n",
       "      <th>age</th>\n",
       "      <th>expenses</th>\n",
       "      <th>income</th>\n",
       "      <th>assets</th>\n",
       "      <th>debt</th>\n",
       "      <th>amount</th>\n",
       "      <th>price</th>\n",
       "    </tr>\n",
       "  </thead>\n",
       "  <tbody>\n",
       "    <tr>\n",
       "      <th>0</th>\n",
       "      <td>9</td>\n",
       "      <td>60</td>\n",
       "      <td>30</td>\n",
       "      <td>73</td>\n",
       "      <td>129</td>\n",
       "      <td>0</td>\n",
       "      <td>0</td>\n",
       "      <td>800</td>\n",
       "      <td>846</td>\n",
       "    </tr>\n",
       "    <tr>\n",
       "      <th>1</th>\n",
       "      <td>17</td>\n",
       "      <td>60</td>\n",
       "      <td>58</td>\n",
       "      <td>48</td>\n",
       "      <td>131</td>\n",
       "      <td>0</td>\n",
       "      <td>0</td>\n",
       "      <td>1000</td>\n",
       "      <td>1658</td>\n",
       "    </tr>\n",
       "    <tr>\n",
       "      <th>2</th>\n",
       "      <td>10</td>\n",
       "      <td>36</td>\n",
       "      <td>46</td>\n",
       "      <td>90</td>\n",
       "      <td>200</td>\n",
       "      <td>3000</td>\n",
       "      <td>0</td>\n",
       "      <td>2000</td>\n",
       "      <td>2985</td>\n",
       "    </tr>\n",
       "    <tr>\n",
       "      <th>3</th>\n",
       "      <td>0</td>\n",
       "      <td>60</td>\n",
       "      <td>24</td>\n",
       "      <td>63</td>\n",
       "      <td>182</td>\n",
       "      <td>2500</td>\n",
       "      <td>0</td>\n",
       "      <td>900</td>\n",
       "      <td>1325</td>\n",
       "    </tr>\n",
       "    <tr>\n",
       "      <th>4</th>\n",
       "      <td>0</td>\n",
       "      <td>36</td>\n",
       "      <td>26</td>\n",
       "      <td>46</td>\n",
       "      <td>107</td>\n",
       "      <td>0</td>\n",
       "      <td>0</td>\n",
       "      <td>310</td>\n",
       "      <td>910</td>\n",
       "    </tr>\n",
       "    <tr>\n",
       "      <th>...</th>\n",
       "      <td>...</td>\n",
       "      <td>...</td>\n",
       "      <td>...</td>\n",
       "      <td>...</td>\n",
       "      <td>...</td>\n",
       "      <td>...</td>\n",
       "      <td>...</td>\n",
       "      <td>...</td>\n",
       "      <td>...</td>\n",
       "    </tr>\n",
       "    <tr>\n",
       "      <th>4449</th>\n",
       "      <td>1</td>\n",
       "      <td>60</td>\n",
       "      <td>39</td>\n",
       "      <td>69</td>\n",
       "      <td>92</td>\n",
       "      <td>0</td>\n",
       "      <td>0</td>\n",
       "      <td>900</td>\n",
       "      <td>1020</td>\n",
       "    </tr>\n",
       "    <tr>\n",
       "      <th>4450</th>\n",
       "      <td>22</td>\n",
       "      <td>60</td>\n",
       "      <td>46</td>\n",
       "      <td>60</td>\n",
       "      <td>75</td>\n",
       "      <td>3000</td>\n",
       "      <td>600</td>\n",
       "      <td>950</td>\n",
       "      <td>1263</td>\n",
       "    </tr>\n",
       "    <tr>\n",
       "      <th>4451</th>\n",
       "      <td>0</td>\n",
       "      <td>24</td>\n",
       "      <td>37</td>\n",
       "      <td>60</td>\n",
       "      <td>90</td>\n",
       "      <td>3500</td>\n",
       "      <td>0</td>\n",
       "      <td>500</td>\n",
       "      <td>963</td>\n",
       "    </tr>\n",
       "    <tr>\n",
       "      <th>4452</th>\n",
       "      <td>0</td>\n",
       "      <td>48</td>\n",
       "      <td>23</td>\n",
       "      <td>49</td>\n",
       "      <td>140</td>\n",
       "      <td>0</td>\n",
       "      <td>0</td>\n",
       "      <td>550</td>\n",
       "      <td>550</td>\n",
       "    </tr>\n",
       "    <tr>\n",
       "      <th>4453</th>\n",
       "      <td>5</td>\n",
       "      <td>60</td>\n",
       "      <td>32</td>\n",
       "      <td>60</td>\n",
       "      <td>140</td>\n",
       "      <td>4000</td>\n",
       "      <td>1000</td>\n",
       "      <td>1350</td>\n",
       "      <td>1650</td>\n",
       "    </tr>\n",
       "  </tbody>\n",
       "</table>\n",
       "<p>4454 rows × 9 columns</p>\n",
       "</div>"
      ],
      "text/plain": [
       "      seniority  time  age  expenses  income  assets  debt  amount  price\n",
       "0             9    60   30        73     129       0     0     800    846\n",
       "1            17    60   58        48     131       0     0    1000   1658\n",
       "2            10    36   46        90     200    3000     0    2000   2985\n",
       "3             0    60   24        63     182    2500     0     900   1325\n",
       "4             0    36   26        46     107       0     0     310    910\n",
       "...         ...   ...  ...       ...     ...     ...   ...     ...    ...\n",
       "4449          1    60   39        69      92       0     0     900   1020\n",
       "4450         22    60   46        60      75    3000   600     950   1263\n",
       "4451          0    24   37        60      90    3500     0     500    963\n",
       "4452          0    48   23        49     140       0     0     550    550\n",
       "4453          5    60   32        60     140    4000  1000    1350   1650\n",
       "\n",
       "[4454 rows x 9 columns]"
      ]
     },
     "execution_count": 13,
     "metadata": {},
     "output_type": "execute_result"
    }
   ],
   "source": [
    "numerical = list(df.dtypes[df.dtypes == 'int64'].index)\n",
    "numerical.remove('default')\n",
    "df[numerical]"
   ]
  },
  {
   "cell_type": "code",
   "execution_count": 14,
   "metadata": {},
   "outputs": [
    {
     "name": "stdout",
     "output_type": "stream",
     "text": [
      "[ANSWER -1] Numerical variables are:  ['seniority', 'time', 'age', 'expenses', 'income', 'assets', 'debt', 'amount', 'price']\n",
      "Categorical variables are: ['home', 'marital', 'records', 'job', 'default']\n"
     ]
    }
   ],
   "source": [
    "print(f\"[ANSWER -1] Numerical variables are:  {numerical}\\nCategorical variables are: {categorical}\")"
   ]
  },
  {
   "cell_type": "markdown",
   "metadata": {},
   "source": [
    "Split the data into 3 parts: train/validation/test with 60%/20%/20% distribution. Use `train_test_split` funciton for that with `random_state=1`"
   ]
  },
  {
   "cell_type": "code",
   "execution_count": 15,
   "metadata": {},
   "outputs": [],
   "source": [
    "df_full_train, df_test = train_test_split(df, test_size=0.2, random_state=1)\n",
    "df_train, df_val = train_test_split(df_full_train, test_size=0.25, random_state=1)\n",
    "\n",
    "df_train = df_train.reset_index(drop=True)\n",
    "df_val = df_val.reset_index(drop=True)\n",
    "df_test = df_test.reset_index(drop=True)\n"
   ]
  },
  {
   "cell_type": "markdown",
   "metadata": {},
   "source": [
    "## Question 1\n",
    "\n",
    "ROC AUC could also be used to evaluate feature importance of numerical variables. \n",
    "\n",
    "Let's do that\n",
    "\n",
    "* For each numerical variable, use it as score and compute AUC with the \"default\" variable\n",
    "* Use the training dataset for that\n",
    "\n",
    "\n",
    "If your AUC is < 0.5, invert this variable by putting \"-\" in front\n",
    "\n",
    "(e.g. `-df_train['expenses']`)\n",
    "\n",
    "AUC can go below 0.5 if the variable is negatively correlated with the target varialble. You can change the direction of the correlation by negating this variable - then negative correlation becomes positive."
   ]
  },
  {
   "cell_type": "code",
   "execution_count": 16,
   "metadata": {},
   "outputs": [
    {
     "data": {
      "text/html": [
       "<div>\n",
       "<style scoped>\n",
       "    .dataframe tbody tr th:only-of-type {\n",
       "        vertical-align: middle;\n",
       "    }\n",
       "\n",
       "    .dataframe tbody tr th {\n",
       "        vertical-align: top;\n",
       "    }\n",
       "\n",
       "    .dataframe thead th {\n",
       "        text-align: right;\n",
       "    }\n",
       "</style>\n",
       "<table border=\"1\" class=\"dataframe\">\n",
       "  <thead>\n",
       "    <tr style=\"text-align: right;\">\n",
       "      <th></th>\n",
       "      <th>feat</th>\n",
       "      <th>auc</th>\n",
       "    </tr>\n",
       "  </thead>\n",
       "  <tbody>\n",
       "    <tr>\n",
       "      <th>0</th>\n",
       "      <td>seniority</td>\n",
       "      <td>0.709378</td>\n",
       "    </tr>\n",
       "    <tr>\n",
       "      <th>1</th>\n",
       "      <td>income</td>\n",
       "      <td>0.682007</td>\n",
       "    </tr>\n",
       "    <tr>\n",
       "      <th>2</th>\n",
       "      <td>assets</td>\n",
       "      <td>0.648604</td>\n",
       "    </tr>\n",
       "    <tr>\n",
       "      <th>3</th>\n",
       "      <td>amount</td>\n",
       "      <td>0.591077</td>\n",
       "    </tr>\n",
       "    <tr>\n",
       "      <th>4</th>\n",
       "      <td>age</td>\n",
       "      <td>0.573293</td>\n",
       "    </tr>\n",
       "    <tr>\n",
       "      <th>5</th>\n",
       "      <td>time</td>\n",
       "      <td>0.560866</td>\n",
       "    </tr>\n",
       "    <tr>\n",
       "      <th>6</th>\n",
       "      <td>debt</td>\n",
       "      <td>0.504783</td>\n",
       "    </tr>\n",
       "    <tr>\n",
       "      <th>7</th>\n",
       "      <td>price</td>\n",
       "      <td>0.504333</td>\n",
       "    </tr>\n",
       "    <tr>\n",
       "      <th>8</th>\n",
       "      <td>expenses</td>\n",
       "      <td>0.500918</td>\n",
       "    </tr>\n",
       "  </tbody>\n",
       "</table>\n",
       "</div>"
      ],
      "text/plain": [
       "        feat       auc\n",
       "0  seniority  0.709378\n",
       "1     income  0.682007\n",
       "2     assets  0.648604\n",
       "3     amount  0.591077\n",
       "4        age  0.573293\n",
       "5       time  0.560866\n",
       "6       debt  0.504783\n",
       "7      price  0.504333\n",
       "8   expenses  0.500918"
      ]
     },
     "execution_count": 16,
     "metadata": {},
     "output_type": "execute_result"
    },
    {
     "data": {
      "image/png": "[encoded data removed]",
      "text/plain": [
       "<Figure size 720x720 with 1 Axes>"
      ]
     },
     "metadata": {
      "needs_background": "light"
     },
     "output_type": "display_data"
    }
   ],
   "source": [
    "result_list = list()\n",
    "column_list = [\"feat\", \"auc\"]\n",
    "plot_size = 10\n",
    "plt.figure(figsize=(plot_size, plot_size))\n",
    "\n",
    "for c in numerical:\n",
    "    fpr, tpr, thresholds = roc_curve(df_train.default, df_train[c])\n",
    "    auc_score = auc(fpr, tpr)\n",
    "    if auc_score < 0.5:\n",
    "        fpr, tpr, thresholds = roc_curve(df_train.default, -df_train[c])\n",
    "        auc_score = auc(fpr, tpr)\n",
    "    plt.plot(fpr, tpr, label=f'feat: {c}')\n",
    "    result_list.append([c, auc_score])\n",
    "\n",
    "\n",
    "df_auc_scores = pd.DataFrame(result_list, columns=column_list)\n",
    "\n",
    "plt.plot([0, 1], [0, 1], label='Random', linestyle='--')\n",
    "plt.xlabel('FPR')\n",
    "plt.ylabel('TPR')\n",
    "plt.ylim(0, 1)\n",
    "plt.xlim(0, 1)\n",
    "plt.title(\"ROC Curves per Feature\")\n",
    "plt.grid(True)\n",
    "plt.legend()\n",
    "\n",
    "df_auc_scores.sort_values(by=\"auc\", ascending=False).reset_index(drop=True)"
   ]
  },
  {
   "cell_type": "markdown",
   "metadata": {},
   "source": [
    "Which numerical variable (among the following 4) has the highest AUC?\n",
    "\n",
    "- seniority\n",
    "- time\n",
    "- income\n",
    "- debt"
   ]
  },
  {
   "cell_type": "code",
   "execution_count": 17,
   "metadata": {},
   "outputs": [
    {
     "name": "stdout",
     "output_type": "stream",
     "text": [
      "[ANSWER-1] The numerical variable with highest AUC is seniority with 0.709378\n"
     ]
    }
   ],
   "source": [
    "print(\"[ANSWER-1] The numerical variable with highest AUC is seniority with 0.709378\")"
   ]
  },
  {
   "cell_type": "markdown",
   "metadata": {},
   "source": [
    "## Training the model\n",
    "\n",
    "From now on, use these columns only:\n",
    "\n",
    "```\n",
    "['seniority', 'income', 'assets', 'records', 'job', 'home']\n",
    "```\n",
    "\n",
    "Apply one-hot-encoding using `DictVectorizer` and train the logistic regression with these parameters:\n",
    "\n",
    "```\n",
    "LogisticRegression(solver='liblinear', C=1.0, max_iter=1000)\n",
    "```"
   ]
  },
  {
   "cell_type": "code",
   "execution_count": 18,
   "metadata": {},
   "outputs": [],
   "source": [
    "# I use the function defined in the session for this\n",
    "def train(df_train, y_train, feat_list, C=1.0, max_iter=1000):\n",
    "    dicts = df_train[feat_list].to_dict(orient='records')\n",
    "\n",
    "    dv = DictVectorizer(sparse=False)\n",
    "    X_train = dv.fit_transform(dicts)\n",
    "\n",
    "    model = LogisticRegression(solver='liblinear', C=C, max_iter=max_iter)\n",
    "    model.fit(X_train, y_train)\n",
    "    \n",
    "    return dv, model\n",
    "\n",
    "def predict(df, dv, model, feat_list):\n",
    "    dicts = df[feat_list].to_dict(orient='records')\n",
    "\n",
    "    X = dv.transform(dicts)\n",
    "    y_pred = model.predict_proba(X)[:, 1]\n",
    "\n",
    "    return y_pred"
   ]
  },
  {
   "cell_type": "code",
   "execution_count": 19,
   "metadata": {},
   "outputs": [],
   "source": [
    "feat_list = ['seniority', 'income', 'assets', 'records', 'job', 'home']\n",
    "dv, model = train(df_train, df_train.default, feat_list=feat_list)"
   ]
  },
  {
   "cell_type": "markdown",
   "metadata": {},
   "source": [
    "## Question 2\n",
    "\n",
    "What's the AUC of this model on the validation dataset? (round to 3 digits)\n",
    "\n",
    "- 0.512\n",
    "- 0.612\n",
    "- 0.712\n",
    "- 0.812"
   ]
  },
  {
   "cell_type": "code",
   "execution_count": 20,
   "metadata": {},
   "outputs": [
    {
     "data": {
      "text/plain": [
       "array([1.96864517e-01, 1.17566830e-01, 2.69816999e-01, 1.23272297e-01,\n",
       "       4.14163558e-02, 6.03395041e-01, 8.47303706e-01, 2.30826676e-01,\n",
       "       9.20153615e-01, 3.40257142e-01, 3.19613906e-01, 6.28633454e-02,\n",
       "       4.05811355e-01, 4.06879435e-01, 1.01941492e-01, 7.06995810e-02,\n",
       "       3.02017778e-02, 2.74911652e-01, 7.92665974e-01, 5.23975117e-02,\n",
       "       4.90721608e-01, 1.33304655e-01, 7.04819954e-02, 1.78498677e-02,\n",
       "       4.18153981e-01, 5.33852022e-01, 5.31608722e-01, 1.02859300e-01,\n",
       "       4.30786409e-01, 2.42859212e-02, 2.25436210e-01, 4.93559876e-02,\n",
       "       3.15443702e-01, 1.23846910e-01, 6.97466123e-01, 8.41046084e-02,\n",
       "       5.28890028e-02, 6.76631141e-01, 1.11294087e-01, 1.21434239e-01,\n",
       "       3.95982795e-01, 1.00225341e-01, 1.12215164e-01, 1.76622050e-01,\n",
       "       1.22913696e-01, 5.37205476e-01, 7.96489211e-01, 6.94633964e-01,\n",
       "       6.10214554e-02, 2.27408800e-02, 3.36416888e-01, 1.06107907e-01,\n",
       "       8.43867781e-02, 5.33933185e-01, 1.53052162e-01, 5.56195627e-01,\n",
       "       7.71533874e-01, 4.06782175e-01, 2.82626970e-01, 3.35453964e-02,\n",
       "       1.19185978e-01, 6.07027847e-01, 1.44634737e-01, 6.16595863e-01,\n",
       "       2.65233321e-01, 6.24501901e-02, 3.23245374e-01, 3.82504220e-01,\n",
       "       2.24726420e-01, 7.50814371e-02, 1.46563130e-02, 9.09851038e-01,\n",
       "       3.39449779e-01, 3.95020596e-01, 2.54643940e-01, 3.75513089e-01,\n",
       "       1.86519792e-01, 9.29956891e-02, 1.11443931e-01, 1.95105510e-01,\n",
       "       2.94807482e-01, 2.48640028e-02, 1.98344333e-01, 5.47524458e-01,\n",
       "       1.23972580e-01, 2.31618721e-01, 3.57588559e-01, 2.05072348e-01,\n",
       "       4.87744072e-01, 6.98884130e-02, 6.02518644e-01, 3.50124315e-01,\n",
       "       3.21465681e-01, 1.28092455e-01, 1.53229124e-01, 3.90710057e-01,\n",
       "       5.96974058e-01, 2.01020468e-01, 3.80636208e-02, 6.03395041e-01,\n",
       "       8.83214833e-01, 7.95726675e-01, 2.32830469e-01, 3.90849832e-02,\n",
       "       5.53099764e-01, 1.70656211e-01, 7.79766533e-01, 3.30002216e-01,\n",
       "       5.63417703e-01, 2.47774377e-01, 4.36807915e-02, 9.25814675e-02,\n",
       "       1.99887899e-01, 2.07164036e-01, 1.37946141e-01, 4.58399996e-01,\n",
       "       2.97498639e-01, 2.46479296e-01, 6.35666191e-01, 1.41812489e-01,\n",
       "       7.70619663e-02, 6.50003661e-02, 1.41249753e-01, 4.62310027e-01,\n",
       "       2.47045746e-01, 1.67993063e-02, 2.31761166e-01, 1.53621465e-01,\n",
       "       1.67378949e-01, 5.13693150e-01, 5.89294323e-02, 6.19870213e-01,\n",
       "       1.09454700e-01, 1.98243718e-02, 4.38831579e-01, 1.17230295e-01,\n",
       "       1.87023698e-01, 2.00259218e-01, 3.97199671e-02, 1.44124284e-01,\n",
       "       8.48197445e-02, 3.51311679e-01, 3.65319041e-01, 1.26214937e-01,\n",
       "       4.22882318e-02, 2.84696189e-01, 7.11141436e-02, 2.93325418e-01,\n",
       "       2.95533966e-01, 1.01685205e-01, 4.88271638e-01, 9.07112632e-02,\n",
       "       1.74429475e-01, 7.98995120e-02, 2.41641557e-01, 1.03685222e-01,\n",
       "       3.90728853e-01, 6.82151987e-01, 1.45894233e-01, 1.08650603e-01,\n",
       "       1.51997033e-01, 3.34693971e-01, 4.27240757e-01, 2.45781663e-01,\n",
       "       7.98165660e-02, 5.73062830e-01, 4.76088710e-01, 1.03202791e-01,\n",
       "       2.55594782e-01, 2.13271414e-01, 6.07203553e-01, 4.45229220e-01,\n",
       "       4.06178983e-01, 6.32267866e-01, 1.15916187e-01, 6.41630719e-01,\n",
       "       2.03516664e-01, 2.01214529e-01, 6.10311135e-01, 1.96385624e-01,\n",
       "       3.84203541e-03, 1.34168927e-01, 2.83032149e-02, 1.70295886e-01,\n",
       "       2.48007847e-01, 1.75830644e-01, 8.17030973e-02, 4.69871491e-02,\n",
       "       6.74270537e-02, 7.12981511e-02, 6.96563623e-02, 2.13085989e-01,\n",
       "       2.31812249e-01, 4.93886378e-01, 1.18945261e-01, 4.12700680e-01,\n",
       "       5.12251309e-01, 1.57875586e-01, 7.43791684e-02, 2.26371633e-01,\n",
       "       6.36902968e-01, 6.68094259e-02, 1.22524572e-01, 3.84625749e-01,\n",
       "       2.90311481e-02, 5.20940301e-01, 2.43169641e-01, 2.27946858e-01,\n",
       "       3.28774568e-01, 1.77910350e-02, 8.29119650e-02, 2.07851420e-01,\n",
       "       1.41924778e-01, 8.26433850e-01, 3.46052126e-01, 4.04506987e-01,\n",
       "       3.20661354e-01, 4.11665111e-01, 4.79947059e-01, 1.62654399e-01,\n",
       "       9.08816661e-02, 1.91316128e-01, 9.20500468e-01, 6.51928774e-02,\n",
       "       3.76855154e-02, 3.69557931e-01, 3.69485340e-01, 7.02901976e-01,\n",
       "       6.10321142e-01, 6.41163695e-02, 8.76557998e-02, 2.06498221e-01,\n",
       "       9.25754078e-01, 7.62271752e-01, 3.44199136e-02, 1.07872456e-01,\n",
       "       5.77009704e-01, 6.93981305e-01, 7.49852912e-01, 8.00775731e-02,\n",
       "       4.11884687e-01, 2.26842122e-01, 2.55207573e-01, 6.17721044e-01,\n",
       "       1.94160292e-01, 5.60167686e-02, 4.51036545e-01, 5.34682789e-02,\n",
       "       6.22760187e-01, 3.22716548e-01, 4.45359471e-02, 3.76375900e-01,\n",
       "       3.90281669e-01, 9.98876611e-02, 1.81386588e-01, 4.50883626e-02,\n",
       "       7.48517508e-01, 1.26341732e-01, 2.34304210e-01, 3.41641811e-01,\n",
       "       3.13789402e-01, 1.19747060e-03, 2.16315123e-01, 3.54242507e-01,\n",
       "       4.23496696e-02, 5.40748040e-01, 5.69021440e-01, 5.32190461e-02,\n",
       "       2.78845224e-01, 4.93311103e-02, 3.84127437e-01, 1.74698343e-01,\n",
       "       1.01760889e-01, 6.45185276e-01, 2.68862305e-02, 8.96429202e-01,\n",
       "       5.22800874e-02, 2.07118742e-01, 7.38168488e-01, 1.50114127e-01,\n",
       "       1.55018403e-01, 8.25562836e-02, 6.34421267e-02, 3.86751674e-01,\n",
       "       1.32739815e-01, 5.19004968e-01, 1.48194786e-01, 3.45481814e-02,\n",
       "       4.64595369e-01, 1.16182967e-01, 1.57637022e-01, 4.54874751e-01,\n",
       "       3.75300586e-01, 2.43757678e-01, 2.96478570e-01, 2.49113744e-01,\n",
       "       1.78218888e-01, 3.52357667e-01, 2.66912616e-02, 1.47173156e-01,\n",
       "       1.31939279e-01, 8.38405039e-01, 1.67480252e-01, 4.71305653e-01,\n",
       "       1.94550793e-01, 6.99786494e-01, 1.30679081e-01, 7.63826265e-02,\n",
       "       2.03257904e-01, 1.75762129e-01, 5.43661387e-01, 6.81429272e-01,\n",
       "       2.89640837e-02, 7.14027574e-01, 8.75568092e-01, 6.83987864e-01,\n",
       "       3.89968757e-01, 8.85150851e-02, 6.99786494e-01, 3.44071674e-01,\n",
       "       2.71779536e-01, 6.49890185e-01, 3.44501653e-02, 9.04877324e-01,\n",
       "       1.33177082e-02, 3.92261065e-01, 2.90334890e-01, 6.32901377e-01,\n",
       "       3.74900972e-02, 2.85526199e-01, 3.63200467e-01, 8.65976078e-01,\n",
       "       7.42354921e-01, 6.53210113e-01, 2.89251120e-01, 9.85122237e-02,\n",
       "       1.63600035e-01, 2.71357853e-01, 6.54894273e-01, 6.53460129e-01,\n",
       "       3.76634526e-02, 5.40673307e-02, 3.53030916e-01, 2.31305833e-01,\n",
       "       1.96152790e-01, 6.25430931e-02, 2.03257904e-01, 2.01743363e-01,\n",
       "       3.95740903e-01, 1.10596501e-01, 9.13673628e-02, 2.18122986e-02,\n",
       "       3.99264922e-01, 3.35501930e-01, 8.18388210e-01, 1.85756853e-01,\n",
       "       7.65332269e-01, 1.19449882e-03, 4.04796822e-01, 3.15585834e-01,\n",
       "       3.33744305e-01, 6.63218891e-02, 3.63987306e-01, 3.88566864e-01,\n",
       "       5.23893617e-01, 1.77493470e-02, 2.38691179e-01, 1.54547908e-02,\n",
       "       1.01294835e-01, 7.89161514e-01, 4.31014377e-03, 3.73097255e-01,\n",
       "       3.07660695e-01, 6.37531466e-02, 1.12133347e-01, 3.44761226e-01,\n",
       "       2.14851153e-01, 5.05447844e-01, 1.45487729e-02, 9.00084943e-02,\n",
       "       3.39950781e-01, 6.36926339e-02, 7.52585769e-02, 5.27478250e-02,\n",
       "       3.37149792e-01, 6.93730008e-01, 1.40492147e-01, 6.98791781e-01,\n",
       "       9.84143871e-02, 1.19303570e-02, 8.24737522e-01, 3.55611450e-01,\n",
       "       2.92368125e-01, 1.56683575e-01, 1.13448968e-01, 1.14305087e-01,\n",
       "       1.62360557e-01, 6.92397567e-01, 2.26015352e-02, 1.14244425e-01,\n",
       "       4.81566312e-02, 2.36277317e-02, 1.44480537e-01, 5.97491818e-01,\n",
       "       4.41972794e-01, 1.23315843e-01, 2.34810959e-01, 2.78454222e-01,\n",
       "       8.03268661e-03, 7.49852912e-01, 5.03904453e-01, 2.03257904e-01,\n",
       "       7.75567706e-02, 2.50615478e-01, 3.54179546e-01, 6.07194742e-01,\n",
       "       2.05729755e-02, 2.43529976e-03, 2.07786461e-01, 5.13486234e-01,\n",
       "       4.17028284e-02, 4.58399996e-01, 4.30297970e-01, 2.95889038e-03,\n",
       "       3.22296278e-01, 3.76884745e-01, 1.85780336e-01, 2.37479770e-01,\n",
       "       2.88851991e-01, 2.33347628e-01, 2.61236309e-01, 2.23658879e-01,\n",
       "       1.29638613e-01, 3.71139493e-01, 6.99786494e-01, 7.74964659e-01,\n",
       "       5.44274064e-01, 5.47707820e-01, 3.86982516e-02, 5.01896075e-01,\n",
       "       1.12135172e-01, 1.50432475e-01, 2.59415651e-01, 1.00651949e-01,\n",
       "       1.10082411e-01, 6.17890958e-01, 2.69816999e-01, 2.03663649e-01,\n",
       "       1.52945898e-01, 4.20540803e-01, 5.66317573e-01, 5.95066038e-01,\n",
       "       7.99874012e-01, 2.30717626e-01, 1.53891923e-01, 3.96269729e-01,\n",
       "       5.30617286e-02, 1.17770100e-01, 4.97737783e-02, 1.46224089e-01,\n",
       "       4.84814277e-02, 2.92539515e-01, 4.81790569e-01, 4.30958562e-01,\n",
       "       3.67843813e-02, 1.54536207e-01, 8.45412044e-02, 2.61238443e-01,\n",
       "       2.64488749e-01, 1.47450875e-01, 1.84021178e-01, 1.48178150e-01,\n",
       "       1.09369695e-01, 8.45669236e-01, 8.21651389e-01, 3.76733770e-01,\n",
       "       5.35035487e-02, 5.66477852e-02, 3.71651382e-01, 1.78816074e-01,\n",
       "       3.40014510e-02, 4.07165133e-01, 3.61090837e-01, 3.89474348e-02,\n",
       "       8.19134668e-02, 1.03701160e-01, 1.57602318e-01, 2.74100661e-01,\n",
       "       3.71578111e-01, 5.83808688e-01, 7.19736495e-01, 1.48982656e-02,\n",
       "       9.33147671e-01, 1.64848681e-01, 1.85132173e-02, 1.00102892e-01,\n",
       "       1.66204486e-02, 1.79424599e-01, 2.81798507e-01, 5.11495244e-02,\n",
       "       5.30289722e-01, 1.17650878e-01, 6.32562014e-01, 6.25753028e-01,\n",
       "       8.31809418e-01, 1.97525089e-01, 2.62872945e-02, 7.65988609e-01,\n",
       "       5.74142398e-02, 2.95838212e-01, 6.45091641e-01, 1.29975572e-01,\n",
       "       5.50993745e-02, 4.84032499e-01, 1.34162066e-01, 1.56840048e-01,\n",
       "       3.60781753e-01, 6.27784242e-01, 1.91175914e-01, 1.67201445e-01,\n",
       "       6.99786494e-01, 1.16582822e-01, 7.04350607e-02, 3.83426288e-01,\n",
       "       6.41345615e-01, 1.66258710e-01, 6.84384803e-01, 2.92379618e-01,\n",
       "       3.60410567e-02, 2.66201576e-01, 1.46958817e-01, 4.38565539e-01,\n",
       "       1.63875541e-02, 8.57424964e-04, 1.15692470e-01, 4.09233184e-01,\n",
       "       4.86367250e-01, 8.36702048e-01, 7.43291096e-01, 8.19718006e-01,\n",
       "       2.51584087e-01, 3.41522773e-01, 2.08067086e-02, 6.57040659e-02,\n",
       "       1.01223470e-01, 1.43613069e-01, 1.12141137e-01, 7.60488012e-01,\n",
       "       1.67870726e-02, 8.20253638e-02, 3.54180265e-01, 1.43878126e-01,\n",
       "       1.52192161e-01, 1.56215613e-01, 2.11988436e-01, 2.39697803e-01,\n",
       "       1.11387654e-01, 7.27561405e-02, 1.42868242e-01, 5.60738229e-02,\n",
       "       2.04822629e-01, 3.11090073e-02, 6.94152098e-01, 3.92217084e-01,\n",
       "       9.14826992e-02, 6.96812130e-01, 2.36892131e-01, 4.73248590e-01,\n",
       "       8.43551359e-02, 5.78014585e-01, 2.06259878e-01, 2.77851851e-01,\n",
       "       2.65178306e-01, 1.81174008e-01, 1.47716875e-01, 1.21131541e-01,\n",
       "       1.36063663e-01, 1.65902854e-01, 2.68949889e-02, 1.57676696e-01,\n",
       "       1.81328967e-01, 3.38022377e-01, 8.07738552e-02, 1.36195521e-01,\n",
       "       1.21538216e-01, 5.00858854e-01, 2.16491085e-01, 1.23383483e-01,\n",
       "       6.89209897e-02, 6.55115634e-01, 2.71991398e-01, 3.83387052e-01,\n",
       "       7.33759894e-02, 8.19862002e-02, 2.16519948e-01, 1.27992321e-01,\n",
       "       1.43686416e-02, 1.08031980e-01, 1.10103882e-01, 5.63824343e-01,\n",
       "       5.40748040e-01, 3.92603436e-01, 3.73346880e-02, 3.94442786e-01,\n",
       "       1.57677845e-02, 2.80721264e-01, 3.31879654e-01, 2.57695016e-01,\n",
       "       6.88829697e-01, 2.81798507e-01, 4.68423287e-01, 2.00352912e-01,\n",
       "       5.68832650e-01, 9.00770947e-02, 2.78647033e-02, 3.79712277e-01,\n",
       "       1.61158898e-01, 1.00584435e-01, 1.45824932e-01, 9.37763145e-01,\n",
       "       1.62765541e-01, 1.25770957e-01, 2.63915475e-01, 4.39240244e-01,\n",
       "       3.04281747e-01, 2.84696189e-01, 4.09507184e-02, 1.39185349e-01,\n",
       "       3.04622202e-01, 5.30710920e-02, 5.37246739e-01, 3.11566145e-02,\n",
       "       3.98817452e-01, 1.80746015e-01, 1.61181572e-01, 4.47408281e-01,\n",
       "       2.63038695e-01, 6.83434692e-01, 2.67944485e-01, 5.67861014e-01,\n",
       "       6.59802085e-01, 5.03472303e-01, 3.27443470e-01, 3.42416509e-02,\n",
       "       1.22743647e-01, 5.25792139e-02, 6.23425423e-01, 3.84326492e-01,\n",
       "       4.13070210e-01, 4.05758087e-01, 3.29097048e-01, 9.45079053e-02,\n",
       "       1.75070280e-01, 7.82283071e-01, 6.99036746e-02, 2.11652983e-01,\n",
       "       5.54133977e-01, 3.05310381e-01, 2.22252508e-01, 3.23503211e-01,\n",
       "       1.32043652e-01, 4.28094938e-01, 1.11973911e-01, 1.29671207e-01,\n",
       "       5.59684823e-01, 6.90189646e-01, 2.91820008e-02, 1.28889445e-01,\n",
       "       5.13006888e-01, 8.89574445e-01, 4.03712176e-01, 2.65470707e-01,\n",
       "       2.09299885e-02, 4.11369432e-02, 3.42278593e-01, 2.54120722e-01,\n",
       "       9.65331466e-02, 5.35482110e-01, 8.39269735e-02, 7.24284219e-02,\n",
       "       2.13352149e-01, 3.25840229e-01, 7.17761664e-01, 1.44276213e-01,\n",
       "       1.21477521e-01, 9.53212025e-02, 9.38432630e-02, 4.63570723e-01,\n",
       "       1.23830359e-01, 1.32097719e-01, 1.82962801e-01, 2.79137803e-01,\n",
       "       5.96537056e-01, 3.07826750e-01, 4.70790827e-02, 2.33436461e-01,\n",
       "       7.45197140e-02, 1.78218888e-01, 2.72326236e-01, 4.23004693e-01,\n",
       "       1.09483030e-01, 2.53433999e-01, 2.17123110e-01, 4.86342741e-02,\n",
       "       3.91404218e-01, 5.53895810e-01, 2.63520122e-01, 3.10832839e-02,\n",
       "       6.20397513e-02, 5.48557900e-03, 6.36875455e-01, 5.53698663e-02,\n",
       "       3.03339902e-01, 5.73296777e-01, 4.29176299e-01, 8.29193130e-02,\n",
       "       1.94199275e-01, 1.45514890e-01, 3.65928410e-01, 3.09220800e-01,\n",
       "       5.40748040e-01, 1.27751950e-01, 3.18329639e-02, 5.32863670e-01,\n",
       "       5.66862688e-01, 1.72084728e-01, 4.63282799e-01, 1.97385312e-01,\n",
       "       3.02514165e-01, 1.02029294e-01, 3.59436583e-01, 2.23765145e-01,\n",
       "       7.00331351e-02, 5.00237069e-01, 1.67119990e-01, 3.15613409e-01,\n",
       "       1.34987620e-01, 4.49051661e-01, 5.78230274e-01, 9.94811039e-02,\n",
       "       2.50088694e-01, 5.03563941e-02, 7.25001784e-02, 3.15833698e-02,\n",
       "       6.46267406e-01, 2.12738221e-01, 2.31986901e-02, 2.91185113e-01,\n",
       "       8.24240249e-02, 3.86763748e-02, 1.57657170e-01, 8.72015919e-02,\n",
       "       3.16187550e-01, 6.21503327e-01, 1.69368018e-01, 2.28731751e-01,\n",
       "       2.07118742e-01, 4.80420433e-01, 1.56931384e-01, 6.14547392e-01,\n",
       "       2.84334139e-02, 1.03277550e-01, 5.36905530e-01, 8.18389637e-02,\n",
       "       1.96647584e-02, 2.80994921e-02, 1.67460944e-01, 1.11509118e-01,\n",
       "       2.24254569e-01, 1.88073913e-01, 2.28920826e-01, 6.54475373e-01,\n",
       "       8.54863670e-03, 1.48351589e-01, 2.18364258e-01, 3.89060774e-02,\n",
       "       2.41333301e-01, 8.62864881e-01, 3.17314529e-01, 2.73126692e-01,\n",
       "       3.41333596e-01, 3.23687223e-02, 6.30358982e-01, 1.97830375e-01,\n",
       "       6.38148264e-01, 1.10132948e-02, 1.32886868e-02, 1.86274504e-01,\n",
       "       2.75813751e-01, 3.91373513e-01, 6.32486777e-01, 7.99517897e-02,\n",
       "       5.51247116e-01, 3.69420994e-01, 2.24091528e-01, 3.02295260e-01,\n",
       "       5.25325899e-01, 3.98817452e-01, 6.39807108e-02, 1.22390146e-01,\n",
       "       3.34693971e-01, 4.18132162e-02, 1.63878457e-01, 5.54305930e-01,\n",
       "       2.90055217e-01, 5.34751371e-01, 9.11133688e-02, 5.67167042e-01,\n",
       "       1.42750570e-02, 2.66727995e-02, 1.98008846e-01, 8.38005484e-01,\n",
       "       7.39300329e-01, 4.35157920e-01, 1.05947859e-01, 1.55185748e-01,\n",
       "       5.62316898e-01, 3.38349099e-01, 2.33353604e-01, 4.50303192e-01,\n",
       "       4.21287173e-02, 6.61457235e-01, 2.36305710e-01, 5.18382171e-01,\n",
       "       3.06041585e-02, 1.47530423e-01, 2.82482178e-01, 1.26937922e-02,\n",
       "       8.03720346e-02, 3.19834914e-01, 2.69100747e-01, 4.53823001e-01,\n",
       "       7.07125150e-01, 4.10208057e-01, 1.12110792e-02, 6.88760938e-02,\n",
       "       2.47069788e-01, 4.38629279e-01, 8.93819427e-02, 6.57052623e-02,\n",
       "       3.80018400e-02, 4.60745878e-01, 3.89038341e-01, 1.44025359e-01,\n",
       "       4.04589409e-01, 5.01942310e-01, 3.17205641e-01, 3.38207740e-01,\n",
       "       3.44212140e-02, 3.87180600e-01, 7.16517752e-02, 3.45951215e-01,\n",
       "       3.73199299e-01, 6.04566515e-01, 1.94993895e-01, 9.94160877e-02,\n",
       "       5.89133649e-02, 7.60633064e-01, 2.41198436e-01, 4.20126250e-01,\n",
       "       1.21505927e-01, 1.51108524e-01, 6.00070337e-01, 8.39263175e-01,\n",
       "       6.80898244e-01, 1.73296125e-01, 3.76932252e-02, 9.07377784e-01,\n",
       "       1.29287928e-01, 1.14266667e-01, 2.96223622e-01, 3.88417578e-01,\n",
       "       2.46168356e-01, 1.19693151e-01, 3.27912593e-01, 1.85134349e-01,\n",
       "       9.54040748e-02, 1.11645990e-01, 1.86914928e-02, 4.77311172e-01,\n",
       "       7.19947279e-01, 8.36840748e-02, 1.45816813e-01, 4.83602319e-01,\n",
       "       2.80929758e-01, 1.67600677e-01, 1.96340136e-01, 5.40748040e-01,\n",
       "       5.06061007e-01, 4.41910374e-01, 5.11179353e-01])"
      ]
     },
     "execution_count": 20,
     "metadata": {},
     "output_type": "execute_result"
    }
   ],
   "source": [
    "y_pred = predict(df_val, dv, model, feat_list=feat_list)\n",
    "y_pred"
   ]
  },
  {
   "cell_type": "code",
   "execution_count": 21,
   "metadata": {},
   "outputs": [
    {
     "name": "stdout",
     "output_type": "stream",
     "text": [
      "[ANSWER-2] The AUC of the model is: 0.812\n"
     ]
    }
   ],
   "source": [
    "roc_auc_score(df_val.default, y_pred)\n",
    "print(f\"[ANSWER-2] The AUC of the model is: {round(roc_auc_score(df_val.default, y_pred), 3)}\")"
   ]
  },
  {
   "cell_type": "markdown",
   "metadata": {},
   "source": [
    "## Question 3\n",
    "\n",
    "Now let's compute precision and recall for our model.\n",
    "\n",
    "* Evaluate the model on all thresholds from 0.0 to 1.0 with step 0.01\n",
    "* For each threshold, compute precision and recall\n",
    "* Plot them"
   ]
  },
  {
   "cell_type": "code",
   "execution_count": 22,
   "metadata": {},
   "outputs": [
    {
     "data": {
      "text/html": [
       "<div>\n",
       "<style scoped>\n",
       "    .dataframe tbody tr th:only-of-type {\n",
       "        vertical-align: middle;\n",
       "    }\n",
       "\n",
       "    .dataframe tbody tr th {\n",
       "        vertical-align: top;\n",
       "    }\n",
       "\n",
       "    .dataframe thead th {\n",
       "        text-align: right;\n",
       "    }\n",
       "</style>\n",
       "<table border=\"1\" class=\"dataframe\">\n",
       "  <thead>\n",
       "    <tr style=\"text-align: right;\">\n",
       "      <th></th>\n",
       "      <th>thr</th>\n",
       "      <th>tp</th>\n",
       "      <th>tn</th>\n",
       "      <th>fp</th>\n",
       "      <th>fn</th>\n",
       "    </tr>\n",
       "  </thead>\n",
       "  <tbody>\n",
       "    <tr>\n",
       "      <th>0</th>\n",
       "      <td>0.000000</td>\n",
       "      <td>246</td>\n",
       "      <td>0</td>\n",
       "      <td>645</td>\n",
       "      <td>0</td>\n",
       "    </tr>\n",
       "    <tr>\n",
       "      <th>1</th>\n",
       "      <td>0.010101</td>\n",
       "      <td>246</td>\n",
       "      <td>10</td>\n",
       "      <td>635</td>\n",
       "      <td>0</td>\n",
       "    </tr>\n",
       "    <tr>\n",
       "      <th>2</th>\n",
       "      <td>0.020202</td>\n",
       "      <td>244</td>\n",
       "      <td>32</td>\n",
       "      <td>613</td>\n",
       "      <td>2</td>\n",
       "    </tr>\n",
       "    <tr>\n",
       "      <th>3</th>\n",
       "      <td>0.030303</td>\n",
       "      <td>242</td>\n",
       "      <td>53</td>\n",
       "      <td>592</td>\n",
       "      <td>4</td>\n",
       "    </tr>\n",
       "    <tr>\n",
       "      <th>4</th>\n",
       "      <td>0.040404</td>\n",
       "      <td>242</td>\n",
       "      <td>82</td>\n",
       "      <td>563</td>\n",
       "      <td>4</td>\n",
       "    </tr>\n",
       "  </tbody>\n",
       "</table>\n",
       "</div>"
      ],
      "text/plain": [
       "        thr   tp  tn   fp  fn\n",
       "0  0.000000  246   0  645   0\n",
       "1  0.010101  246  10  635   0\n",
       "2  0.020202  244  32  613   2\n",
       "3  0.030303  242  53  592   4\n",
       "4  0.040404  242  82  563   4"
      ]
     },
     "execution_count": 22,
     "metadata": {},
     "output_type": "execute_result"
    }
   ],
   "source": [
    "pr_results = list()\n",
    "thresholds = np.linspace(0,1,100)\n",
    "for thr in thresholds:\n",
    "    actual_positive = (df_val.default == 1)\n",
    "    actual_negative = (df_val.default == 0)\n",
    "    \n",
    "    predict_positive = (y_pred >= thr)\n",
    "    predict_negative = (y_pred < thr)\n",
    "\n",
    "    tp = (predict_positive & actual_positive).sum()\n",
    "    tn = (predict_negative & actual_negative).sum()\n",
    "\n",
    "    fp = (predict_positive & actual_negative).sum()\n",
    "    fn = (predict_negative & actual_positive).sum()\n",
    "    \n",
    "    #print([thr, tp, tn, fp, fn])\n",
    "    \n",
    "    pr_results.append([thr, tp, tn, fp, fn])\n",
    "\n",
    "df_pr = pd.DataFrame(pr_results, columns=[\"thr\", \"tp\", \"tn\", \"fp\", \"fn\"])\n",
    "df_pr.head()"
   ]
  },
  {
   "cell_type": "code",
   "execution_count": 23,
   "metadata": {},
   "outputs": [],
   "source": [
    "df_pr[\"precision\"] = df_pr.tp / (df_pr.tp + df_pr.fp)\n",
    "df_pr[\"recall\"] = df_pr.tp / (df_pr.tp + df_pr.fn)"
   ]
  },
  {
   "cell_type": "code",
   "execution_count": 24,
   "metadata": {},
   "outputs": [
    {
     "data": {
      "text/plain": [
       "<matplotlib.legend.Legend at 0x7efc69d9f940>"
      ]
     },
     "execution_count": 24,
     "metadata": {},
     "output_type": "execute_result"
    },
    {
     "data": {
      "image/png": "[encoded data removed]",
      "text/plain": [
       "<Figure size 432x288 with 1 Axes>"
      ]
     },
     "metadata": {
      "needs_background": "light"
     },
     "output_type": "display_data"
    }
   ],
   "source": [
    "plt.plot(df_pr.thr, df_pr['precision'], label='Precision')\n",
    "plt.plot(df_pr.thr, df_pr['recall'], label='Recall')\n",
    "plt.grid(True)\n",
    "plt.legend()"
   ]
  },
  {
   "cell_type": "markdown",
   "metadata": {},
   "source": [
    "At which threshold precision and recall curves intersect?\n",
    "\n",
    "* 0.2\n",
    "* 0.4\n",
    "* 0.6\n",
    "* 0.8"
   ]
  },
  {
   "cell_type": "code",
   "execution_count": 25,
   "metadata": {},
   "outputs": [
    {
     "name": "stdout",
     "output_type": "stream",
     "text": [
      "[ANSWER-3] Precision and Recall curves intersect at thr == 0.4 (aproximately)\n"
     ]
    }
   ],
   "source": [
    "print(f\"[ANSWER-3] Precision and Recall curves intersect at thr == 0.4 (aproximately)\")"
   ]
  },
  {
   "cell_type": "markdown",
   "metadata": {},
   "source": [
    "## Question 4\n",
    "\n",
    "Precision and recall are conflicting - when one grows, the other goes down. That's why they are often combined into the F1 score - a metrics that takes into account both\n",
    "\n",
    "This is the formula for computing F1:\n",
    "\n",
    "$$F_1 = 2 \\cdot \\cfrac{P \\cdot R}{P + R}$$\n",
    "\n",
    "Where $P$ is precision and $R$ is recall.\n",
    "\n",
    "Let's compute F1 for all thresholds from 0.0 to 1.0 with increment 0.01"
   ]
  },
  {
   "cell_type": "code",
   "execution_count": 26,
   "metadata": {},
   "outputs": [],
   "source": [
    "df_pr[\"f1_score\"] = 2 * (df_pr[\"precision\"] * df_pr[\"recall\"])/(df_pr[\"precision\"] + df_pr[\"recall\"])"
   ]
  },
  {
   "cell_type": "code",
   "execution_count": 27,
   "metadata": {
    "scrolled": true
   },
   "outputs": [
    {
     "data": {
      "text/plain": [
       "<matplotlib.legend.Legend at 0x7efc6a297a60>"
      ]
     },
     "execution_count": 27,
     "metadata": {},
     "output_type": "execute_result"
    },
    {
     "data": {
      "image/png": "[encoded data removed]",
      "text/plain": [
       "<Figure size 432x288 with 1 Axes>"
      ]
     },
     "metadata": {
      "needs_background": "light"
     },
     "output_type": "display_data"
    }
   ],
   "source": [
    "plt.plot(df_pr.thr, df_pr['f1_score'], label='F1 Score')\n",
    "plt.grid(True)\n",
    "plt.legend()"
   ]
  },
  {
   "cell_type": "markdown",
   "metadata": {},
   "source": [
    "At which threshold F1 is maximal?\n",
    "\n",
    "- 0.1\n",
    "- 0.3\n",
    "- 0.5\n",
    "- 0.7"
   ]
  },
  {
   "cell_type": "code",
   "execution_count": 28,
   "metadata": {},
   "outputs": [
    {
     "name": "stdout",
     "output_type": "stream",
     "text": [
      "[ANSWER-4] F1 Score has max value at thr == 0.3 (aproximately)\n"
     ]
    }
   ],
   "source": [
    "print(f\"[ANSWER-4] F1 Score has max value at thr == 0.3 (aproximately)\")"
   ]
  },
  {
   "cell_type": "markdown",
   "metadata": {},
   "source": [
    "## Question 5\n",
    "\n",
    "\n",
    "Use the `KFold` class from Scikit-Learn to evaluate our model on 5 different folds:\n",
    "\n",
    "```\n",
    "KFold(n_splits=5, shuffle=True, random_state=1)\n",
    "```\n",
    "\n",
    "* Iterate over different folds of `df_full_train`\n",
    "* Split the data into train and validation\n",
    "* Train the model on train with these parameters: `LogisticRegression(solver='liblinear', C=1.0, max_iter=1000)`\n",
    "* Use AUC to evaluate the model on validation\n"
   ]
  },
  {
   "cell_type": "code",
   "execution_count": 29,
   "metadata": {
    "scrolled": true
   },
   "outputs": [
    {
     "data": {
      "text/plain": [
       "Index(['seniority', 'income', 'assets', 'records', 'job', 'home'], dtype='object')"
      ]
     },
     "execution_count": 29,
     "metadata": {},
     "output_type": "execute_result"
    }
   ],
   "source": [
    "df_full_train[feat_list].columns"
   ]
  },
  {
   "cell_type": "code",
   "execution_count": 30,
   "metadata": {},
   "outputs": [
    {
     "data": {
      "text/plain": [
       "['seniority', 'income', 'assets', 'records', 'job', 'home']"
      ]
     },
     "execution_count": 30,
     "metadata": {},
     "output_type": "execute_result"
    }
   ],
   "source": [
    "feat_list"
   ]
  },
  {
   "cell_type": "code",
   "execution_count": 31,
   "metadata": {},
   "outputs": [
    {
     "name": "stdout",
     "output_type": "stream",
     "text": [
      " 0.814 +- 0.0146\n"
     ]
    }
   ],
   "source": [
    "scores = []\n",
    "kfold = KFold(n_splits=5, shuffle=True, random_state=1)\n",
    "\n",
    "for train_idx, val_idx in kfold.split(df_full_train): \n",
    "    df_train = df_full_train.iloc[train_idx]\n",
    "    df_val = df_full_train.iloc[val_idx]\n",
    "\n",
    "    dv, model = train(df_train, df_train.default, feat_list=feat_list)\n",
    "    y_pred = predict(df_val, dv, model, feat_list=feat_list)\n",
    "\n",
    "    auc = roc_auc_score(df_val.default, y_pred)\n",
    "    scores.append(auc)\n",
    "\n",
    "print(' %.3f +- %.4f' % (np.mean(scores), np.std(scores)))\n",
    "    "
   ]
  },
  {
   "cell_type": "markdown",
   "metadata": {},
   "source": [
    "How large is standard devidation of the scores across different folds?\n",
    "\n",
    "- 0.001\n",
    "- 0.014\n",
    "- 0.09\n",
    "- 0.14"
   ]
  },
  {
   "cell_type": "code",
   "execution_count": 32,
   "metadata": {},
   "outputs": [
    {
     "name": "stdout",
     "output_type": "stream",
     "text": [
      "[ANSWER-5] The standard deviation is: 0.014\n"
     ]
    }
   ],
   "source": [
    "print(f\"[ANSWER-5] The standard deviation is: 0.014\")"
   ]
  },
  {
   "cell_type": "markdown",
   "metadata": {},
   "source": [
    "## Question 6\n",
    "\n",
    "Now let's use 5-Fold cross-validation to find the best parameter C\n",
    "\n",
    "* Iterate over the following C values: `[0.01, 0.1, 1, 10]`\n",
    "* Initialize `KFold` with the same parameters as previously\n",
    "* Use these parametes for the model: `LogisticRegression(solver='liblinear', C=C, max_iter=1000)`\n",
    "* Compute the mean score as well as the std (round the mean and std to 3 decimal digits)"
   ]
  },
  {
   "cell_type": "code",
   "execution_count": 33,
   "metadata": {},
   "outputs": [
    {
     "name": "stdout",
     "output_type": "stream",
     "text": [
      "C=0.01 0.809 +- 0.013\n",
      "C=0.1 0.813 +- 0.014\n",
      "C=1 0.814 +- 0.015\n",
      "C=10 0.812 +- 0.014\n"
     ]
    }
   ],
   "source": [
    "for C in (0.01, 0.1, 1, 10):\n",
    "    scores = []\n",
    "    kfold = KFold(n_splits=5, shuffle=True, random_state=1)\n",
    "\n",
    "    for train_idx, val_idx in kfold.split(df_full_train): \n",
    "        df_train = df_full_train.iloc[train_idx]\n",
    "        df_val = df_full_train.iloc[val_idx]\n",
    "\n",
    "        dv, model = train(df_train, df_train.default, feat_list=feat_list, C=C)\n",
    "        y_pred = predict(df_val, dv, model, feat_list=feat_list)\n",
    "\n",
    "        auc = roc_auc_score(df_val.default, y_pred)\n",
    "        scores.append(auc)\n",
    "    print('C=%s %.3f +- %.3f' % (C, np.mean(scores), np.std(scores)))"
   ]
  },
  {
   "cell_type": "markdown",
   "metadata": {},
   "source": [
    "Which C leads to the best mean score?\n",
    "\n",
    "- 0.01\n",
    "- 0.1\n",
    "- 1\n",
    "- 10\n",
    "\n",
    "If you have ties, select the score with the lowest std. If you still have ties, select the smallest C"
   ]
  },
  {
   "cell_type": "code",
   "execution_count": 34,
   "metadata": {},
   "outputs": [
    {
     "name": "stdout",
     "output_type": "stream",
     "text": [
      "[ANSWER-6] C=1 leads the best mean score (0.814)\n"
     ]
    }
   ],
   "source": [
    "print(f\"[ANSWER-6] C=1 leads the best mean score (0.814)\")"
   ]
  },
  {
   "cell_type": "markdown",
   "metadata": {},
   "source": [
    "## Submit the results\n",
    "\n",
    "Submit your results here: https://forms.gle/e497sR5iB36mM9Cs5\n",
    "\n",
    "It's possible that your answers won't match exactly. If it's the case, select the closest one.\n",
    "\n",
    "## Deadline\n",
    "\n",
    "The deadline for submitting is 04 October 2021, 17:00 CET. After that, the form will be closed."
   ]
  },
  {
   "cell_type": "code",
   "execution_count": null,
   "metadata": {},
   "outputs": [],
   "source": []
  }
 ],
 "metadata": {
  "kernelspec": {
   "display_name": "Python 3",
   "language": "python",
   "name": "python3"
  },
  "language_info": {
   "codemirror_mode": {
    "name": "ipython",
    "version": 3
   },
   "file_extension": ".py",
   "mimetype": "text/x-python",
   "name": "python",
   "nbconvert_exporter": "python",
   "pygments_lexer": "ipython3",
   "version": "3.8.8"
  }
 },
 "nbformat": 4,
 "nbformat_minor": 2
}
